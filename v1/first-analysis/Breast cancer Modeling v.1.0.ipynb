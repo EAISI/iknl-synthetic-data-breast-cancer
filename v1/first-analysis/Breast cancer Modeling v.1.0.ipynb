{
 "cells": [
  {
   "cell_type": "markdown",
   "id": "dee20a0e",
   "metadata": {},
   "source": [
    "# Breast Cancer synthetic data\n",
    "## Part 3. Modeling"
   ]
  },
  {
   "cell_type": "markdown",
   "id": "7b906170",
   "metadata": {},
   "source": [
    "#### by Grzegorz Furdyn"
   ]
  },
  {
   "cell_type": "markdown",
   "id": "80918763",
   "metadata": {},
   "source": [
    "## Contents"
   ]
  },
  {
   "cell_type": "markdown",
   "id": "022e2e0d",
   "metadata": {},
   "source": [
    "#### CRISP-DM Phase 3: Data Preparation\n",
    "* [Missing values handling](#miss)\n",
    "\n",
    "#### CRISP-DM Phase 4: Modeling\n",
    "* [KNN](#knn)\n",
    "* [Logistic Regression](#lr)"
   ]
  },
  {
   "cell_type": "code",
   "execution_count": 125,
   "id": "d81c7e06",
   "metadata": {
    "scrolled": false
   },
   "outputs": [],
   "source": [
    "import numpy as np\n",
    "import matplotlib.pyplot as plt\n",
    "import matplotlib.ticker as mtick\n",
    "import pandas as pd\n",
    "import seaborn as sns\n",
    "import warnings\n",
    "warnings.filterwarnings('ignore')\n",
    "pd.set_option('display.max_rows', 1000)\n",
    "from sklearn.model_selection import train_test_split, cross_validate, GridSearchCV\n",
    "from sklearn.pipeline import make_pipeline, Pipeline\n",
    "from sklearn.impute import SimpleImputer\n",
    "from sklearn.preprocessing import MinMaxScaler, StandardScaler, RobustScaler, OneHotEncoder\n",
    "from sklearn.compose import ColumnTransformer\n",
    "from sklearn.linear_model import LogisticRegressionCV\n",
    "from sklearn.ensemble import RandomForestClassifier\n",
    "from sklearn.neighbors import KNeighborsClassifier\n",
    "from sklearn.metrics import accuracy_score,confusion_matrix,classification_report,plot_confusion_matrix\n",
    "from sklearn.metrics import precision_recall_curve,plot_precision_recall_curve,plot_roc_curve\n",
    "from sklearn import metrics, set_config\n",
    "set_config(display=\"diagram\")\n",
    "np.random.seed(42)\n",
    "RANDOM_STATE = 42\n",
    "TEST_SIZE = 0.2"
   ]
  },
  {
   "cell_type": "code",
   "execution_count": 161,
   "id": "17f76abd",
   "metadata": {
    "scrolled": false
   },
   "outputs": [
    {
     "ename": "FileNotFoundError",
     "evalue": "[Errno 2] No such file or directory: 'Breast_cancer_transformed.csv'",
     "output_type": "error",
     "traceback": [
      "\u001b[1;31m---------------------------------------------------------------------------\u001b[0m",
      "\u001b[1;31mFileNotFoundError\u001b[0m                         Traceback (most recent call last)",
      "\u001b[1;32m<ipython-input-161-58360d41121d>\u001b[0m in \u001b[0;36m<module>\u001b[1;34m\u001b[0m\n\u001b[1;32m----> 1\u001b[1;33m \u001b[0mdf\u001b[0m \u001b[1;33m=\u001b[0m \u001b[0mpd\u001b[0m\u001b[1;33m.\u001b[0m\u001b[0mread_csv\u001b[0m\u001b[1;33m(\u001b[0m\u001b[1;34m'Breast_cancer_transformed.csv'\u001b[0m\u001b[1;33m)\u001b[0m\u001b[1;33m\u001b[0m\u001b[1;33m\u001b[0m\u001b[0m\n\u001b[0m",
      "\u001b[1;32mC:\\ProgramData\\Anaconda3\\lib\\site-packages\\pandas\\io\\parsers.py\u001b[0m in \u001b[0;36mread_csv\u001b[1;34m(filepath_or_buffer, sep, delimiter, header, names, index_col, usecols, squeeze, prefix, mangle_dupe_cols, dtype, engine, converters, true_values, false_values, skipinitialspace, skiprows, skipfooter, nrows, na_values, keep_default_na, na_filter, verbose, skip_blank_lines, parse_dates, infer_datetime_format, keep_date_col, date_parser, dayfirst, cache_dates, iterator, chunksize, compression, thousands, decimal, lineterminator, quotechar, quoting, doublequote, escapechar, comment, encoding, dialect, error_bad_lines, warn_bad_lines, delim_whitespace, low_memory, memory_map, float_precision, storage_options)\u001b[0m\n\u001b[0;32m    608\u001b[0m     \u001b[0mkwds\u001b[0m\u001b[1;33m.\u001b[0m\u001b[0mupdate\u001b[0m\u001b[1;33m(\u001b[0m\u001b[0mkwds_defaults\u001b[0m\u001b[1;33m)\u001b[0m\u001b[1;33m\u001b[0m\u001b[1;33m\u001b[0m\u001b[0m\n\u001b[0;32m    609\u001b[0m \u001b[1;33m\u001b[0m\u001b[0m\n\u001b[1;32m--> 610\u001b[1;33m     \u001b[1;32mreturn\u001b[0m \u001b[0m_read\u001b[0m\u001b[1;33m(\u001b[0m\u001b[0mfilepath_or_buffer\u001b[0m\u001b[1;33m,\u001b[0m \u001b[0mkwds\u001b[0m\u001b[1;33m)\u001b[0m\u001b[1;33m\u001b[0m\u001b[1;33m\u001b[0m\u001b[0m\n\u001b[0m\u001b[0;32m    611\u001b[0m \u001b[1;33m\u001b[0m\u001b[0m\n\u001b[0;32m    612\u001b[0m \u001b[1;33m\u001b[0m\u001b[0m\n",
      "\u001b[1;32mC:\\ProgramData\\Anaconda3\\lib\\site-packages\\pandas\\io\\parsers.py\u001b[0m in \u001b[0;36m_read\u001b[1;34m(filepath_or_buffer, kwds)\u001b[0m\n\u001b[0;32m    460\u001b[0m \u001b[1;33m\u001b[0m\u001b[0m\n\u001b[0;32m    461\u001b[0m     \u001b[1;31m# Create the parser.\u001b[0m\u001b[1;33m\u001b[0m\u001b[1;33m\u001b[0m\u001b[1;33m\u001b[0m\u001b[0m\n\u001b[1;32m--> 462\u001b[1;33m     \u001b[0mparser\u001b[0m \u001b[1;33m=\u001b[0m \u001b[0mTextFileReader\u001b[0m\u001b[1;33m(\u001b[0m\u001b[0mfilepath_or_buffer\u001b[0m\u001b[1;33m,\u001b[0m \u001b[1;33m**\u001b[0m\u001b[0mkwds\u001b[0m\u001b[1;33m)\u001b[0m\u001b[1;33m\u001b[0m\u001b[1;33m\u001b[0m\u001b[0m\n\u001b[0m\u001b[0;32m    463\u001b[0m \u001b[1;33m\u001b[0m\u001b[0m\n\u001b[0;32m    464\u001b[0m     \u001b[1;32mif\u001b[0m \u001b[0mchunksize\u001b[0m \u001b[1;32mor\u001b[0m \u001b[0miterator\u001b[0m\u001b[1;33m:\u001b[0m\u001b[1;33m\u001b[0m\u001b[1;33m\u001b[0m\u001b[0m\n",
      "\u001b[1;32mC:\\ProgramData\\Anaconda3\\lib\\site-packages\\pandas\\io\\parsers.py\u001b[0m in \u001b[0;36m__init__\u001b[1;34m(self, f, engine, **kwds)\u001b[0m\n\u001b[0;32m    817\u001b[0m             \u001b[0mself\u001b[0m\u001b[1;33m.\u001b[0m\u001b[0moptions\u001b[0m\u001b[1;33m[\u001b[0m\u001b[1;34m\"has_index_names\"\u001b[0m\u001b[1;33m]\u001b[0m \u001b[1;33m=\u001b[0m \u001b[0mkwds\u001b[0m\u001b[1;33m[\u001b[0m\u001b[1;34m\"has_index_names\"\u001b[0m\u001b[1;33m]\u001b[0m\u001b[1;33m\u001b[0m\u001b[1;33m\u001b[0m\u001b[0m\n\u001b[0;32m    818\u001b[0m \u001b[1;33m\u001b[0m\u001b[0m\n\u001b[1;32m--> 819\u001b[1;33m         \u001b[0mself\u001b[0m\u001b[1;33m.\u001b[0m\u001b[0m_engine\u001b[0m \u001b[1;33m=\u001b[0m \u001b[0mself\u001b[0m\u001b[1;33m.\u001b[0m\u001b[0m_make_engine\u001b[0m\u001b[1;33m(\u001b[0m\u001b[0mself\u001b[0m\u001b[1;33m.\u001b[0m\u001b[0mengine\u001b[0m\u001b[1;33m)\u001b[0m\u001b[1;33m\u001b[0m\u001b[1;33m\u001b[0m\u001b[0m\n\u001b[0m\u001b[0;32m    820\u001b[0m \u001b[1;33m\u001b[0m\u001b[0m\n\u001b[0;32m    821\u001b[0m     \u001b[1;32mdef\u001b[0m \u001b[0mclose\u001b[0m\u001b[1;33m(\u001b[0m\u001b[0mself\u001b[0m\u001b[1;33m)\u001b[0m\u001b[1;33m:\u001b[0m\u001b[1;33m\u001b[0m\u001b[1;33m\u001b[0m\u001b[0m\n",
      "\u001b[1;32mC:\\ProgramData\\Anaconda3\\lib\\site-packages\\pandas\\io\\parsers.py\u001b[0m in \u001b[0;36m_make_engine\u001b[1;34m(self, engine)\u001b[0m\n\u001b[0;32m   1048\u001b[0m             )\n\u001b[0;32m   1049\u001b[0m         \u001b[1;31m# error: Too many arguments for \"ParserBase\"\u001b[0m\u001b[1;33m\u001b[0m\u001b[1;33m\u001b[0m\u001b[1;33m\u001b[0m\u001b[0m\n\u001b[1;32m-> 1050\u001b[1;33m         \u001b[1;32mreturn\u001b[0m \u001b[0mmapping\u001b[0m\u001b[1;33m[\u001b[0m\u001b[0mengine\u001b[0m\u001b[1;33m]\u001b[0m\u001b[1;33m(\u001b[0m\u001b[0mself\u001b[0m\u001b[1;33m.\u001b[0m\u001b[0mf\u001b[0m\u001b[1;33m,\u001b[0m \u001b[1;33m**\u001b[0m\u001b[0mself\u001b[0m\u001b[1;33m.\u001b[0m\u001b[0moptions\u001b[0m\u001b[1;33m)\u001b[0m  \u001b[1;31m# type: ignore[call-arg]\u001b[0m\u001b[1;33m\u001b[0m\u001b[1;33m\u001b[0m\u001b[0m\n\u001b[0m\u001b[0;32m   1051\u001b[0m \u001b[1;33m\u001b[0m\u001b[0m\n\u001b[0;32m   1052\u001b[0m     \u001b[1;32mdef\u001b[0m \u001b[0m_failover_to_python\u001b[0m\u001b[1;33m(\u001b[0m\u001b[0mself\u001b[0m\u001b[1;33m)\u001b[0m\u001b[1;33m:\u001b[0m\u001b[1;33m\u001b[0m\u001b[1;33m\u001b[0m\u001b[0m\n",
      "\u001b[1;32mC:\\ProgramData\\Anaconda3\\lib\\site-packages\\pandas\\io\\parsers.py\u001b[0m in \u001b[0;36m__init__\u001b[1;34m(self, src, **kwds)\u001b[0m\n\u001b[0;32m   1865\u001b[0m \u001b[1;33m\u001b[0m\u001b[0m\n\u001b[0;32m   1866\u001b[0m         \u001b[1;31m# open handles\u001b[0m\u001b[1;33m\u001b[0m\u001b[1;33m\u001b[0m\u001b[1;33m\u001b[0m\u001b[0m\n\u001b[1;32m-> 1867\u001b[1;33m         \u001b[0mself\u001b[0m\u001b[1;33m.\u001b[0m\u001b[0m_open_handles\u001b[0m\u001b[1;33m(\u001b[0m\u001b[0msrc\u001b[0m\u001b[1;33m,\u001b[0m \u001b[0mkwds\u001b[0m\u001b[1;33m)\u001b[0m\u001b[1;33m\u001b[0m\u001b[1;33m\u001b[0m\u001b[0m\n\u001b[0m\u001b[0;32m   1868\u001b[0m         \u001b[1;32massert\u001b[0m \u001b[0mself\u001b[0m\u001b[1;33m.\u001b[0m\u001b[0mhandles\u001b[0m \u001b[1;32mis\u001b[0m \u001b[1;32mnot\u001b[0m \u001b[1;32mNone\u001b[0m\u001b[1;33m\u001b[0m\u001b[1;33m\u001b[0m\u001b[0m\n\u001b[0;32m   1869\u001b[0m         \u001b[1;32mfor\u001b[0m \u001b[0mkey\u001b[0m \u001b[1;32min\u001b[0m \u001b[1;33m(\u001b[0m\u001b[1;34m\"storage_options\"\u001b[0m\u001b[1;33m,\u001b[0m \u001b[1;34m\"encoding\"\u001b[0m\u001b[1;33m,\u001b[0m \u001b[1;34m\"memory_map\"\u001b[0m\u001b[1;33m,\u001b[0m \u001b[1;34m\"compression\"\u001b[0m\u001b[1;33m)\u001b[0m\u001b[1;33m:\u001b[0m\u001b[1;33m\u001b[0m\u001b[1;33m\u001b[0m\u001b[0m\n",
      "\u001b[1;32mC:\\ProgramData\\Anaconda3\\lib\\site-packages\\pandas\\io\\parsers.py\u001b[0m in \u001b[0;36m_open_handles\u001b[1;34m(self, src, kwds)\u001b[0m\n\u001b[0;32m   1360\u001b[0m         \u001b[0mLet\u001b[0m \u001b[0mthe\u001b[0m \u001b[0mreaders\u001b[0m \u001b[0mopen\u001b[0m \u001b[0mIOHanldes\u001b[0m \u001b[0mafter\u001b[0m \u001b[0mthey\u001b[0m \u001b[0mare\u001b[0m \u001b[0mdone\u001b[0m \u001b[1;32mwith\u001b[0m \u001b[0mtheir\u001b[0m \u001b[0mpotential\u001b[0m \u001b[0mraises\u001b[0m\u001b[1;33m.\u001b[0m\u001b[1;33m\u001b[0m\u001b[1;33m\u001b[0m\u001b[0m\n\u001b[0;32m   1361\u001b[0m         \"\"\"\n\u001b[1;32m-> 1362\u001b[1;33m         self.handles = get_handle(\n\u001b[0m\u001b[0;32m   1363\u001b[0m             \u001b[0msrc\u001b[0m\u001b[1;33m,\u001b[0m\u001b[1;33m\u001b[0m\u001b[1;33m\u001b[0m\u001b[0m\n\u001b[0;32m   1364\u001b[0m             \u001b[1;34m\"r\"\u001b[0m\u001b[1;33m,\u001b[0m\u001b[1;33m\u001b[0m\u001b[1;33m\u001b[0m\u001b[0m\n",
      "\u001b[1;32mC:\\ProgramData\\Anaconda3\\lib\\site-packages\\pandas\\io\\common.py\u001b[0m in \u001b[0;36mget_handle\u001b[1;34m(path_or_buf, mode, encoding, compression, memory_map, is_text, errors, storage_options)\u001b[0m\n\u001b[0;32m    640\u001b[0m                 \u001b[0merrors\u001b[0m \u001b[1;33m=\u001b[0m \u001b[1;34m\"replace\"\u001b[0m\u001b[1;33m\u001b[0m\u001b[1;33m\u001b[0m\u001b[0m\n\u001b[0;32m    641\u001b[0m             \u001b[1;31m# Encoding\u001b[0m\u001b[1;33m\u001b[0m\u001b[1;33m\u001b[0m\u001b[1;33m\u001b[0m\u001b[0m\n\u001b[1;32m--> 642\u001b[1;33m             handle = open(\n\u001b[0m\u001b[0;32m    643\u001b[0m                 \u001b[0mhandle\u001b[0m\u001b[1;33m,\u001b[0m\u001b[1;33m\u001b[0m\u001b[1;33m\u001b[0m\u001b[0m\n\u001b[0;32m    644\u001b[0m                 \u001b[0mioargs\u001b[0m\u001b[1;33m.\u001b[0m\u001b[0mmode\u001b[0m\u001b[1;33m,\u001b[0m\u001b[1;33m\u001b[0m\u001b[1;33m\u001b[0m\u001b[0m\n",
      "\u001b[1;31mFileNotFoundError\u001b[0m: [Errno 2] No such file or directory: 'Breast_cancer_transformed.csv'"
     ]
    }
   ],
   "source": [
    "df = pd.read_csv('Breast_cancer_transformed.csv')"
   ]
  },
  {
   "cell_type": "markdown",
   "id": "ceba8ac8",
   "metadata": {},
   "source": [
    "## CRISP-DM Phase 3: Data Preparation"
   ]
  },
  {
   "cell_type": "markdown",
   "id": "3b849cd8",
   "metadata": {},
   "source": [
    "<a id='miss'></a>\n",
    "### Missing values handling"
   ]
  },
  {
   "cell_type": "code",
   "execution_count": 127,
   "id": "01bef0e6",
   "metadata": {
    "scrolled": true
   },
   "outputs": [
    {
     "name": "stdout",
     "output_type": "stream",
     "text": [
      "<class 'pandas.core.frame.DataFrame'>\n",
      "RangeIndex: 5241 entries, 0 to 5240\n",
      "Data columns (total 48 columns):\n",
      " #   Column                 Non-Null Count  Dtype  \n",
      "---  ------                 --------------  -----  \n",
      " 0   leeft                  5241 non-null   int64  \n",
      " 1   vit_stat               5241 non-null   int64  \n",
      " 2   vit_stat_int           5241 non-null   int64  \n",
      " 3   tumsoort               5241 non-null   int64  \n",
      " 4   diag_basis             5241 non-null   int64  \n",
      " 5   topo_sublok            5241 non-null   object \n",
      " 6   later                  5241 non-null   object \n",
      " 7   morf                   5241 non-null   int64  \n",
      " 8   gedrag                 5241 non-null   int64  \n",
      " 9   diffgrad               5241 non-null   int64  \n",
      " 10  ct                     5241 non-null   object \n",
      " 11  cn                     5241 non-null   object \n",
      " 12  cm                     5241 non-null   object \n",
      " 13  pt                     5241 non-null   object \n",
      " 14  pn                     5241 non-null   object \n",
      " 15  pm                     5241 non-null   object \n",
      " 16  stadium                5241 non-null   object \n",
      " 17  cstadium               5241 non-null   object \n",
      " 18  pstadium               5241 non-null   object \n",
      " 19  ond_lymf               5215 non-null   float64\n",
      " 20  pos_lymf               4836 non-null   float64\n",
      " 21  er_stat                5241 non-null   object \n",
      " 22  pr_stat                5241 non-null   object \n",
      " 23  her2_stat              5241 non-null   object \n",
      " 24  dcis_comp              5241 non-null   object \n",
      " 25  multifoc               5241 non-null   object \n",
      " 26  tum_afm                4075 non-null   float64\n",
      " 27  swk                    5241 non-null   float64\n",
      " 28  swk_uitslag            5241 non-null   object \n",
      " 29  mari                   5241 non-null   object \n",
      " 30  mari_uitslag           5241 non-null   object \n",
      " 31  okd                    5241 non-null   float64\n",
      " 32  org_chir               5241 non-null   float64\n",
      " 33  uitgebr_chir_code      5241 non-null   object \n",
      " 34  dir_reconstr           5241 non-null   int64  \n",
      " 35  chemo                  5241 non-null   float64\n",
      " 36  target                 5241 non-null   float64\n",
      " 37  horm                   5241 non-null   float64\n",
      " 38  rt                     5241 non-null   float64\n",
      " 39  meta_rt                5241 non-null   float64\n",
      " 40  meta_chir              5241 non-null   float64\n",
      " 41  survival_5Y            5241 non-null   int64  \n",
      " 42  years_after_diagnosis  1299 non-null   float64\n",
      " 43  stadiumtot             5241 non-null   object \n",
      " 44  pos_lymf_range         5241 non-null   object \n",
      " 45  pos_lymf_ind           5241 non-null   int64  \n",
      " 46  age_range              5241 non-null   object \n",
      " 47  tum_afm_range          3844 non-null   object \n",
      "dtypes: float64(13), int64(11), object(24)\n",
      "memory usage: 1.9+ MB\n"
     ]
    }
   ],
   "source": [
    "df.info()"
   ]
  },
  {
   "cell_type": "markdown",
   "id": "96aca809",
   "metadata": {},
   "source": [
    "Defining subset of features as X"
   ]
  },
  {
   "cell_type": "code",
   "execution_count": 128,
   "id": "3ffcbfff",
   "metadata": {},
   "outputs": [],
   "source": [
    "df = df[['leeft', 'tumsoort', 'diag_basis', 'topo_sublok', 'later', 'morf', 'gedrag', 'diffgrad', 'ct', 'cn', 'cm',\n",
    "       'pt', 'pn', 'pm', 'stadium', 'cstadium', 'pstadium', 'ond_lymf',\n",
    "       'pos_lymf', 'er_stat', 'pr_stat', 'her2_stat', 'dcis_comp', 'multifoc',\n",
    "       'tum_afm', 'swk', 'swk_uitslag', 'mari', 'mari_uitslag', 'okd',\n",
    "       'org_chir', 'uitgebr_chir_code', 'dir_reconstr', 'chemo', 'target',\n",
    "       'horm', 'rt', 'meta_rt', 'meta_chir', 'survival_5Y']]"
   ]
  },
  {
   "cell_type": "code",
   "execution_count": 129,
   "id": "03af471e",
   "metadata": {},
   "outputs": [],
   "source": [
    "categorical_features = [ 'tumsoort',\n",
    "                         'diag_basis',\n",
    "                         'topo_sublok',\n",
    "                         'later',\n",
    "                         'morf',\n",
    "                         'gedrag',\n",
    "                         'ct',\n",
    "                         'cn',\n",
    "                         'cm',\n",
    "                         'pt',\n",
    "                         'pn',\n",
    "                         'pm',\n",
    "                         'stadium',\n",
    "                         'cstadium', \n",
    "                         'pstadium',\n",
    "                         'er_stat',\n",
    "                         'pr_stat',\n",
    "                         'her2_stat',\n",
    "                         'dcis_comp',\n",
    "                         'multifoc',\n",
    "                         'swk',\n",
    "                         'swk_uitslag',\n",
    "                         'mari',\n",
    "                         'mari_uitslag',\n",
    "                         'okd',\n",
    "                         'org_chir',\n",
    "                         'uitgebr_chir_code',\n",
    "                         'dir_reconstr',\n",
    "                         'chemo',\n",
    "                         'target',\n",
    "                         'horm',\n",
    "                         'rt',\n",
    "                         'meta_rt',\n",
    "                         'meta_chir']"
   ]
  },
  {
   "cell_type": "code",
   "execution_count": 130,
   "id": "db60b8a9",
   "metadata": {},
   "outputs": [],
   "source": [
    "numeric_features = ['leeft',\n",
    "                     'diffgrad',\n",
    "                     'ond_lymf',\n",
    "                     'pos_lymf',\n",
    "                     'tum_afm']"
   ]
  },
  {
   "cell_type": "code",
   "execution_count": 131,
   "id": "9054030f",
   "metadata": {},
   "outputs": [
    {
     "data": {
      "text/plain": [
       "['leeft', 'diffgrad', 'ond_lymf', 'pos_lymf', 'tum_afm']"
      ]
     },
     "execution_count": 131,
     "metadata": {},
     "output_type": "execute_result"
    }
   ],
   "source": [
    "numeric_features"
   ]
  },
  {
   "cell_type": "code",
   "execution_count": 132,
   "id": "0a986f12",
   "metadata": {},
   "outputs": [
    {
     "data": {
      "text/html": [
       "<div>\n",
       "<style scoped>\n",
       "    .dataframe tbody tr th:only-of-type {\n",
       "        vertical-align: middle;\n",
       "    }\n",
       "\n",
       "    .dataframe tbody tr th {\n",
       "        vertical-align: top;\n",
       "    }\n",
       "\n",
       "    .dataframe thead th {\n",
       "        text-align: right;\n",
       "    }\n",
       "</style>\n",
       "<table border=\"1\" class=\"dataframe\">\n",
       "  <thead>\n",
       "    <tr style=\"text-align: right;\">\n",
       "      <th></th>\n",
       "      <th>leeft</th>\n",
       "      <th>diffgrad</th>\n",
       "      <th>ond_lymf</th>\n",
       "      <th>pos_lymf</th>\n",
       "      <th>tum_afm</th>\n",
       "    </tr>\n",
       "  </thead>\n",
       "  <tbody>\n",
       "    <tr>\n",
       "      <th>count</th>\n",
       "      <td>5241.000000</td>\n",
       "      <td>5241.000000</td>\n",
       "      <td>5215.000000</td>\n",
       "      <td>4836.000000</td>\n",
       "      <td>4075.000000</td>\n",
       "    </tr>\n",
       "    <tr>\n",
       "      <th>mean</th>\n",
       "      <td>63.037397</td>\n",
       "      <td>3.112192</td>\n",
       "      <td>6.199233</td>\n",
       "      <td>2.283912</td>\n",
       "      <td>21.308221</td>\n",
       "    </tr>\n",
       "    <tr>\n",
       "      <th>std</th>\n",
       "      <td>13.689291</td>\n",
       "      <td>2.596167</td>\n",
       "      <td>14.858352</td>\n",
       "      <td>11.490108</td>\n",
       "      <td>24.634316</td>\n",
       "    </tr>\n",
       "    <tr>\n",
       "      <th>min</th>\n",
       "      <td>18.000000</td>\n",
       "      <td>1.000000</td>\n",
       "      <td>0.000000</td>\n",
       "      <td>0.000000</td>\n",
       "      <td>0.000000</td>\n",
       "    </tr>\n",
       "    <tr>\n",
       "      <th>25%</th>\n",
       "      <td>54.000000</td>\n",
       "      <td>2.000000</td>\n",
       "      <td>1.000000</td>\n",
       "      <td>0.000000</td>\n",
       "      <td>8.000000</td>\n",
       "    </tr>\n",
       "    <tr>\n",
       "      <th>50%</th>\n",
       "      <td>63.000000</td>\n",
       "      <td>2.000000</td>\n",
       "      <td>2.000000</td>\n",
       "      <td>0.000000</td>\n",
       "      <td>15.000000</td>\n",
       "    </tr>\n",
       "    <tr>\n",
       "      <th>75%</th>\n",
       "      <td>72.000000</td>\n",
       "      <td>3.000000</td>\n",
       "      <td>5.000000</td>\n",
       "      <td>1.000000</td>\n",
       "      <td>24.000000</td>\n",
       "    </tr>\n",
       "    <tr>\n",
       "      <th>max</th>\n",
       "      <td>104.000000</td>\n",
       "      <td>9.000000</td>\n",
       "      <td>99.000000</td>\n",
       "      <td>99.000000</td>\n",
       "      <td>245.000000</td>\n",
       "    </tr>\n",
       "  </tbody>\n",
       "</table>\n",
       "</div>"
      ],
      "text/plain": [
       "             leeft     diffgrad     ond_lymf     pos_lymf      tum_afm\n",
       "count  5241.000000  5241.000000  5215.000000  4836.000000  4075.000000\n",
       "mean     63.037397     3.112192     6.199233     2.283912    21.308221\n",
       "std      13.689291     2.596167    14.858352    11.490108    24.634316\n",
       "min      18.000000     1.000000     0.000000     0.000000     0.000000\n",
       "25%      54.000000     2.000000     1.000000     0.000000     8.000000\n",
       "50%      63.000000     2.000000     2.000000     0.000000    15.000000\n",
       "75%      72.000000     3.000000     5.000000     1.000000    24.000000\n",
       "max     104.000000     9.000000    99.000000    99.000000   245.000000"
      ]
     },
     "execution_count": 132,
     "metadata": {},
     "output_type": "execute_result"
    }
   ],
   "source": [
    "df[numeric_features].describe()"
   ]
  },
  {
   "cell_type": "code",
   "execution_count": 133,
   "id": "ad23303d",
   "metadata": {},
   "outputs": [
    {
     "data": {
      "text/plain": [
       "tum_afm     1166\n",
       "pos_lymf     405\n",
       "ond_lymf      26\n",
       "dtype: int64"
      ]
     },
     "execution_count": 133,
     "metadata": {},
     "output_type": "execute_result"
    }
   ],
   "source": [
    "df.isna().sum()[df.isna().sum() != 0].sort_values(ascending = False)"
   ]
  },
  {
   "cell_type": "code",
   "execution_count": 134,
   "id": "bd4e4f33",
   "metadata": {},
   "outputs": [],
   "source": [
    "df[numeric_features] = df[numeric_features].fillna(df[numeric_features].median())"
   ]
  },
  {
   "cell_type": "code",
   "execution_count": 135,
   "id": "6487a35a",
   "metadata": {},
   "outputs": [
    {
     "data": {
      "text/plain": [
       "Series([], dtype: int64)"
      ]
     },
     "execution_count": 135,
     "metadata": {},
     "output_type": "execute_result"
    }
   ],
   "source": [
    "df.isna().sum()[df.isna().sum() != 0].sort_values(ascending = False)"
   ]
  },
  {
   "cell_type": "code",
   "execution_count": 136,
   "id": "026746a8",
   "metadata": {},
   "outputs": [],
   "source": [
    "df[categorical_features] = df[categorical_features].astype('category')"
   ]
  },
  {
   "cell_type": "markdown",
   "id": "72859d5e",
   "metadata": {},
   "source": [
    "## CRISP-DM Phase 4: Modeling"
   ]
  },
  {
   "cell_type": "markdown",
   "id": "12d10e5c",
   "metadata": {},
   "source": [
    "<a id='knn'></a>\n",
    "### KNN"
   ]
  },
  {
   "cell_type": "code",
   "execution_count": 137,
   "id": "a3111d37",
   "metadata": {},
   "outputs": [],
   "source": [
    "#categorical_features"
   ]
  },
  {
   "cell_type": "code",
   "execution_count": 138,
   "id": "36d5471d",
   "metadata": {},
   "outputs": [
    {
     "data": {
      "text/plain": [
       "['leeft', 'diffgrad', 'ond_lymf', 'pos_lymf', 'tum_afm']"
      ]
     },
     "execution_count": 138,
     "metadata": {},
     "output_type": "execute_result"
    }
   ],
   "source": [
    "numeric_features"
   ]
  },
  {
   "cell_type": "code",
   "execution_count": 139,
   "id": "9aa6cff6",
   "metadata": {},
   "outputs": [],
   "source": [
    "def preprocess(df):\n",
    "    df_fin = pd.merge(df[categorical_features], df[numeric_features], left_index=True, right_index=True)\n",
    "    df_fin = df_fin.join(df['survival_5Y'])\n",
    "    return df_fin"
   ]
  },
  {
   "cell_type": "code",
   "execution_count": 140,
   "id": "a00c0447",
   "metadata": {},
   "outputs": [],
   "source": [
    "df = preprocess(df)"
   ]
  },
  {
   "cell_type": "code",
   "execution_count": 141,
   "id": "42a692bf",
   "metadata": {},
   "outputs": [],
   "source": [
    "X = df.drop('survival_5Y', axis = 1)"
   ]
  },
  {
   "cell_type": "code",
   "execution_count": 142,
   "id": "fdaf4ed3",
   "metadata": {},
   "outputs": [],
   "source": [
    "y = df['survival_5Y']"
   ]
  },
  {
   "cell_type": "code",
   "execution_count": 143,
   "id": "8c7aef22",
   "metadata": {},
   "outputs": [],
   "source": [
    "from sklearn.model_selection import train_test_split\n",
    "X_train, X_test, y_train, y_test = train_test_split(X, y, test_size=TEST_SIZE, random_state=RANDOM_STATE)"
   ]
  },
  {
   "cell_type": "code",
   "execution_count": 144,
   "id": "8efddc74",
   "metadata": {},
   "outputs": [
    {
     "data": {
      "text/plain": [
       "(4192, 39)"
      ]
     },
     "execution_count": 144,
     "metadata": {},
     "output_type": "execute_result"
    }
   ],
   "source": [
    "X_train.shape"
   ]
  },
  {
   "cell_type": "code",
   "execution_count": 145,
   "id": "14454445",
   "metadata": {},
   "outputs": [
    {
     "data": {
      "text/plain": [
       "(1049, 39)"
      ]
     },
     "execution_count": 145,
     "metadata": {},
     "output_type": "execute_result"
    }
   ],
   "source": [
    "X_test.shape"
   ]
  },
  {
   "cell_type": "code",
   "execution_count": 146,
   "id": "b5408759",
   "metadata": {},
   "outputs": [],
   "source": [
    "numerical_transformer = Pipeline(steps=[\n",
    "    ('imputer', SimpleImputer(strategy='median')),\n",
    "    ('scaler', StandardScaler())])"
   ]
  },
  {
   "cell_type": "code",
   "execution_count": 147,
   "id": "46d0b583",
   "metadata": {},
   "outputs": [],
   "source": [
    "categorical_transformer = Pipeline(steps=[\n",
    "    ('imputer', SimpleImputer(strategy='constant', fill_value='missing')),\n",
    "    ('onehot', OneHotEncoder(handle_unknown='ignore'))])"
   ]
  },
  {
   "cell_type": "code",
   "execution_count": 148,
   "id": "06a5df02",
   "metadata": {},
   "outputs": [],
   "source": [
    "preprocessor = ColumnTransformer(\n",
    "    transformers=[\n",
    "        ('num', numerical_transformer, numeric_features),\n",
    "        ('cat', categorical_transformer, categorical_features)])"
   ]
  },
  {
   "cell_type": "code",
   "execution_count": 149,
   "id": "6ef89aef",
   "metadata": {},
   "outputs": [],
   "source": [
    "model_KNN = KNeighborsClassifier()"
   ]
  },
  {
   "cell_type": "code",
   "execution_count": 150,
   "id": "34d3137b",
   "metadata": {},
   "outputs": [],
   "source": [
    "rf = Pipeline(steps=[('preprocessor', preprocessor),\n",
    "                      ('classifier', model_KNN)])"
   ]
  },
  {
   "cell_type": "code",
   "execution_count": 151,
   "id": "ef6380da",
   "metadata": {},
   "outputs": [
    {
     "data": {
      "text/html": [
       "<style>div.sk-top-container {color: black;background-color: white;}div.sk-toggleable {background-color: white;}label.sk-toggleable__label {cursor: pointer;display: block;width: 100%;margin-bottom: 0;padding: 0.2em 0.3em;box-sizing: border-box;text-align: center;}div.sk-toggleable__content {max-height: 0;max-width: 0;overflow: hidden;text-align: left;background-color: #f0f8ff;}div.sk-toggleable__content pre {margin: 0.2em;color: black;border-radius: 0.25em;background-color: #f0f8ff;}input.sk-toggleable__control:checked~div.sk-toggleable__content {max-height: 200px;max-width: 100%;overflow: auto;}div.sk-estimator input.sk-toggleable__control:checked~label.sk-toggleable__label {background-color: #d4ebff;}div.sk-label input.sk-toggleable__control:checked~label.sk-toggleable__label {background-color: #d4ebff;}input.sk-hidden--visually {border: 0;clip: rect(1px 1px 1px 1px);clip: rect(1px, 1px, 1px, 1px);height: 1px;margin: -1px;overflow: hidden;padding: 0;position: absolute;width: 1px;}div.sk-estimator {font-family: monospace;background-color: #f0f8ff;margin: 0.25em 0.25em;border: 1px dotted black;border-radius: 0.25em;box-sizing: border-box;}div.sk-estimator:hover {background-color: #d4ebff;}div.sk-parallel-item::after {content: \"\";width: 100%;border-bottom: 1px solid gray;flex-grow: 1;}div.sk-label:hover label.sk-toggleable__label {background-color: #d4ebff;}div.sk-serial::before {content: \"\";position: absolute;border-left: 1px solid gray;box-sizing: border-box;top: 2em;bottom: 0;left: 50%;}div.sk-serial {display: flex;flex-direction: column;align-items: center;background-color: white;}div.sk-item {z-index: 1;}div.sk-parallel {display: flex;align-items: stretch;justify-content: center;background-color: white;}div.sk-parallel-item {display: flex;flex-direction: column;position: relative;background-color: white;}div.sk-parallel-item:first-child::after {align-self: flex-end;width: 50%;}div.sk-parallel-item:last-child::after {align-self: flex-start;width: 50%;}div.sk-parallel-item:only-child::after {width: 0;}div.sk-dashed-wrapped {border: 1px dashed gray;margin: 0.2em;box-sizing: border-box;padding-bottom: 0.1em;background-color: white;position: relative;}div.sk-label label {font-family: monospace;font-weight: bold;background-color: white;display: inline-block;line-height: 1.2em;}div.sk-label-container {position: relative;z-index: 2;text-align: center;}div.sk-container {display: inline-block;position: relative;}</style><div class=\"sk-top-container\"><div class=\"sk-container\"><div class=\"sk-item sk-dashed-wrapped\"><div class=\"sk-label-container\"><div class=\"sk-label sk-toggleable\"><input class=\"sk-toggleable__control sk-hidden--visually\" id=\"b67c9130-676b-49e7-a328-cf16f1cd7927\" type=\"checkbox\" ><label class=\"sk-toggleable__label\" for=\"b67c9130-676b-49e7-a328-cf16f1cd7927\">Pipeline</label><div class=\"sk-toggleable__content\"><pre>Pipeline(steps=[('preprocessor',\n",
       "                 ColumnTransformer(transformers=[('num',\n",
       "                                                  Pipeline(steps=[('imputer',\n",
       "                                                                   SimpleImputer(strategy='median')),\n",
       "                                                                  ('scaler',\n",
       "                                                                   StandardScaler())]),\n",
       "                                                  ['leeft', 'diffgrad',\n",
       "                                                   'ond_lymf', 'pos_lymf',\n",
       "                                                   'tum_afm']),\n",
       "                                                 ('cat',\n",
       "                                                  Pipeline(steps=[('imputer',\n",
       "                                                                   SimpleImputer(fill_value='missing',\n",
       "                                                                                 strategy='constant')),\n",
       "                                                                  ('onehot',\n",
       "                                                                   OneHotEncoder(handle_unknown='ignore'))]),\n",
       "                                                  ['tumsoort', 'diag_basis',\n",
       "                                                   'topo_sublok', 'later',\n",
       "                                                   'morf', 'gedrag', 'ct', 'cn',\n",
       "                                                   'cm', 'pt', 'pn', 'pm',\n",
       "                                                   'stadium', 'cstadium',\n",
       "                                                   'pstadium', 'er_stat',\n",
       "                                                   'pr_stat', 'her2_stat',\n",
       "                                                   'dcis_comp', 'multifoc',\n",
       "                                                   'swk', 'swk_uitslag', 'mari',\n",
       "                                                   'mari_uitslag', 'okd',\n",
       "                                                   'org_chir',\n",
       "                                                   'uitgebr_chir_code',\n",
       "                                                   'dir_reconstr', 'chemo',\n",
       "                                                   'target', ...])])),\n",
       "                ('classifier', KNeighborsClassifier())])</pre></div></div></div><div class=\"sk-serial\"><div class=\"sk-item sk-dashed-wrapped\"><div class=\"sk-label-container\"><div class=\"sk-label sk-toggleable\"><input class=\"sk-toggleable__control sk-hidden--visually\" id=\"2d51b197-a2a5-4935-a6ca-5069e314c501\" type=\"checkbox\" ><label class=\"sk-toggleable__label\" for=\"2d51b197-a2a5-4935-a6ca-5069e314c501\">preprocessor: ColumnTransformer</label><div class=\"sk-toggleable__content\"><pre>ColumnTransformer(transformers=[('num',\n",
       "                                 Pipeline(steps=[('imputer',\n",
       "                                                  SimpleImputer(strategy='median')),\n",
       "                                                 ('scaler', StandardScaler())]),\n",
       "                                 ['leeft', 'diffgrad', 'ond_lymf', 'pos_lymf',\n",
       "                                  'tum_afm']),\n",
       "                                ('cat',\n",
       "                                 Pipeline(steps=[('imputer',\n",
       "                                                  SimpleImputer(fill_value='missing',\n",
       "                                                                strategy='constant')),\n",
       "                                                 ('onehot',\n",
       "                                                  OneHotEncoder(handle_unknown='ignore'))]),\n",
       "                                 ['tumsoort', 'diag_basis', 'topo_sublok',\n",
       "                                  'later', 'morf', 'gedrag', 'ct', 'cn', 'cm',\n",
       "                                  'pt', 'pn', 'pm', 'stadium', 'cstadium',\n",
       "                                  'pstadium', 'er_stat', 'pr_stat', 'her2_stat',\n",
       "                                  'dcis_comp', 'multifoc', 'swk', 'swk_uitslag',\n",
       "                                  'mari', 'mari_uitslag', 'okd', 'org_chir',\n",
       "                                  'uitgebr_chir_code', 'dir_reconstr', 'chemo',\n",
       "                                  'target', ...])])</pre></div></div></div><div class=\"sk-parallel\"><div class=\"sk-parallel-item\"><div class=\"sk-item\"><div class=\"sk-label-container\"><div class=\"sk-label sk-toggleable\"><input class=\"sk-toggleable__control sk-hidden--visually\" id=\"9c5e921f-4cfd-460f-9b90-7be6a31932de\" type=\"checkbox\" ><label class=\"sk-toggleable__label\" for=\"9c5e921f-4cfd-460f-9b90-7be6a31932de\">num</label><div class=\"sk-toggleable__content\"><pre>['leeft', 'diffgrad', 'ond_lymf', 'pos_lymf', 'tum_afm']</pre></div></div></div><div class=\"sk-serial\"><div class=\"sk-item\"><div class=\"sk-serial\"><div class=\"sk-item\"><div class=\"sk-estimator sk-toggleable\"><input class=\"sk-toggleable__control sk-hidden--visually\" id=\"152d2f24-31db-4db1-817d-56cdb51e62a9\" type=\"checkbox\" ><label class=\"sk-toggleable__label\" for=\"152d2f24-31db-4db1-817d-56cdb51e62a9\">SimpleImputer</label><div class=\"sk-toggleable__content\"><pre>SimpleImputer(strategy='median')</pre></div></div></div><div class=\"sk-item\"><div class=\"sk-estimator sk-toggleable\"><input class=\"sk-toggleable__control sk-hidden--visually\" id=\"e28ac304-7218-4e0b-96c0-1bc6bb132d77\" type=\"checkbox\" ><label class=\"sk-toggleable__label\" for=\"e28ac304-7218-4e0b-96c0-1bc6bb132d77\">StandardScaler</label><div class=\"sk-toggleable__content\"><pre>StandardScaler()</pre></div></div></div></div></div></div></div></div><div class=\"sk-parallel-item\"><div class=\"sk-item\"><div class=\"sk-label-container\"><div class=\"sk-label sk-toggleable\"><input class=\"sk-toggleable__control sk-hidden--visually\" id=\"5584f78c-d557-4eb4-a1ee-3f7afe379cc0\" type=\"checkbox\" ><label class=\"sk-toggleable__label\" for=\"5584f78c-d557-4eb4-a1ee-3f7afe379cc0\">cat</label><div class=\"sk-toggleable__content\"><pre>['tumsoort', 'diag_basis', 'topo_sublok', 'later', 'morf', 'gedrag', 'ct', 'cn', 'cm', 'pt', 'pn', 'pm', 'stadium', 'cstadium', 'pstadium', 'er_stat', 'pr_stat', 'her2_stat', 'dcis_comp', 'multifoc', 'swk', 'swk_uitslag', 'mari', 'mari_uitslag', 'okd', 'org_chir', 'uitgebr_chir_code', 'dir_reconstr', 'chemo', 'target', 'horm', 'rt', 'meta_rt', 'meta_chir']</pre></div></div></div><div class=\"sk-serial\"><div class=\"sk-item\"><div class=\"sk-serial\"><div class=\"sk-item\"><div class=\"sk-estimator sk-toggleable\"><input class=\"sk-toggleable__control sk-hidden--visually\" id=\"7fe2d48c-7f0d-433c-aa95-ccb52dd8758e\" type=\"checkbox\" ><label class=\"sk-toggleable__label\" for=\"7fe2d48c-7f0d-433c-aa95-ccb52dd8758e\">SimpleImputer</label><div class=\"sk-toggleable__content\"><pre>SimpleImputer(fill_value='missing', strategy='constant')</pre></div></div></div><div class=\"sk-item\"><div class=\"sk-estimator sk-toggleable\"><input class=\"sk-toggleable__control sk-hidden--visually\" id=\"5f8cc90e-6c89-49a9-bad5-7bbbcf0fcfcc\" type=\"checkbox\" ><label class=\"sk-toggleable__label\" for=\"5f8cc90e-6c89-49a9-bad5-7bbbcf0fcfcc\">OneHotEncoder</label><div class=\"sk-toggleable__content\"><pre>OneHotEncoder(handle_unknown='ignore')</pre></div></div></div></div></div></div></div></div></div></div><div class=\"sk-item\"><div class=\"sk-estimator sk-toggleable\"><input class=\"sk-toggleable__control sk-hidden--visually\" id=\"471fbdf1-b9c6-4411-b22c-1b908dee180a\" type=\"checkbox\" ><label class=\"sk-toggleable__label\" for=\"471fbdf1-b9c6-4411-b22c-1b908dee180a\">KNeighborsClassifier</label><div class=\"sk-toggleable__content\"><pre>KNeighborsClassifier()</pre></div></div></div></div></div></div></div>"
      ],
      "text/plain": [
       "Pipeline(steps=[('preprocessor',\n",
       "                 ColumnTransformer(transformers=[('num',\n",
       "                                                  Pipeline(steps=[('imputer',\n",
       "                                                                   SimpleImputer(strategy='median')),\n",
       "                                                                  ('scaler',\n",
       "                                                                   StandardScaler())]),\n",
       "                                                  ['leeft', 'diffgrad',\n",
       "                                                   'ond_lymf', 'pos_lymf',\n",
       "                                                   'tum_afm']),\n",
       "                                                 ('cat',\n",
       "                                                  Pipeline(steps=[('imputer',\n",
       "                                                                   SimpleImputer(fill_value='missing',\n",
       "                                                                                 strategy='constant')),\n",
       "                                                                  ('onehot',\n",
       "                                                                   OneHotEncoder(handle_unknown='ignore'))]),\n",
       "                                                  ['tumsoort', 'diag_basis',\n",
       "                                                   'topo_sublok', 'later',\n",
       "                                                   'morf', 'gedrag', 'ct', 'cn',\n",
       "                                                   'cm', 'pt', 'pn', 'pm',\n",
       "                                                   'stadium', 'cstadium',\n",
       "                                                   'pstadium', 'er_stat',\n",
       "                                                   'pr_stat', 'her2_stat',\n",
       "                                                   'dcis_comp', 'multifoc',\n",
       "                                                   'swk', 'swk_uitslag', 'mari',\n",
       "                                                   'mari_uitslag', 'okd',\n",
       "                                                   'org_chir',\n",
       "                                                   'uitgebr_chir_code',\n",
       "                                                   'dir_reconstr', 'chemo',\n",
       "                                                   'target', ...])])),\n",
       "                ('classifier', KNeighborsClassifier())])"
      ]
     },
     "execution_count": 151,
     "metadata": {},
     "output_type": "execute_result"
    }
   ],
   "source": [
    "rf.fit(X_train, y_train)"
   ]
  },
  {
   "cell_type": "code",
   "execution_count": 152,
   "id": "6ed183dd",
   "metadata": {},
   "outputs": [],
   "source": [
    "y_pred_rf =rf.predict(X_test)"
   ]
  },
  {
   "cell_type": "code",
   "execution_count": 153,
   "id": "907a82f4",
   "metadata": {},
   "outputs": [
    {
     "data": {
      "text/plain": [
       "array([[ 21, 164],\n",
       "       [ 43, 821]], dtype=int64)"
      ]
     },
     "execution_count": 153,
     "metadata": {},
     "output_type": "execute_result"
    }
   ],
   "source": [
    "confusion_matrix(y_test,y_pred_rf)"
   ]
  },
  {
   "cell_type": "code",
   "execution_count": 154,
   "id": "affc440a",
   "metadata": {},
   "outputs": [
    {
     "name": "stdout",
     "output_type": "stream",
     "text": [
      "              precision    recall  f1-score   support\n",
      "\n",
      "           0       0.33      0.11      0.17       185\n",
      "           1       0.83      0.95      0.89       864\n",
      "\n",
      "    accuracy                           0.80      1049\n",
      "   macro avg       0.58      0.53      0.53      1049\n",
      "weighted avg       0.74      0.80      0.76      1049\n",
      "\n"
     ]
    }
   ],
   "source": [
    "print(classification_report(y_test,y_pred_rf))"
   ]
  },
  {
   "cell_type": "markdown",
   "id": "50426498",
   "metadata": {},
   "source": [
    "<a id='lr'></a>\n",
    "### Logistic Regression"
   ]
  },
  {
   "cell_type": "code",
   "execution_count": 155,
   "id": "6bc8f5a7",
   "metadata": {},
   "outputs": [],
   "source": [
    "model_LR = LogisticRegressionCV()"
   ]
  },
  {
   "cell_type": "code",
   "execution_count": 156,
   "id": "816f33ca",
   "metadata": {},
   "outputs": [],
   "source": [
    "rf = Pipeline(steps=[('preprocessor', preprocessor),\n",
    "                      ('classifier', model_LR)])"
   ]
  },
  {
   "cell_type": "code",
   "execution_count": 157,
   "id": "9b928ed6",
   "metadata": {},
   "outputs": [
    {
     "data": {
      "text/html": [
       "<style>div.sk-top-container {color: black;background-color: white;}div.sk-toggleable {background-color: white;}label.sk-toggleable__label {cursor: pointer;display: block;width: 100%;margin-bottom: 0;padding: 0.2em 0.3em;box-sizing: border-box;text-align: center;}div.sk-toggleable__content {max-height: 0;max-width: 0;overflow: hidden;text-align: left;background-color: #f0f8ff;}div.sk-toggleable__content pre {margin: 0.2em;color: black;border-radius: 0.25em;background-color: #f0f8ff;}input.sk-toggleable__control:checked~div.sk-toggleable__content {max-height: 200px;max-width: 100%;overflow: auto;}div.sk-estimator input.sk-toggleable__control:checked~label.sk-toggleable__label {background-color: #d4ebff;}div.sk-label input.sk-toggleable__control:checked~label.sk-toggleable__label {background-color: #d4ebff;}input.sk-hidden--visually {border: 0;clip: rect(1px 1px 1px 1px);clip: rect(1px, 1px, 1px, 1px);height: 1px;margin: -1px;overflow: hidden;padding: 0;position: absolute;width: 1px;}div.sk-estimator {font-family: monospace;background-color: #f0f8ff;margin: 0.25em 0.25em;border: 1px dotted black;border-radius: 0.25em;box-sizing: border-box;}div.sk-estimator:hover {background-color: #d4ebff;}div.sk-parallel-item::after {content: \"\";width: 100%;border-bottom: 1px solid gray;flex-grow: 1;}div.sk-label:hover label.sk-toggleable__label {background-color: #d4ebff;}div.sk-serial::before {content: \"\";position: absolute;border-left: 1px solid gray;box-sizing: border-box;top: 2em;bottom: 0;left: 50%;}div.sk-serial {display: flex;flex-direction: column;align-items: center;background-color: white;}div.sk-item {z-index: 1;}div.sk-parallel {display: flex;align-items: stretch;justify-content: center;background-color: white;}div.sk-parallel-item {display: flex;flex-direction: column;position: relative;background-color: white;}div.sk-parallel-item:first-child::after {align-self: flex-end;width: 50%;}div.sk-parallel-item:last-child::after {align-self: flex-start;width: 50%;}div.sk-parallel-item:only-child::after {width: 0;}div.sk-dashed-wrapped {border: 1px dashed gray;margin: 0.2em;box-sizing: border-box;padding-bottom: 0.1em;background-color: white;position: relative;}div.sk-label label {font-family: monospace;font-weight: bold;background-color: white;display: inline-block;line-height: 1.2em;}div.sk-label-container {position: relative;z-index: 2;text-align: center;}div.sk-container {display: inline-block;position: relative;}</style><div class=\"sk-top-container\"><div class=\"sk-container\"><div class=\"sk-item sk-dashed-wrapped\"><div class=\"sk-label-container\"><div class=\"sk-label sk-toggleable\"><input class=\"sk-toggleable__control sk-hidden--visually\" id=\"56eee68c-00d4-43c0-929f-43ef16ef5f18\" type=\"checkbox\" ><label class=\"sk-toggleable__label\" for=\"56eee68c-00d4-43c0-929f-43ef16ef5f18\">Pipeline</label><div class=\"sk-toggleable__content\"><pre>Pipeline(steps=[('preprocessor',\n",
       "                 ColumnTransformer(transformers=[('num',\n",
       "                                                  Pipeline(steps=[('imputer',\n",
       "                                                                   SimpleImputer(strategy='median')),\n",
       "                                                                  ('scaler',\n",
       "                                                                   StandardScaler())]),\n",
       "                                                  ['leeft', 'diffgrad',\n",
       "                                                   'ond_lymf', 'pos_lymf',\n",
       "                                                   'tum_afm']),\n",
       "                                                 ('cat',\n",
       "                                                  Pipeline(steps=[('imputer',\n",
       "                                                                   SimpleImputer(fill_value='missing',\n",
       "                                                                                 strategy='constant')),\n",
       "                                                                  ('onehot',\n",
       "                                                                   OneHotEncoder(handle_unknown='ignore'))]),\n",
       "                                                  ['tumsoort', 'diag_basis',\n",
       "                                                   'topo_sublok', 'later',\n",
       "                                                   'morf', 'gedrag', 'ct', 'cn',\n",
       "                                                   'cm', 'pt', 'pn', 'pm',\n",
       "                                                   'stadium', 'cstadium',\n",
       "                                                   'pstadium', 'er_stat',\n",
       "                                                   'pr_stat', 'her2_stat',\n",
       "                                                   'dcis_comp', 'multifoc',\n",
       "                                                   'swk', 'swk_uitslag', 'mari',\n",
       "                                                   'mari_uitslag', 'okd',\n",
       "                                                   'org_chir',\n",
       "                                                   'uitgebr_chir_code',\n",
       "                                                   'dir_reconstr', 'chemo',\n",
       "                                                   'target', ...])])),\n",
       "                ('classifier', LogisticRegressionCV())])</pre></div></div></div><div class=\"sk-serial\"><div class=\"sk-item sk-dashed-wrapped\"><div class=\"sk-label-container\"><div class=\"sk-label sk-toggleable\"><input class=\"sk-toggleable__control sk-hidden--visually\" id=\"b30f980b-7e82-4d2e-a1d0-1babd79b34ef\" type=\"checkbox\" ><label class=\"sk-toggleable__label\" for=\"b30f980b-7e82-4d2e-a1d0-1babd79b34ef\">preprocessor: ColumnTransformer</label><div class=\"sk-toggleable__content\"><pre>ColumnTransformer(transformers=[('num',\n",
       "                                 Pipeline(steps=[('imputer',\n",
       "                                                  SimpleImputer(strategy='median')),\n",
       "                                                 ('scaler', StandardScaler())]),\n",
       "                                 ['leeft', 'diffgrad', 'ond_lymf', 'pos_lymf',\n",
       "                                  'tum_afm']),\n",
       "                                ('cat',\n",
       "                                 Pipeline(steps=[('imputer',\n",
       "                                                  SimpleImputer(fill_value='missing',\n",
       "                                                                strategy='constant')),\n",
       "                                                 ('onehot',\n",
       "                                                  OneHotEncoder(handle_unknown='ignore'))]),\n",
       "                                 ['tumsoort', 'diag_basis', 'topo_sublok',\n",
       "                                  'later', 'morf', 'gedrag', 'ct', 'cn', 'cm',\n",
       "                                  'pt', 'pn', 'pm', 'stadium', 'cstadium',\n",
       "                                  'pstadium', 'er_stat', 'pr_stat', 'her2_stat',\n",
       "                                  'dcis_comp', 'multifoc', 'swk', 'swk_uitslag',\n",
       "                                  'mari', 'mari_uitslag', 'okd', 'org_chir',\n",
       "                                  'uitgebr_chir_code', 'dir_reconstr', 'chemo',\n",
       "                                  'target', ...])])</pre></div></div></div><div class=\"sk-parallel\"><div class=\"sk-parallel-item\"><div class=\"sk-item\"><div class=\"sk-label-container\"><div class=\"sk-label sk-toggleable\"><input class=\"sk-toggleable__control sk-hidden--visually\" id=\"07c89736-8805-4584-a402-8ba06d6d70f1\" type=\"checkbox\" ><label class=\"sk-toggleable__label\" for=\"07c89736-8805-4584-a402-8ba06d6d70f1\">num</label><div class=\"sk-toggleable__content\"><pre>['leeft', 'diffgrad', 'ond_lymf', 'pos_lymf', 'tum_afm']</pre></div></div></div><div class=\"sk-serial\"><div class=\"sk-item\"><div class=\"sk-serial\"><div class=\"sk-item\"><div class=\"sk-estimator sk-toggleable\"><input class=\"sk-toggleable__control sk-hidden--visually\" id=\"1fcbe514-6dde-4109-bc7c-d10eaa6b8036\" type=\"checkbox\" ><label class=\"sk-toggleable__label\" for=\"1fcbe514-6dde-4109-bc7c-d10eaa6b8036\">SimpleImputer</label><div class=\"sk-toggleable__content\"><pre>SimpleImputer(strategy='median')</pre></div></div></div><div class=\"sk-item\"><div class=\"sk-estimator sk-toggleable\"><input class=\"sk-toggleable__control sk-hidden--visually\" id=\"ef95138c-e3bc-476c-8ecd-7a966786ffec\" type=\"checkbox\" ><label class=\"sk-toggleable__label\" for=\"ef95138c-e3bc-476c-8ecd-7a966786ffec\">StandardScaler</label><div class=\"sk-toggleable__content\"><pre>StandardScaler()</pre></div></div></div></div></div></div></div></div><div class=\"sk-parallel-item\"><div class=\"sk-item\"><div class=\"sk-label-container\"><div class=\"sk-label sk-toggleable\"><input class=\"sk-toggleable__control sk-hidden--visually\" id=\"8464dfd5-293e-4d0d-95ed-a8ec81261e66\" type=\"checkbox\" ><label class=\"sk-toggleable__label\" for=\"8464dfd5-293e-4d0d-95ed-a8ec81261e66\">cat</label><div class=\"sk-toggleable__content\"><pre>['tumsoort', 'diag_basis', 'topo_sublok', 'later', 'morf', 'gedrag', 'ct', 'cn', 'cm', 'pt', 'pn', 'pm', 'stadium', 'cstadium', 'pstadium', 'er_stat', 'pr_stat', 'her2_stat', 'dcis_comp', 'multifoc', 'swk', 'swk_uitslag', 'mari', 'mari_uitslag', 'okd', 'org_chir', 'uitgebr_chir_code', 'dir_reconstr', 'chemo', 'target', 'horm', 'rt', 'meta_rt', 'meta_chir']</pre></div></div></div><div class=\"sk-serial\"><div class=\"sk-item\"><div class=\"sk-serial\"><div class=\"sk-item\"><div class=\"sk-estimator sk-toggleable\"><input class=\"sk-toggleable__control sk-hidden--visually\" id=\"6e9f91c8-94c4-4295-96fd-13391860c5b5\" type=\"checkbox\" ><label class=\"sk-toggleable__label\" for=\"6e9f91c8-94c4-4295-96fd-13391860c5b5\">SimpleImputer</label><div class=\"sk-toggleable__content\"><pre>SimpleImputer(fill_value='missing', strategy='constant')</pre></div></div></div><div class=\"sk-item\"><div class=\"sk-estimator sk-toggleable\"><input class=\"sk-toggleable__control sk-hidden--visually\" id=\"897c056c-0fda-4cbb-80d9-8b975d7b93f0\" type=\"checkbox\" ><label class=\"sk-toggleable__label\" for=\"897c056c-0fda-4cbb-80d9-8b975d7b93f0\">OneHotEncoder</label><div class=\"sk-toggleable__content\"><pre>OneHotEncoder(handle_unknown='ignore')</pre></div></div></div></div></div></div></div></div></div></div><div class=\"sk-item\"><div class=\"sk-estimator sk-toggleable\"><input class=\"sk-toggleable__control sk-hidden--visually\" id=\"1519a84e-cc99-4c11-8888-f59bfe6c219a\" type=\"checkbox\" ><label class=\"sk-toggleable__label\" for=\"1519a84e-cc99-4c11-8888-f59bfe6c219a\">LogisticRegressionCV</label><div class=\"sk-toggleable__content\"><pre>LogisticRegressionCV()</pre></div></div></div></div></div></div></div>"
      ],
      "text/plain": [
       "Pipeline(steps=[('preprocessor',\n",
       "                 ColumnTransformer(transformers=[('num',\n",
       "                                                  Pipeline(steps=[('imputer',\n",
       "                                                                   SimpleImputer(strategy='median')),\n",
       "                                                                  ('scaler',\n",
       "                                                                   StandardScaler())]),\n",
       "                                                  ['leeft', 'diffgrad',\n",
       "                                                   'ond_lymf', 'pos_lymf',\n",
       "                                                   'tum_afm']),\n",
       "                                                 ('cat',\n",
       "                                                  Pipeline(steps=[('imputer',\n",
       "                                                                   SimpleImputer(fill_value='missing',\n",
       "                                                                                 strategy='constant')),\n",
       "                                                                  ('onehot',\n",
       "                                                                   OneHotEncoder(handle_unknown='ignore'))]),\n",
       "                                                  ['tumsoort', 'diag_basis',\n",
       "                                                   'topo_sublok', 'later',\n",
       "                                                   'morf', 'gedrag', 'ct', 'cn',\n",
       "                                                   'cm', 'pt', 'pn', 'pm',\n",
       "                                                   'stadium', 'cstadium',\n",
       "                                                   'pstadium', 'er_stat',\n",
       "                                                   'pr_stat', 'her2_stat',\n",
       "                                                   'dcis_comp', 'multifoc',\n",
       "                                                   'swk', 'swk_uitslag', 'mari',\n",
       "                                                   'mari_uitslag', 'okd',\n",
       "                                                   'org_chir',\n",
       "                                                   'uitgebr_chir_code',\n",
       "                                                   'dir_reconstr', 'chemo',\n",
       "                                                   'target', ...])])),\n",
       "                ('classifier', LogisticRegressionCV())])"
      ]
     },
     "execution_count": 157,
     "metadata": {},
     "output_type": "execute_result"
    }
   ],
   "source": [
    "rf.fit(X_train, y_train)"
   ]
  },
  {
   "cell_type": "code",
   "execution_count": 158,
   "id": "324e5153",
   "metadata": {},
   "outputs": [],
   "source": [
    "y_pred_rf =rf.predict(X_test)"
   ]
  },
  {
   "cell_type": "code",
   "execution_count": 159,
   "id": "6913e205",
   "metadata": {},
   "outputs": [
    {
     "data": {
      "text/plain": [
       "array([[  7, 178],\n",
       "       [  3, 861]], dtype=int64)"
      ]
     },
     "execution_count": 159,
     "metadata": {},
     "output_type": "execute_result"
    }
   ],
   "source": [
    "confusion_matrix(y_test,y_pred_rf)"
   ]
  },
  {
   "cell_type": "code",
   "execution_count": 160,
   "id": "7aaec714",
   "metadata": {},
   "outputs": [
    {
     "name": "stdout",
     "output_type": "stream",
     "text": [
      "              precision    recall  f1-score   support\n",
      "\n",
      "           0       0.70      0.04      0.07       185\n",
      "           1       0.83      1.00      0.90       864\n",
      "\n",
      "    accuracy                           0.83      1049\n",
      "   macro avg       0.76      0.52      0.49      1049\n",
      "weighted avg       0.81      0.83      0.76      1049\n",
      "\n"
     ]
    }
   ],
   "source": [
    "print(classification_report(y_test,y_pred_rf))"
   ]
  },
  {
   "cell_type": "code",
   "execution_count": null,
   "id": "28a03bef",
   "metadata": {},
   "outputs": [],
   "source": []
  }
 ],
 "metadata": {
  "kernelspec": {
   "display_name": "Python 3",
   "language": "python",
   "name": "python3"
  },
  "language_info": {
   "codemirror_mode": {
    "name": "ipython",
    "version": 3
   },
   "file_extension": ".py",
   "mimetype": "text/x-python",
   "name": "python",
   "nbconvert_exporter": "python",
   "pygments_lexer": "ipython3",
   "version": "3.8.8"
  }
 },
 "nbformat": 4,
 "nbformat_minor": 5
}
