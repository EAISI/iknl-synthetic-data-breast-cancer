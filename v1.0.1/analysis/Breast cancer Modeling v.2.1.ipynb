{
 "cells": [
  {
   "cell_type": "markdown",
   "id": "dee20a0e",
   "metadata": {},
   "source": [
    "# Breast Cancer synthetic data\n",
    "## Part 3. Modeling"
   ]
  },
  {
   "cell_type": "markdown",
   "id": "7b906170",
   "metadata": {},
   "source": [
    "#### by Grzegorz Furdyn"
   ]
  },
  {
   "cell_type": "markdown",
   "id": "80918763",
   "metadata": {},
   "source": [
    "## Contents"
   ]
  },
  {
   "cell_type": "markdown",
   "id": "022e2e0d",
   "metadata": {},
   "source": [
    "### CRISP-DM Phase 3: Data Preparation\n",
    "* [Missing values handling](#miss)\n",
    "\n",
    "### CRISP-DM Phase 4: Modeling\n",
    "\n",
    "#### Vital status models\n",
    "* [KNN](#knn)\n",
    "* [Random Forest](#rf)\n",
    "* [Gradient Boosting](#gbvit)\n",
    "* [Logistic Regression](#lr)\n",
    "\n",
    "#### Dummy vital status models\n",
    "* [Dummy model - Random Forest](#rfdum)\n",
    "* [Dummy model - Gradient Boosting](#gbdum)\n",
    "* [Dummy model - Logistic Regression](#lrdum)\n",
    "\n",
    "#### 5Y survival models\n",
    "* [KNN](#knnsurv)\n",
    "* [Random Forest](#rfsurv)\n",
    "* [Gradient Boosting](#gbsurv)\n",
    "* [Logistic Regression](#lrsurv)"
   ]
  },
  {
   "cell_type": "markdown",
   "id": "ceba8ac8",
   "metadata": {},
   "source": [
    "## CRISP-DM Phase 3: Data Preparation"
   ]
  },
  {
   "cell_type": "code",
   "execution_count": 1,
   "id": "d81c7e06",
   "metadata": {
    "scrolled": false
   },
   "outputs": [],
   "source": [
    "import numpy as np\n",
    "import matplotlib.pyplot as plt\n",
    "import matplotlib.ticker as mtick\n",
    "import pandas as pd\n",
    "import seaborn as sns\n",
    "import warnings\n",
    "warnings.filterwarnings('ignore')\n",
    "pd.set_option('display.max_rows', 1000)\n",
    "from sklearn.model_selection import train_test_split, cross_validate, GridSearchCV\n",
    "from sklearn.pipeline import make_pipeline, Pipeline\n",
    "from sklearn.impute import SimpleImputer\n",
    "from sklearn.preprocessing import MinMaxScaler, StandardScaler, RobustScaler, OneHotEncoder\n",
    "from sklearn.compose import ColumnTransformer\n",
    "from sklearn.linear_model import LogisticRegressionCV, RidgeClassifierCV\n",
    "from sklearn.ensemble import RandomForestClassifier, GradientBoostingClassifier,AdaBoostClassifier\n",
    "from sklearn.neighbors import KNeighborsClassifier\n",
    "from sklearn.metrics import accuracy_score,confusion_matrix,classification_report,plot_confusion_matrix\n",
    "from sklearn.metrics import precision_recall_curve,plot_precision_recall_curve,plot_roc_curve,RocCurveDisplay,PrecisionRecallDisplay\n",
    "from sklearn import metrics, set_config\n",
    "import eli5\n",
    "from eli5.sklearn import PermutationImportance\n",
    "set_config(display=\"diagram\")\n",
    "np.random.seed(42)\n",
    "RANDOM_STATE = 42\n",
    "TEST_SIZE = 0.2"
   ]
  },
  {
   "cell_type": "code",
   "execution_count": 2,
   "id": "17f76abd",
   "metadata": {
    "scrolled": false
   },
   "outputs": [],
   "source": [
    "df = pd.read_csv('Breast_cancer_transformed.csv')"
   ]
  },
  {
   "cell_type": "markdown",
   "id": "3b849cd8",
   "metadata": {},
   "source": [
    "<a id='miss'></a>\n",
    "### Missing values handling"
   ]
  },
  {
   "cell_type": "code",
   "execution_count": 3,
   "id": "01bef0e6",
   "metadata": {
    "scrolled": true
   },
   "outputs": [
    {
     "name": "stdout",
     "output_type": "stream",
     "text": [
      "<class 'pandas.core.frame.DataFrame'>\n",
      "RangeIndex: 58377 entries, 0 to 58376\n",
      "Data columns (total 57 columns):\n",
      " #   Column                 Non-Null Count  Dtype  \n",
      "---  ------                 --------------  -----  \n",
      " 0   leeft                  58377 non-null  int64  \n",
      " 1   incjr                  58377 non-null  int64  \n",
      " 2   vit_stat               58377 non-null  int64  \n",
      " 3   vit_stat_int           58377 non-null  int64  \n",
      " 4   tumsoort               58377 non-null  int64  \n",
      " 5   diag_basis             58377 non-null  int64  \n",
      " 6   topo_sublok            58377 non-null  object \n",
      " 7   later                  57071 non-null  float64\n",
      " 8   morf                   58377 non-null  int64  \n",
      " 9   gedrag                 58377 non-null  int64  \n",
      " 10  diffgrad               49392 non-null  float64\n",
      " 11  ct                     57506 non-null  object \n",
      " 12  cn                     57540 non-null  object \n",
      " 13  cm                     55905 non-null  float64\n",
      " 14  pt                     52809 non-null  object \n",
      " 15  pn                     50564 non-null  object \n",
      " 16  pm                     5208 non-null   float64\n",
      " 17  stadium                58064 non-null  object \n",
      " 18  cstadium               57235 non-null  object \n",
      " 19  pstadium               53022 non-null  object \n",
      " 20  ond_lymf               57172 non-null  float64\n",
      " 21  pos_lymf               53158 non-null  float64\n",
      " 22  er_stat                50412 non-null  float64\n",
      " 23  pr_stat                51317 non-null  float64\n",
      " 24  her2_stat              48748 non-null  float64\n",
      " 25  dcis_comp              44890 non-null  float64\n",
      " 26  multifoc               55808 non-null  float64\n",
      " 27  tum_afm                45312 non-null  float64\n",
      " 28  swk                    56021 non-null  float64\n",
      " 29  swk_uitslag            41697 non-null  float64\n",
      " 30  mari                   30890 non-null  float64\n",
      " 31  mari_uitslag           3441 non-null   float64\n",
      " 32  okd                    58377 non-null  float64\n",
      " 33  org_chir               58377 non-null  float64\n",
      " 34  uitgebr_chir_code      52952 non-null  object \n",
      " 35  dir_reconstr           58377 non-null  int64  \n",
      " 36  chemo                  58377 non-null  float64\n",
      " 37  target                 58377 non-null  float64\n",
      " 38  horm                   58377 non-null  float64\n",
      " 39  rt                     58377 non-null  float64\n",
      " 40  meta_rt                58377 non-null  float64\n",
      " 41  meta_chir              58377 non-null  float64\n",
      " 42  survival_5Y            34877 non-null  float64\n",
      " 43  years_after_diagnosis  38931 non-null  float64\n",
      " 44  exp_life               11297 non-null  float64\n",
      " 45  stadiumtot             58064 non-null  object \n",
      " 46  pos_lymf_range         58377 non-null  object \n",
      " 47  pos_lymf_ind           58377 non-null  int64  \n",
      " 48  age_range              58377 non-null  object \n",
      " 49  tum_afm_range          42844 non-null  object \n",
      " 50  stadium_ord            58064 non-null  float64\n",
      " 51  cstadium_ord           57235 non-null  float64\n",
      " 52  pstadium_ord           53022 non-null  float64\n",
      " 53  cn_ord                 57540 non-null  float64\n",
      " 54  ct_ord                 57506 non-null  float64\n",
      " 55  pt_ord                 52809 non-null  float64\n",
      " 56  pn_ord                 50564 non-null  float64\n",
      "dtypes: float64(34), int64(10), object(13)\n",
      "memory usage: 25.4+ MB\n"
     ]
    }
   ],
   "source": [
    "df.info()"
   ]
  },
  {
   "cell_type": "markdown",
   "id": "96aca809",
   "metadata": {},
   "source": [
    "Defining subset of features as X"
   ]
  },
  {
   "cell_type": "code",
   "execution_count": 4,
   "id": "03af471e",
   "metadata": {},
   "outputs": [],
   "source": [
    "categorical_features = ['tumsoort',\n",
    "                        'diag_basis',\n",
    "                        'topo_sublok',\n",
    "                        'later',\n",
    "                        'morf',                                  \n",
    "                        'uitgebr_chir_code',\n",
    "                        'chemo',\n",
    "                        'target',\n",
    "                        'horm',\n",
    "                        'rt'\n",
    "                        ]"
   ]
  },
  {
   "cell_type": "code",
   "execution_count": 5,
   "id": "db60b8a9",
   "metadata": {},
   "outputs": [],
   "source": [
    "numeric_features = ['leeft',\n",
    "                    'incjr',\n",
    "                    'vit_stat_int',\n",
    "                    'ond_lymf',\n",
    "                    'pos_lymf',\n",
    "                    'tum_afm',\n",
    "                    'gedrag',\n",
    "                    'diffgrad',\n",
    "                    'cm',\n",
    "                    'pm',\n",
    "                    'er_stat',\n",
    "                    'pr_stat',\n",
    "                    'her2_stat',\n",
    "                    'dcis_comp',\n",
    "                    'multifoc',\n",
    "                    'swk',\n",
    "                    'swk_uitslag',\n",
    "                    'mari',\n",
    "                    'mari_uitslag',\n",
    "                    'okd',\n",
    "                    'org_chir',\n",
    "                    'dir_reconstr',\n",
    "                    'meta_rt',\n",
    "                    'meta_chir',\n",
    "                    'ct_ord',\n",
    "                    'cn_ord',                         \n",
    "                    'pt_ord',\n",
    "                    'pn_ord',\n",
    "                    'stadium_ord',\n",
    "                    'cstadium_ord', \n",
    "                    'pstadium_ord'\n",
    "                   ]"
   ]
  },
  {
   "cell_type": "code",
   "execution_count": 6,
   "id": "0a986f12",
   "metadata": {},
   "outputs": [
    {
     "data": {
      "text/html": [
       "<div>\n",
       "<style scoped>\n",
       "    .dataframe tbody tr th:only-of-type {\n",
       "        vertical-align: middle;\n",
       "    }\n",
       "\n",
       "    .dataframe tbody tr th {\n",
       "        vertical-align: top;\n",
       "    }\n",
       "\n",
       "    .dataframe thead th {\n",
       "        text-align: right;\n",
       "    }\n",
       "</style>\n",
       "<table border=\"1\" class=\"dataframe\">\n",
       "  <thead>\n",
       "    <tr style=\"text-align: right;\">\n",
       "      <th></th>\n",
       "      <th>leeft</th>\n",
       "      <th>incjr</th>\n",
       "      <th>vit_stat_int</th>\n",
       "      <th>ond_lymf</th>\n",
       "      <th>pos_lymf</th>\n",
       "      <th>tum_afm</th>\n",
       "      <th>gedrag</th>\n",
       "      <th>diffgrad</th>\n",
       "      <th>cm</th>\n",
       "      <th>pm</th>\n",
       "      <th>...</th>\n",
       "      <th>dir_reconstr</th>\n",
       "      <th>meta_rt</th>\n",
       "      <th>meta_chir</th>\n",
       "      <th>ct_ord</th>\n",
       "      <th>cn_ord</th>\n",
       "      <th>pt_ord</th>\n",
       "      <th>pn_ord</th>\n",
       "      <th>stadium_ord</th>\n",
       "      <th>cstadium_ord</th>\n",
       "      <th>pstadium_ord</th>\n",
       "    </tr>\n",
       "  </thead>\n",
       "  <tbody>\n",
       "    <tr>\n",
       "      <th>count</th>\n",
       "      <td>58377.000000</td>\n",
       "      <td>58377.000000</td>\n",
       "      <td>58377.000000</td>\n",
       "      <td>57172.000000</td>\n",
       "      <td>53158.000000</td>\n",
       "      <td>45312.000000</td>\n",
       "      <td>58377.000000</td>\n",
       "      <td>49392.000000</td>\n",
       "      <td>55905.000000</td>\n",
       "      <td>5208.000000</td>\n",
       "      <td>...</td>\n",
       "      <td>58377.000000</td>\n",
       "      <td>58377.000000</td>\n",
       "      <td>58377.000000</td>\n",
       "      <td>57506.000000</td>\n",
       "      <td>57540.000000</td>\n",
       "      <td>52809.000000</td>\n",
       "      <td>50564.000000</td>\n",
       "      <td>58064.000000</td>\n",
       "      <td>57235.000000</td>\n",
       "      <td>53022.000000</td>\n",
       "    </tr>\n",
       "    <tr>\n",
       "      <th>mean</th>\n",
       "      <td>61.855628</td>\n",
       "      <td>2014.733268</td>\n",
       "      <td>1748.631070</td>\n",
       "      <td>4.692174</td>\n",
       "      <td>1.033146</td>\n",
       "      <td>21.789261</td>\n",
       "      <td>2.872792</td>\n",
       "      <td>2.063107</td>\n",
       "      <td>0.053162</td>\n",
       "      <td>0.637289</td>\n",
       "      <td>...</td>\n",
       "      <td>0.137965</td>\n",
       "      <td>0.062233</td>\n",
       "      <td>0.095020</td>\n",
       "      <td>4.725594</td>\n",
       "      <td>0.275182</td>\n",
       "      <td>4.540287</td>\n",
       "      <td>0.897556</td>\n",
       "      <td>2.550772</td>\n",
       "      <td>2.232882</td>\n",
       "      <td>2.255573</td>\n",
       "    </tr>\n",
       "    <tr>\n",
       "      <th>std</th>\n",
       "      <td>14.216831</td>\n",
       "      <td>2.908916</td>\n",
       "      <td>1020.057571</td>\n",
       "      <td>9.428165</td>\n",
       "      <td>3.810122</td>\n",
       "      <td>26.434893</td>\n",
       "      <td>0.333208</td>\n",
       "      <td>0.735689</td>\n",
       "      <td>0.224358</td>\n",
       "      <td>0.480829</td>\n",
       "      <td>...</td>\n",
       "      <td>0.344867</td>\n",
       "      <td>0.241581</td>\n",
       "      <td>0.293245</td>\n",
       "      <td>2.102709</td>\n",
       "      <td>0.879610</td>\n",
       "      <td>1.956448</td>\n",
       "      <td>1.720413</td>\n",
       "      <td>2.211826</td>\n",
       "      <td>2.160348</td>\n",
       "      <td>2.085902</td>\n",
       "    </tr>\n",
       "    <tr>\n",
       "      <th>min</th>\n",
       "      <td>18.000000</td>\n",
       "      <td>2010.000000</td>\n",
       "      <td>0.000000</td>\n",
       "      <td>0.000000</td>\n",
       "      <td>0.000000</td>\n",
       "      <td>0.000000</td>\n",
       "      <td>2.000000</td>\n",
       "      <td>1.000000</td>\n",
       "      <td>0.000000</td>\n",
       "      <td>0.000000</td>\n",
       "      <td>...</td>\n",
       "      <td>0.000000</td>\n",
       "      <td>0.000000</td>\n",
       "      <td>0.000000</td>\n",
       "      <td>0.000000</td>\n",
       "      <td>0.000000</td>\n",
       "      <td>0.000000</td>\n",
       "      <td>0.000000</td>\n",
       "      <td>0.000000</td>\n",
       "      <td>0.000000</td>\n",
       "      <td>0.000000</td>\n",
       "    </tr>\n",
       "    <tr>\n",
       "      <th>25%</th>\n",
       "      <td>53.000000</td>\n",
       "      <td>2012.000000</td>\n",
       "      <td>870.000000</td>\n",
       "      <td>1.000000</td>\n",
       "      <td>0.000000</td>\n",
       "      <td>8.000000</td>\n",
       "      <td>3.000000</td>\n",
       "      <td>2.000000</td>\n",
       "      <td>0.000000</td>\n",
       "      <td>0.000000</td>\n",
       "      <td>...</td>\n",
       "      <td>0.000000</td>\n",
       "      <td>0.000000</td>\n",
       "      <td>0.000000</td>\n",
       "      <td>4.000000</td>\n",
       "      <td>0.000000</td>\n",
       "      <td>4.000000</td>\n",
       "      <td>0.000000</td>\n",
       "      <td>1.000000</td>\n",
       "      <td>1.000000</td>\n",
       "      <td>1.000000</td>\n",
       "    </tr>\n",
       "    <tr>\n",
       "      <th>50%</th>\n",
       "      <td>62.000000</td>\n",
       "      <td>2015.000000</td>\n",
       "      <td>1646.000000</td>\n",
       "      <td>2.000000</td>\n",
       "      <td>0.000000</td>\n",
       "      <td>15.000000</td>\n",
       "      <td>3.000000</td>\n",
       "      <td>2.000000</td>\n",
       "      <td>0.000000</td>\n",
       "      <td>1.000000</td>\n",
       "      <td>...</td>\n",
       "      <td>0.000000</td>\n",
       "      <td>0.000000</td>\n",
       "      <td>0.000000</td>\n",
       "      <td>5.000000</td>\n",
       "      <td>0.000000</td>\n",
       "      <td>5.000000</td>\n",
       "      <td>0.000000</td>\n",
       "      <td>1.000000</td>\n",
       "      <td>1.000000</td>\n",
       "      <td>1.000000</td>\n",
       "    </tr>\n",
       "    <tr>\n",
       "      <th>75%</th>\n",
       "      <td>71.000000</td>\n",
       "      <td>2017.000000</td>\n",
       "      <td>2562.000000</td>\n",
       "      <td>4.000000</td>\n",
       "      <td>1.000000</td>\n",
       "      <td>24.000000</td>\n",
       "      <td>3.000000</td>\n",
       "      <td>3.000000</td>\n",
       "      <td>0.000000</td>\n",
       "      <td>1.000000</td>\n",
       "      <td>...</td>\n",
       "      <td>0.000000</td>\n",
       "      <td>0.000000</td>\n",
       "      <td>0.000000</td>\n",
       "      <td>6.000000</td>\n",
       "      <td>0.000000</td>\n",
       "      <td>6.000000</td>\n",
       "      <td>1.000000</td>\n",
       "      <td>4.000000</td>\n",
       "      <td>4.000000</td>\n",
       "      <td>4.000000</td>\n",
       "    </tr>\n",
       "    <tr>\n",
       "      <th>max</th>\n",
       "      <td>105.000000</td>\n",
       "      <td>2019.000000</td>\n",
       "      <td>4047.000000</td>\n",
       "      <td>97.000000</td>\n",
       "      <td>97.000000</td>\n",
       "      <td>250.000000</td>\n",
       "      <td>3.000000</td>\n",
       "      <td>3.000000</td>\n",
       "      <td>1.000000</td>\n",
       "      <td>1.000000</td>\n",
       "      <td>...</td>\n",
       "      <td>1.000000</td>\n",
       "      <td>1.000000</td>\n",
       "      <td>1.000000</td>\n",
       "      <td>11.000000</td>\n",
       "      <td>7.000000</td>\n",
       "      <td>11.000000</td>\n",
       "      <td>9.000000</td>\n",
       "      <td>9.000000</td>\n",
       "      <td>9.000000</td>\n",
       "      <td>9.000000</td>\n",
       "    </tr>\n",
       "  </tbody>\n",
       "</table>\n",
       "<p>8 rows × 31 columns</p>\n",
       "</div>"
      ],
      "text/plain": [
       "              leeft         incjr  vit_stat_int      ond_lymf      pos_lymf  \\\n",
       "count  58377.000000  58377.000000  58377.000000  57172.000000  53158.000000   \n",
       "mean      61.855628   2014.733268   1748.631070      4.692174      1.033146   \n",
       "std       14.216831      2.908916   1020.057571      9.428165      3.810122   \n",
       "min       18.000000   2010.000000      0.000000      0.000000      0.000000   \n",
       "25%       53.000000   2012.000000    870.000000      1.000000      0.000000   \n",
       "50%       62.000000   2015.000000   1646.000000      2.000000      0.000000   \n",
       "75%       71.000000   2017.000000   2562.000000      4.000000      1.000000   \n",
       "max      105.000000   2019.000000   4047.000000     97.000000     97.000000   \n",
       "\n",
       "            tum_afm        gedrag      diffgrad            cm           pm  \\\n",
       "count  45312.000000  58377.000000  49392.000000  55905.000000  5208.000000   \n",
       "mean      21.789261      2.872792      2.063107      0.053162     0.637289   \n",
       "std       26.434893      0.333208      0.735689      0.224358     0.480829   \n",
       "min        0.000000      2.000000      1.000000      0.000000     0.000000   \n",
       "25%        8.000000      3.000000      2.000000      0.000000     0.000000   \n",
       "50%       15.000000      3.000000      2.000000      0.000000     1.000000   \n",
       "75%       24.000000      3.000000      3.000000      0.000000     1.000000   \n",
       "max      250.000000      3.000000      3.000000      1.000000     1.000000   \n",
       "\n",
       "       ...  dir_reconstr       meta_rt     meta_chir        ct_ord  \\\n",
       "count  ...  58377.000000  58377.000000  58377.000000  57506.000000   \n",
       "mean   ...      0.137965      0.062233      0.095020      4.725594   \n",
       "std    ...      0.344867      0.241581      0.293245      2.102709   \n",
       "min    ...      0.000000      0.000000      0.000000      0.000000   \n",
       "25%    ...      0.000000      0.000000      0.000000      4.000000   \n",
       "50%    ...      0.000000      0.000000      0.000000      5.000000   \n",
       "75%    ...      0.000000      0.000000      0.000000      6.000000   \n",
       "max    ...      1.000000      1.000000      1.000000     11.000000   \n",
       "\n",
       "             cn_ord        pt_ord        pn_ord   stadium_ord  cstadium_ord  \\\n",
       "count  57540.000000  52809.000000  50564.000000  58064.000000  57235.000000   \n",
       "mean       0.275182      4.540287      0.897556      2.550772      2.232882   \n",
       "std        0.879610      1.956448      1.720413      2.211826      2.160348   \n",
       "min        0.000000      0.000000      0.000000      0.000000      0.000000   \n",
       "25%        0.000000      4.000000      0.000000      1.000000      1.000000   \n",
       "50%        0.000000      5.000000      0.000000      1.000000      1.000000   \n",
       "75%        0.000000      6.000000      1.000000      4.000000      4.000000   \n",
       "max        7.000000     11.000000      9.000000      9.000000      9.000000   \n",
       "\n",
       "       pstadium_ord  \n",
       "count  53022.000000  \n",
       "mean       2.255573  \n",
       "std        2.085902  \n",
       "min        0.000000  \n",
       "25%        1.000000  \n",
       "50%        1.000000  \n",
       "75%        4.000000  \n",
       "max        9.000000  \n",
       "\n",
       "[8 rows x 31 columns]"
      ]
     },
     "execution_count": 6,
     "metadata": {},
     "output_type": "execute_result"
    }
   ],
   "source": [
    "df[numeric_features].describe()"
   ]
  },
  {
   "cell_type": "code",
   "execution_count": 7,
   "id": "bd4e4f33",
   "metadata": {},
   "outputs": [],
   "source": [
    "df[numeric_features] = df[numeric_features].fillna(df[numeric_features].median())"
   ]
  },
  {
   "cell_type": "code",
   "execution_count": 8,
   "id": "ab059513",
   "metadata": {},
   "outputs": [],
   "source": [
    "df[categorical_features] = df[categorical_features].fillna('missing')"
   ]
  },
  {
   "cell_type": "code",
   "execution_count": 9,
   "id": "6487a35a",
   "metadata": {},
   "outputs": [
    {
     "data": {
      "text/plain": [
       "exp_life                 47080\n",
       "survival_5Y              23500\n",
       "years_after_diagnosis    19446\n",
       "tum_afm_range            15533\n",
       "pn                        7813\n",
       "pt                        5568\n",
       "pstadium                  5355\n",
       "cstadium                  1142\n",
       "ct                         871\n",
       "cn                         837\n",
       "stadium                    313\n",
       "stadiumtot                 313\n",
       "dtype: int64"
      ]
     },
     "execution_count": 9,
     "metadata": {},
     "output_type": "execute_result"
    }
   ],
   "source": [
    "df.isna().sum()[df.isna().sum() != 0].sort_values(ascending = False)"
   ]
  },
  {
   "cell_type": "code",
   "execution_count": 10,
   "id": "026746a8",
   "metadata": {},
   "outputs": [],
   "source": [
    "df[categorical_features] = df[categorical_features].astype('str')"
   ]
  },
  {
   "cell_type": "code",
   "execution_count": 11,
   "id": "bba7b617",
   "metadata": {},
   "outputs": [],
   "source": [
    "df_fin = df.copy()"
   ]
  },
  {
   "cell_type": "markdown",
   "id": "72859d5e",
   "metadata": {},
   "source": [
    "## CRISP-DM Phase 4: Modeling"
   ]
  },
  {
   "cell_type": "markdown",
   "id": "1ab2b35c",
   "metadata": {},
   "source": [
    "## Vital status models"
   ]
  },
  {
   "cell_type": "markdown",
   "id": "82cfe848",
   "metadata": {},
   "source": [
    "The modeling has an objective of predicting patient's vital status at time vit_stat_int (days from incidence), based on all available information . We will start by a simple classification model  vit_stat as target value."
   ]
  },
  {
   "cell_type": "markdown",
   "id": "12d10e5c",
   "metadata": {},
   "source": [
    "<a id='knn'></a>\n",
    "### KNN"
   ]
  },
  {
   "cell_type": "code",
   "execution_count": 12,
   "id": "9aa6cff6",
   "metadata": {},
   "outputs": [],
   "source": [
    "def preprocess1(df):\n",
    "    dfmod = pd.merge(df[categorical_features], df[numeric_features], left_index=True, right_index=True)\n",
    "    dfmod = dfmod.join(df['vit_stat'])\n",
    "    return dfmod"
   ]
  },
  {
   "cell_type": "code",
   "execution_count": 13,
   "id": "fc1e5113",
   "metadata": {},
   "outputs": [],
   "source": [
    "df = df_fin"
   ]
  },
  {
   "cell_type": "code",
   "execution_count": 14,
   "id": "a00c0447",
   "metadata": {},
   "outputs": [],
   "source": [
    "df = preprocess1(df)"
   ]
  },
  {
   "cell_type": "code",
   "execution_count": 15,
   "id": "c359a549",
   "metadata": {
    "scrolled": true
   },
   "outputs": [
    {
     "name": "stdout",
     "output_type": "stream",
     "text": [
      "<class 'pandas.core.frame.DataFrame'>\n",
      "RangeIndex: 58377 entries, 0 to 58376\n",
      "Data columns (total 42 columns):\n",
      " #   Column             Non-Null Count  Dtype  \n",
      "---  ------             --------------  -----  \n",
      " 0   tumsoort           58377 non-null  object \n",
      " 1   diag_basis         58377 non-null  object \n",
      " 2   topo_sublok        58377 non-null  object \n",
      " 3   later              58377 non-null  object \n",
      " 4   morf               58377 non-null  object \n",
      " 5   uitgebr_chir_code  58377 non-null  object \n",
      " 6   chemo              58377 non-null  object \n",
      " 7   target             58377 non-null  object \n",
      " 8   horm               58377 non-null  object \n",
      " 9   rt                 58377 non-null  object \n",
      " 10  leeft              58377 non-null  int64  \n",
      " 11  incjr              58377 non-null  int64  \n",
      " 12  vit_stat_int       58377 non-null  int64  \n",
      " 13  ond_lymf           58377 non-null  float64\n",
      " 14  pos_lymf           58377 non-null  float64\n",
      " 15  tum_afm            58377 non-null  float64\n",
      " 16  gedrag             58377 non-null  int64  \n",
      " 17  diffgrad           58377 non-null  float64\n",
      " 18  cm                 58377 non-null  float64\n",
      " 19  pm                 58377 non-null  float64\n",
      " 20  er_stat            58377 non-null  float64\n",
      " 21  pr_stat            58377 non-null  float64\n",
      " 22  her2_stat          58377 non-null  float64\n",
      " 23  dcis_comp          58377 non-null  float64\n",
      " 24  multifoc           58377 non-null  float64\n",
      " 25  swk                58377 non-null  float64\n",
      " 26  swk_uitslag        58377 non-null  float64\n",
      " 27  mari               58377 non-null  float64\n",
      " 28  mari_uitslag       58377 non-null  float64\n",
      " 29  okd                58377 non-null  float64\n",
      " 30  org_chir           58377 non-null  float64\n",
      " 31  dir_reconstr       58377 non-null  int64  \n",
      " 32  meta_rt            58377 non-null  float64\n",
      " 33  meta_chir          58377 non-null  float64\n",
      " 34  ct_ord             58377 non-null  float64\n",
      " 35  cn_ord             58377 non-null  float64\n",
      " 36  pt_ord             58377 non-null  float64\n",
      " 37  pn_ord             58377 non-null  float64\n",
      " 38  stadium_ord        58377 non-null  float64\n",
      " 39  cstadium_ord       58377 non-null  float64\n",
      " 40  pstadium_ord       58377 non-null  float64\n",
      " 41  vit_stat           58377 non-null  int64  \n",
      "dtypes: float64(26), int64(6), object(10)\n",
      "memory usage: 18.7+ MB\n"
     ]
    }
   ],
   "source": [
    "df.info()"
   ]
  },
  {
   "cell_type": "code",
   "execution_count": 16,
   "id": "224970a2",
   "metadata": {},
   "outputs": [
    {
     "data": {
      "text/html": [
       "<div>\n",
       "<style scoped>\n",
       "    .dataframe tbody tr th:only-of-type {\n",
       "        vertical-align: middle;\n",
       "    }\n",
       "\n",
       "    .dataframe tbody tr th {\n",
       "        vertical-align: top;\n",
       "    }\n",
       "\n",
       "    .dataframe thead th {\n",
       "        text-align: right;\n",
       "    }\n",
       "</style>\n",
       "<table border=\"1\" class=\"dataframe\">\n",
       "  <thead>\n",
       "    <tr style=\"text-align: right;\">\n",
       "      <th></th>\n",
       "      <th>tumsoort</th>\n",
       "      <th>diag_basis</th>\n",
       "      <th>topo_sublok</th>\n",
       "      <th>later</th>\n",
       "      <th>morf</th>\n",
       "      <th>uitgebr_chir_code</th>\n",
       "      <th>chemo</th>\n",
       "      <th>target</th>\n",
       "      <th>horm</th>\n",
       "      <th>rt</th>\n",
       "      <th>...</th>\n",
       "      <th>meta_rt</th>\n",
       "      <th>meta_chir</th>\n",
       "      <th>ct_ord</th>\n",
       "      <th>cn_ord</th>\n",
       "      <th>pt_ord</th>\n",
       "      <th>pn_ord</th>\n",
       "      <th>stadium_ord</th>\n",
       "      <th>cstadium_ord</th>\n",
       "      <th>pstadium_ord</th>\n",
       "      <th>vit_stat</th>\n",
       "    </tr>\n",
       "  </thead>\n",
       "  <tbody>\n",
       "    <tr>\n",
       "      <th>0</th>\n",
       "      <td>501300</td>\n",
       "      <td>7</td>\n",
       "      <td>C508</td>\n",
       "      <td>1.0</td>\n",
       "      <td>8500</td>\n",
       "      <td>missing</td>\n",
       "      <td>0.0</td>\n",
       "      <td>4.0</td>\n",
       "      <td>0.0</td>\n",
       "      <td>0.0</td>\n",
       "      <td>...</td>\n",
       "      <td>0.0</td>\n",
       "      <td>0.0</td>\n",
       "      <td>5.0</td>\n",
       "      <td>0.0</td>\n",
       "      <td>5.0</td>\n",
       "      <td>0.0</td>\n",
       "      <td>1.0</td>\n",
       "      <td>1.0</td>\n",
       "      <td>1.0</td>\n",
       "      <td>1</td>\n",
       "    </tr>\n",
       "    <tr>\n",
       "      <th>1</th>\n",
       "      <td>503200</td>\n",
       "      <td>2</td>\n",
       "      <td>C505</td>\n",
       "      <td>1.0</td>\n",
       "      <td>8520</td>\n",
       "      <td>131C50</td>\n",
       "      <td>1.0</td>\n",
       "      <td>0.0</td>\n",
       "      <td>2.0</td>\n",
       "      <td>2.0</td>\n",
       "      <td>...</td>\n",
       "      <td>0.0</td>\n",
       "      <td>0.0</td>\n",
       "      <td>5.0</td>\n",
       "      <td>0.0</td>\n",
       "      <td>5.0</td>\n",
       "      <td>0.0</td>\n",
       "      <td>4.0</td>\n",
       "      <td>1.0</td>\n",
       "      <td>1.0</td>\n",
       "      <td>0</td>\n",
       "    </tr>\n",
       "    <tr>\n",
       "      <th>2</th>\n",
       "      <td>502200</td>\n",
       "      <td>7</td>\n",
       "      <td>C508</td>\n",
       "      <td>2.0</td>\n",
       "      <td>8500</td>\n",
       "      <td>missing</td>\n",
       "      <td>0.0</td>\n",
       "      <td>0.0</td>\n",
       "      <td>0.0</td>\n",
       "      <td>0.0</td>\n",
       "      <td>...</td>\n",
       "      <td>0.0</td>\n",
       "      <td>0.0</td>\n",
       "      <td>1.0</td>\n",
       "      <td>0.0</td>\n",
       "      <td>0.0</td>\n",
       "      <td>0.0</td>\n",
       "      <td>0.0</td>\n",
       "      <td>0.0</td>\n",
       "      <td>0.0</td>\n",
       "      <td>0</td>\n",
       "    </tr>\n",
       "    <tr>\n",
       "      <th>3</th>\n",
       "      <td>501300</td>\n",
       "      <td>7</td>\n",
       "      <td>C504</td>\n",
       "      <td>1.0</td>\n",
       "      <td>8481</td>\n",
       "      <td>131C50</td>\n",
       "      <td>0.0</td>\n",
       "      <td>0.0</td>\n",
       "      <td>0.0</td>\n",
       "      <td>2.0</td>\n",
       "      <td>...</td>\n",
       "      <td>0.0</td>\n",
       "      <td>0.0</td>\n",
       "      <td>4.0</td>\n",
       "      <td>0.0</td>\n",
       "      <td>5.0</td>\n",
       "      <td>0.0</td>\n",
       "      <td>1.0</td>\n",
       "      <td>1.0</td>\n",
       "      <td>1.0</td>\n",
       "      <td>0</td>\n",
       "    </tr>\n",
       "    <tr>\n",
       "      <th>4</th>\n",
       "      <td>501300</td>\n",
       "      <td>7</td>\n",
       "      <td>C504</td>\n",
       "      <td>2.0</td>\n",
       "      <td>8500</td>\n",
       "      <td>131C50</td>\n",
       "      <td>0.0</td>\n",
       "      <td>0.0</td>\n",
       "      <td>2.0</td>\n",
       "      <td>2.0</td>\n",
       "      <td>...</td>\n",
       "      <td>0.0</td>\n",
       "      <td>0.0</td>\n",
       "      <td>5.0</td>\n",
       "      <td>0.0</td>\n",
       "      <td>5.0</td>\n",
       "      <td>1.0</td>\n",
       "      <td>1.0</td>\n",
       "      <td>1.0</td>\n",
       "      <td>3.0</td>\n",
       "      <td>0</td>\n",
       "    </tr>\n",
       "  </tbody>\n",
       "</table>\n",
       "<p>5 rows × 42 columns</p>\n",
       "</div>"
      ],
      "text/plain": [
       "  tumsoort diag_basis topo_sublok later  morf uitgebr_chir_code chemo target  \\\n",
       "0   501300          7        C508   1.0  8500           missing   0.0    4.0   \n",
       "1   503200          2        C505   1.0  8520            131C50   1.0    0.0   \n",
       "2   502200          7        C508   2.0  8500           missing   0.0    0.0   \n",
       "3   501300          7        C504   1.0  8481            131C50   0.0    0.0   \n",
       "4   501300          7        C504   2.0  8500            131C50   0.0    0.0   \n",
       "\n",
       "  horm   rt  ...  meta_rt  meta_chir  ct_ord  cn_ord  pt_ord  pn_ord  \\\n",
       "0  0.0  0.0  ...      0.0        0.0     5.0     0.0     5.0     0.0   \n",
       "1  2.0  2.0  ...      0.0        0.0     5.0     0.0     5.0     0.0   \n",
       "2  0.0  0.0  ...      0.0        0.0     1.0     0.0     0.0     0.0   \n",
       "3  0.0  2.0  ...      0.0        0.0     4.0     0.0     5.0     0.0   \n",
       "4  2.0  2.0  ...      0.0        0.0     5.0     0.0     5.0     1.0   \n",
       "\n",
       "   stadium_ord  cstadium_ord  pstadium_ord  vit_stat  \n",
       "0          1.0           1.0           1.0         1  \n",
       "1          4.0           1.0           1.0         0  \n",
       "2          0.0           0.0           0.0         0  \n",
       "3          1.0           1.0           1.0         0  \n",
       "4          1.0           1.0           3.0         0  \n",
       "\n",
       "[5 rows x 42 columns]"
      ]
     },
     "execution_count": 16,
     "metadata": {},
     "output_type": "execute_result"
    }
   ],
   "source": [
    "df.head()"
   ]
  },
  {
   "cell_type": "code",
   "execution_count": 17,
   "id": "42a692bf",
   "metadata": {},
   "outputs": [],
   "source": [
    "X = df.drop('vit_stat', axis = 1)"
   ]
  },
  {
   "cell_type": "code",
   "execution_count": 18,
   "id": "a81d0579",
   "metadata": {},
   "outputs": [],
   "source": [
    "X = pd.get_dummies(X,drop_first=False)"
   ]
  },
  {
   "cell_type": "code",
   "execution_count": 19,
   "id": "fdaf4ed3",
   "metadata": {},
   "outputs": [],
   "source": [
    "y = df['vit_stat']"
   ]
  },
  {
   "cell_type": "code",
   "execution_count": 20,
   "id": "8c7aef22",
   "metadata": {},
   "outputs": [],
   "source": [
    "from sklearn.model_selection import train_test_split\n",
    "X_train, X_test, y_train, y_test = train_test_split(X, y, test_size=TEST_SIZE, random_state=RANDOM_STATE)"
   ]
  },
  {
   "cell_type": "code",
   "execution_count": 21,
   "id": "f382be1e",
   "metadata": {},
   "outputs": [],
   "source": [
    "scaler = StandardScaler()"
   ]
  },
  {
   "cell_type": "code",
   "execution_count": 22,
   "id": "d99b652f",
   "metadata": {},
   "outputs": [],
   "source": [
    "X_train = scaler.fit_transform(X_train)\n",
    "X_test = scaler.transform(X_test)"
   ]
  },
  {
   "cell_type": "code",
   "execution_count": 23,
   "id": "6ef89aef",
   "metadata": {},
   "outputs": [],
   "source": [
    "model_KNN = KNeighborsClassifier()"
   ]
  },
  {
   "cell_type": "code",
   "execution_count": 24,
   "id": "ef6380da",
   "metadata": {},
   "outputs": [
    {
     "data": {
      "text/html": [
       "<style>#sk-0f08985c-1b14-430e-8346-e27e99ca44ee {color: black;background-color: white;}#sk-0f08985c-1b14-430e-8346-e27e99ca44ee pre{padding: 0;}#sk-0f08985c-1b14-430e-8346-e27e99ca44ee div.sk-toggleable {background-color: white;}#sk-0f08985c-1b14-430e-8346-e27e99ca44ee label.sk-toggleable__label {cursor: pointer;display: block;width: 100%;margin-bottom: 0;padding: 0.3em;box-sizing: border-box;text-align: center;}#sk-0f08985c-1b14-430e-8346-e27e99ca44ee label.sk-toggleable__label-arrow:before {content: \"▸\";float: left;margin-right: 0.25em;color: #696969;}#sk-0f08985c-1b14-430e-8346-e27e99ca44ee label.sk-toggleable__label-arrow:hover:before {color: black;}#sk-0f08985c-1b14-430e-8346-e27e99ca44ee div.sk-estimator:hover label.sk-toggleable__label-arrow:before {color: black;}#sk-0f08985c-1b14-430e-8346-e27e99ca44ee div.sk-toggleable__content {max-height: 0;max-width: 0;overflow: hidden;text-align: left;background-color: #f0f8ff;}#sk-0f08985c-1b14-430e-8346-e27e99ca44ee div.sk-toggleable__content pre {margin: 0.2em;color: black;border-radius: 0.25em;background-color: #f0f8ff;}#sk-0f08985c-1b14-430e-8346-e27e99ca44ee input.sk-toggleable__control:checked~div.sk-toggleable__content {max-height: 200px;max-width: 100%;overflow: auto;}#sk-0f08985c-1b14-430e-8346-e27e99ca44ee input.sk-toggleable__control:checked~label.sk-toggleable__label-arrow:before {content: \"▾\";}#sk-0f08985c-1b14-430e-8346-e27e99ca44ee div.sk-estimator input.sk-toggleable__control:checked~label.sk-toggleable__label {background-color: #d4ebff;}#sk-0f08985c-1b14-430e-8346-e27e99ca44ee div.sk-label input.sk-toggleable__control:checked~label.sk-toggleable__label {background-color: #d4ebff;}#sk-0f08985c-1b14-430e-8346-e27e99ca44ee input.sk-hidden--visually {border: 0;clip: rect(1px 1px 1px 1px);clip: rect(1px, 1px, 1px, 1px);height: 1px;margin: -1px;overflow: hidden;padding: 0;position: absolute;width: 1px;}#sk-0f08985c-1b14-430e-8346-e27e99ca44ee div.sk-estimator {font-family: monospace;background-color: #f0f8ff;border: 1px dotted black;border-radius: 0.25em;box-sizing: border-box;margin-bottom: 0.5em;}#sk-0f08985c-1b14-430e-8346-e27e99ca44ee div.sk-estimator:hover {background-color: #d4ebff;}#sk-0f08985c-1b14-430e-8346-e27e99ca44ee div.sk-parallel-item::after {content: \"\";width: 100%;border-bottom: 1px solid gray;flex-grow: 1;}#sk-0f08985c-1b14-430e-8346-e27e99ca44ee div.sk-label:hover label.sk-toggleable__label {background-color: #d4ebff;}#sk-0f08985c-1b14-430e-8346-e27e99ca44ee div.sk-serial::before {content: \"\";position: absolute;border-left: 1px solid gray;box-sizing: border-box;top: 2em;bottom: 0;left: 50%;}#sk-0f08985c-1b14-430e-8346-e27e99ca44ee div.sk-serial {display: flex;flex-direction: column;align-items: center;background-color: white;padding-right: 0.2em;padding-left: 0.2em;}#sk-0f08985c-1b14-430e-8346-e27e99ca44ee div.sk-item {z-index: 1;}#sk-0f08985c-1b14-430e-8346-e27e99ca44ee div.sk-parallel {display: flex;align-items: stretch;justify-content: center;background-color: white;}#sk-0f08985c-1b14-430e-8346-e27e99ca44ee div.sk-parallel::before {content: \"\";position: absolute;border-left: 1px solid gray;box-sizing: border-box;top: 2em;bottom: 0;left: 50%;}#sk-0f08985c-1b14-430e-8346-e27e99ca44ee div.sk-parallel-item {display: flex;flex-direction: column;position: relative;background-color: white;}#sk-0f08985c-1b14-430e-8346-e27e99ca44ee div.sk-parallel-item:first-child::after {align-self: flex-end;width: 50%;}#sk-0f08985c-1b14-430e-8346-e27e99ca44ee div.sk-parallel-item:last-child::after {align-self: flex-start;width: 50%;}#sk-0f08985c-1b14-430e-8346-e27e99ca44ee div.sk-parallel-item:only-child::after {width: 0;}#sk-0f08985c-1b14-430e-8346-e27e99ca44ee div.sk-dashed-wrapped {border: 1px dashed gray;margin: 0 0.4em 0.5em 0.4em;box-sizing: border-box;padding-bottom: 0.4em;background-color: white;position: relative;}#sk-0f08985c-1b14-430e-8346-e27e99ca44ee div.sk-label label {font-family: monospace;font-weight: bold;background-color: white;display: inline-block;line-height: 1.2em;}#sk-0f08985c-1b14-430e-8346-e27e99ca44ee div.sk-label-container {position: relative;z-index: 2;text-align: center;}#sk-0f08985c-1b14-430e-8346-e27e99ca44ee div.sk-container {/* jupyter's `normalize.less` sets `[hidden] { display: none; }` but bootstrap.min.css set `[hidden] { display: none !important; }` so we also need the `!important` here to be able to override the default hidden behavior on the sphinx rendered scikit-learn.org. See: https://github.com/scikit-learn/scikit-learn/issues/21755 */display: inline-block !important;position: relative;}#sk-0f08985c-1b14-430e-8346-e27e99ca44ee div.sk-text-repr-fallback {display: none;}</style><div id=\"sk-0f08985c-1b14-430e-8346-e27e99ca44ee\" class=\"sk-top-container\"><div class=\"sk-text-repr-fallback\"><pre>KNeighborsClassifier()</pre><b>Please rerun this cell to show the HTML repr or trust the notebook.</b></div><div class=\"sk-container\" hidden><div class=\"sk-item\"><div class=\"sk-estimator sk-toggleable\"><input class=\"sk-toggleable__control sk-hidden--visually\" id=\"d74ed439-6663-4f20-8874-b04253a6f177\" type=\"checkbox\" checked><label for=\"d74ed439-6663-4f20-8874-b04253a6f177\" class=\"sk-toggleable__label sk-toggleable__label-arrow\">KNeighborsClassifier</label><div class=\"sk-toggleable__content\"><pre>KNeighborsClassifier()</pre></div></div></div></div></div>"
      ],
      "text/plain": [
       "KNeighborsClassifier()"
      ]
     },
     "execution_count": 24,
     "metadata": {},
     "output_type": "execute_result"
    }
   ],
   "source": [
    "model_KNN.fit(X_train, y_train)"
   ]
  },
  {
   "cell_type": "code",
   "execution_count": 25,
   "id": "6ed183dd",
   "metadata": {},
   "outputs": [],
   "source": [
    "y_pred_knn =model_KNN.predict(X_test)"
   ]
  },
  {
   "cell_type": "code",
   "execution_count": 26,
   "id": "907a82f4",
   "metadata": {},
   "outputs": [
    {
     "data": {
      "text/plain": [
       "array([[9055,  360],\n",
       "       [1952,  309]], dtype=int64)"
      ]
     },
     "execution_count": 26,
     "metadata": {},
     "output_type": "execute_result"
    }
   ],
   "source": [
    "confusion_matrix(y_test,y_pred_knn)"
   ]
  },
  {
   "cell_type": "code",
   "execution_count": 27,
   "id": "affc440a",
   "metadata": {},
   "outputs": [
    {
     "name": "stdout",
     "output_type": "stream",
     "text": [
      "              precision    recall  f1-score   support\n",
      "\n",
      "           0       0.82      0.96      0.89      9415\n",
      "           1       0.46      0.14      0.21      2261\n",
      "\n",
      "    accuracy                           0.80     11676\n",
      "   macro avg       0.64      0.55      0.55     11676\n",
      "weighted avg       0.75      0.80      0.76     11676\n",
      "\n"
     ]
    }
   ],
   "source": [
    "print(classification_report(y_test,y_pred_knn))"
   ]
  },
  {
   "cell_type": "code",
   "execution_count": 28,
   "id": "82840120",
   "metadata": {},
   "outputs": [
    {
     "data": {
      "image/png": "[encoded data removed]",
      "text/plain": [
       "<Figure size 432x288 with 1 Axes>"
      ]
     },
     "metadata": {
      "needs_background": "light"
     },
     "output_type": "display_data"
    }
   ],
   "source": [
    "knn_disp = RocCurveDisplay.from_estimator(model_KNN, X_test, y_test)"
   ]
  },
  {
   "cell_type": "code",
   "execution_count": 29,
   "id": "9dacbd6c",
   "metadata": {},
   "outputs": [
    {
     "data": {
      "text/plain": [
       "<sklearn.metrics._plot.precision_recall_curve.PrecisionRecallDisplay at 0x1fbdaf2d460>"
      ]
     },
     "execution_count": 29,
     "metadata": {},
     "output_type": "execute_result"
    },
    {
     "data": {
      "image/png": "[encoded data removed]",
      "text/plain": [
       "<Figure size 432x288 with 1 Axes>"
      ]
     },
     "metadata": {
      "needs_background": "light"
     },
     "output_type": "display_data"
    }
   ],
   "source": [
    "plot_precision_recall_curve(model_KNN, X_test, y_test)"
   ]
  },
  {
   "cell_type": "markdown",
   "id": "a25ffeaf",
   "metadata": {},
   "source": [
    "<a id='rf'></a>\n",
    "### Random Forest"
   ]
  },
  {
   "cell_type": "code",
   "execution_count": 30,
   "id": "eca5808c",
   "metadata": {},
   "outputs": [],
   "source": [
    "model_RF = RandomForestClassifier()"
   ]
  },
  {
   "cell_type": "code",
   "execution_count": 31,
   "id": "9fc21d20",
   "metadata": {},
   "outputs": [
    {
     "data": {
      "text/html": [
       "<style>#sk-074851ac-1e4d-4766-aebf-6477e2838d59 {color: black;background-color: white;}#sk-074851ac-1e4d-4766-aebf-6477e2838d59 pre{padding: 0;}#sk-074851ac-1e4d-4766-aebf-6477e2838d59 div.sk-toggleable {background-color: white;}#sk-074851ac-1e4d-4766-aebf-6477e2838d59 label.sk-toggleable__label {cursor: pointer;display: block;width: 100%;margin-bottom: 0;padding: 0.3em;box-sizing: border-box;text-align: center;}#sk-074851ac-1e4d-4766-aebf-6477e2838d59 label.sk-toggleable__label-arrow:before {content: \"▸\";float: left;margin-right: 0.25em;color: #696969;}#sk-074851ac-1e4d-4766-aebf-6477e2838d59 label.sk-toggleable__label-arrow:hover:before {color: black;}#sk-074851ac-1e4d-4766-aebf-6477e2838d59 div.sk-estimator:hover label.sk-toggleable__label-arrow:before {color: black;}#sk-074851ac-1e4d-4766-aebf-6477e2838d59 div.sk-toggleable__content {max-height: 0;max-width: 0;overflow: hidden;text-align: left;background-color: #f0f8ff;}#sk-074851ac-1e4d-4766-aebf-6477e2838d59 div.sk-toggleable__content pre {margin: 0.2em;color: black;border-radius: 0.25em;background-color: #f0f8ff;}#sk-074851ac-1e4d-4766-aebf-6477e2838d59 input.sk-toggleable__control:checked~div.sk-toggleable__content {max-height: 200px;max-width: 100%;overflow: auto;}#sk-074851ac-1e4d-4766-aebf-6477e2838d59 input.sk-toggleable__control:checked~label.sk-toggleable__label-arrow:before {content: \"▾\";}#sk-074851ac-1e4d-4766-aebf-6477e2838d59 div.sk-estimator input.sk-toggleable__control:checked~label.sk-toggleable__label {background-color: #d4ebff;}#sk-074851ac-1e4d-4766-aebf-6477e2838d59 div.sk-label input.sk-toggleable__control:checked~label.sk-toggleable__label {background-color: #d4ebff;}#sk-074851ac-1e4d-4766-aebf-6477e2838d59 input.sk-hidden--visually {border: 0;clip: rect(1px 1px 1px 1px);clip: rect(1px, 1px, 1px, 1px);height: 1px;margin: -1px;overflow: hidden;padding: 0;position: absolute;width: 1px;}#sk-074851ac-1e4d-4766-aebf-6477e2838d59 div.sk-estimator {font-family: monospace;background-color: #f0f8ff;border: 1px dotted black;border-radius: 0.25em;box-sizing: border-box;margin-bottom: 0.5em;}#sk-074851ac-1e4d-4766-aebf-6477e2838d59 div.sk-estimator:hover {background-color: #d4ebff;}#sk-074851ac-1e4d-4766-aebf-6477e2838d59 div.sk-parallel-item::after {content: \"\";width: 100%;border-bottom: 1px solid gray;flex-grow: 1;}#sk-074851ac-1e4d-4766-aebf-6477e2838d59 div.sk-label:hover label.sk-toggleable__label {background-color: #d4ebff;}#sk-074851ac-1e4d-4766-aebf-6477e2838d59 div.sk-serial::before {content: \"\";position: absolute;border-left: 1px solid gray;box-sizing: border-box;top: 2em;bottom: 0;left: 50%;}#sk-074851ac-1e4d-4766-aebf-6477e2838d59 div.sk-serial {display: flex;flex-direction: column;align-items: center;background-color: white;padding-right: 0.2em;padding-left: 0.2em;}#sk-074851ac-1e4d-4766-aebf-6477e2838d59 div.sk-item {z-index: 1;}#sk-074851ac-1e4d-4766-aebf-6477e2838d59 div.sk-parallel {display: flex;align-items: stretch;justify-content: center;background-color: white;}#sk-074851ac-1e4d-4766-aebf-6477e2838d59 div.sk-parallel::before {content: \"\";position: absolute;border-left: 1px solid gray;box-sizing: border-box;top: 2em;bottom: 0;left: 50%;}#sk-074851ac-1e4d-4766-aebf-6477e2838d59 div.sk-parallel-item {display: flex;flex-direction: column;position: relative;background-color: white;}#sk-074851ac-1e4d-4766-aebf-6477e2838d59 div.sk-parallel-item:first-child::after {align-self: flex-end;width: 50%;}#sk-074851ac-1e4d-4766-aebf-6477e2838d59 div.sk-parallel-item:last-child::after {align-self: flex-start;width: 50%;}#sk-074851ac-1e4d-4766-aebf-6477e2838d59 div.sk-parallel-item:only-child::after {width: 0;}#sk-074851ac-1e4d-4766-aebf-6477e2838d59 div.sk-dashed-wrapped {border: 1px dashed gray;margin: 0 0.4em 0.5em 0.4em;box-sizing: border-box;padding-bottom: 0.4em;background-color: white;position: relative;}#sk-074851ac-1e4d-4766-aebf-6477e2838d59 div.sk-label label {font-family: monospace;font-weight: bold;background-color: white;display: inline-block;line-height: 1.2em;}#sk-074851ac-1e4d-4766-aebf-6477e2838d59 div.sk-label-container {position: relative;z-index: 2;text-align: center;}#sk-074851ac-1e4d-4766-aebf-6477e2838d59 div.sk-container {/* jupyter's `normalize.less` sets `[hidden] { display: none; }` but bootstrap.min.css set `[hidden] { display: none !important; }` so we also need the `!important` here to be able to override the default hidden behavior on the sphinx rendered scikit-learn.org. See: https://github.com/scikit-learn/scikit-learn/issues/21755 */display: inline-block !important;position: relative;}#sk-074851ac-1e4d-4766-aebf-6477e2838d59 div.sk-text-repr-fallback {display: none;}</style><div id=\"sk-074851ac-1e4d-4766-aebf-6477e2838d59\" class=\"sk-top-container\"><div class=\"sk-text-repr-fallback\"><pre>RandomForestClassifier()</pre><b>Please rerun this cell to show the HTML repr or trust the notebook.</b></div><div class=\"sk-container\" hidden><div class=\"sk-item\"><div class=\"sk-estimator sk-toggleable\"><input class=\"sk-toggleable__control sk-hidden--visually\" id=\"9888822e-73d6-4929-89d5-ca11ca200345\" type=\"checkbox\" checked><label for=\"9888822e-73d6-4929-89d5-ca11ca200345\" class=\"sk-toggleable__label sk-toggleable__label-arrow\">RandomForestClassifier</label><div class=\"sk-toggleable__content\"><pre>RandomForestClassifier()</pre></div></div></div></div></div>"
      ],
      "text/plain": [
       "RandomForestClassifier()"
      ]
     },
     "execution_count": 31,
     "metadata": {},
     "output_type": "execute_result"
    }
   ],
   "source": [
    "model_RF.fit(X_train, y_train)"
   ]
  },
  {
   "cell_type": "code",
   "execution_count": 32,
   "id": "bb221fca",
   "metadata": {},
   "outputs": [],
   "source": [
    "y_pred_rf =model_RF.predict(X_test)"
   ]
  },
  {
   "cell_type": "code",
   "execution_count": 33,
   "id": "94a5e236",
   "metadata": {},
   "outputs": [
    {
     "data": {
      "text/plain": [
       "array([[9317,   98],\n",
       "       [ 811, 1450]], dtype=int64)"
      ]
     },
     "execution_count": 33,
     "metadata": {},
     "output_type": "execute_result"
    }
   ],
   "source": [
    "confusion_matrix(y_test,y_pred_rf)"
   ]
  },
  {
   "cell_type": "code",
   "execution_count": 34,
   "id": "3b8a8305",
   "metadata": {},
   "outputs": [
    {
     "name": "stdout",
     "output_type": "stream",
     "text": [
      "              precision    recall  f1-score   support\n",
      "\n",
      "           0       0.92      0.99      0.95      9415\n",
      "           1       0.94      0.64      0.76      2261\n",
      "\n",
      "    accuracy                           0.92     11676\n",
      "   macro avg       0.93      0.82      0.86     11676\n",
      "weighted avg       0.92      0.92      0.92     11676\n",
      "\n"
     ]
    }
   ],
   "source": [
    "print(classification_report(y_test,y_pred_rf))"
   ]
  },
  {
   "cell_type": "code",
   "execution_count": 35,
   "id": "c5f88552",
   "metadata": {},
   "outputs": [
    {
     "data": {
      "text/plain": [
       "<sklearn.metrics._plot.roc_curve.RocCurveDisplay at 0x1fbdb06cbb0>"
      ]
     },
     "execution_count": 35,
     "metadata": {},
     "output_type": "execute_result"
    },
    {
     "data": {
      "image/png": "[encoded data removed]",
      "text/plain": [
       "<Figure size 432x288 with 1 Axes>"
      ]
     },
     "metadata": {
      "needs_background": "light"
     },
     "output_type": "display_data"
    }
   ],
   "source": [
    "plot_roc_curve(model_RF, X_test, y_test)"
   ]
  },
  {
   "cell_type": "code",
   "execution_count": 36,
   "id": "646b6bdf",
   "metadata": {},
   "outputs": [
    {
     "data": {
      "text/plain": [
       "<sklearn.metrics._plot.precision_recall_curve.PrecisionRecallDisplay at 0x1fbdb0dea90>"
      ]
     },
     "execution_count": 36,
     "metadata": {},
     "output_type": "execute_result"
    },
    {
     "data": {
      "image/png": "[encoded data removed]",
      "text/plain": [
       "<Figure size 432x288 with 1 Axes>"
      ]
     },
     "metadata": {
      "needs_background": "light"
     },
     "output_type": "display_data"
    }
   ],
   "source": [
    "plot_precision_recall_curve(model_RF, X_test, y_test)"
   ]
  },
  {
   "cell_type": "markdown",
   "id": "3f8cadd5",
   "metadata": {},
   "source": [
    "<a id='gbvit'></a>\n",
    "### Gradient Boosting"
   ]
  },
  {
   "cell_type": "code",
   "execution_count": 37,
   "id": "59f8c6b8",
   "metadata": {},
   "outputs": [],
   "source": [
    "model_GB = GradientBoostingClassifier()"
   ]
  },
  {
   "cell_type": "code",
   "execution_count": 38,
   "id": "53f560e2",
   "metadata": {},
   "outputs": [
    {
     "data": {
      "text/html": [
       "<style>#sk-ec355d11-4f68-408b-b94d-7502620bd699 {color: black;background-color: white;}#sk-ec355d11-4f68-408b-b94d-7502620bd699 pre{padding: 0;}#sk-ec355d11-4f68-408b-b94d-7502620bd699 div.sk-toggleable {background-color: white;}#sk-ec355d11-4f68-408b-b94d-7502620bd699 label.sk-toggleable__label {cursor: pointer;display: block;width: 100%;margin-bottom: 0;padding: 0.3em;box-sizing: border-box;text-align: center;}#sk-ec355d11-4f68-408b-b94d-7502620bd699 label.sk-toggleable__label-arrow:before {content: \"▸\";float: left;margin-right: 0.25em;color: #696969;}#sk-ec355d11-4f68-408b-b94d-7502620bd699 label.sk-toggleable__label-arrow:hover:before {color: black;}#sk-ec355d11-4f68-408b-b94d-7502620bd699 div.sk-estimator:hover label.sk-toggleable__label-arrow:before {color: black;}#sk-ec355d11-4f68-408b-b94d-7502620bd699 div.sk-toggleable__content {max-height: 0;max-width: 0;overflow: hidden;text-align: left;background-color: #f0f8ff;}#sk-ec355d11-4f68-408b-b94d-7502620bd699 div.sk-toggleable__content pre {margin: 0.2em;color: black;border-radius: 0.25em;background-color: #f0f8ff;}#sk-ec355d11-4f68-408b-b94d-7502620bd699 input.sk-toggleable__control:checked~div.sk-toggleable__content {max-height: 200px;max-width: 100%;overflow: auto;}#sk-ec355d11-4f68-408b-b94d-7502620bd699 input.sk-toggleable__control:checked~label.sk-toggleable__label-arrow:before {content: \"▾\";}#sk-ec355d11-4f68-408b-b94d-7502620bd699 div.sk-estimator input.sk-toggleable__control:checked~label.sk-toggleable__label {background-color: #d4ebff;}#sk-ec355d11-4f68-408b-b94d-7502620bd699 div.sk-label input.sk-toggleable__control:checked~label.sk-toggleable__label {background-color: #d4ebff;}#sk-ec355d11-4f68-408b-b94d-7502620bd699 input.sk-hidden--visually {border: 0;clip: rect(1px 1px 1px 1px);clip: rect(1px, 1px, 1px, 1px);height: 1px;margin: -1px;overflow: hidden;padding: 0;position: absolute;width: 1px;}#sk-ec355d11-4f68-408b-b94d-7502620bd699 div.sk-estimator {font-family: monospace;background-color: #f0f8ff;border: 1px dotted black;border-radius: 0.25em;box-sizing: border-box;margin-bottom: 0.5em;}#sk-ec355d11-4f68-408b-b94d-7502620bd699 div.sk-estimator:hover {background-color: #d4ebff;}#sk-ec355d11-4f68-408b-b94d-7502620bd699 div.sk-parallel-item::after {content: \"\";width: 100%;border-bottom: 1px solid gray;flex-grow: 1;}#sk-ec355d11-4f68-408b-b94d-7502620bd699 div.sk-label:hover label.sk-toggleable__label {background-color: #d4ebff;}#sk-ec355d11-4f68-408b-b94d-7502620bd699 div.sk-serial::before {content: \"\";position: absolute;border-left: 1px solid gray;box-sizing: border-box;top: 2em;bottom: 0;left: 50%;}#sk-ec355d11-4f68-408b-b94d-7502620bd699 div.sk-serial {display: flex;flex-direction: column;align-items: center;background-color: white;padding-right: 0.2em;padding-left: 0.2em;}#sk-ec355d11-4f68-408b-b94d-7502620bd699 div.sk-item {z-index: 1;}#sk-ec355d11-4f68-408b-b94d-7502620bd699 div.sk-parallel {display: flex;align-items: stretch;justify-content: center;background-color: white;}#sk-ec355d11-4f68-408b-b94d-7502620bd699 div.sk-parallel::before {content: \"\";position: absolute;border-left: 1px solid gray;box-sizing: border-box;top: 2em;bottom: 0;left: 50%;}#sk-ec355d11-4f68-408b-b94d-7502620bd699 div.sk-parallel-item {display: flex;flex-direction: column;position: relative;background-color: white;}#sk-ec355d11-4f68-408b-b94d-7502620bd699 div.sk-parallel-item:first-child::after {align-self: flex-end;width: 50%;}#sk-ec355d11-4f68-408b-b94d-7502620bd699 div.sk-parallel-item:last-child::after {align-self: flex-start;width: 50%;}#sk-ec355d11-4f68-408b-b94d-7502620bd699 div.sk-parallel-item:only-child::after {width: 0;}#sk-ec355d11-4f68-408b-b94d-7502620bd699 div.sk-dashed-wrapped {border: 1px dashed gray;margin: 0 0.4em 0.5em 0.4em;box-sizing: border-box;padding-bottom: 0.4em;background-color: white;position: relative;}#sk-ec355d11-4f68-408b-b94d-7502620bd699 div.sk-label label {font-family: monospace;font-weight: bold;background-color: white;display: inline-block;line-height: 1.2em;}#sk-ec355d11-4f68-408b-b94d-7502620bd699 div.sk-label-container {position: relative;z-index: 2;text-align: center;}#sk-ec355d11-4f68-408b-b94d-7502620bd699 div.sk-container {/* jupyter's `normalize.less` sets `[hidden] { display: none; }` but bootstrap.min.css set `[hidden] { display: none !important; }` so we also need the `!important` here to be able to override the default hidden behavior on the sphinx rendered scikit-learn.org. See: https://github.com/scikit-learn/scikit-learn/issues/21755 */display: inline-block !important;position: relative;}#sk-ec355d11-4f68-408b-b94d-7502620bd699 div.sk-text-repr-fallback {display: none;}</style><div id=\"sk-ec355d11-4f68-408b-b94d-7502620bd699\" class=\"sk-top-container\"><div class=\"sk-text-repr-fallback\"><pre>GradientBoostingClassifier()</pre><b>Please rerun this cell to show the HTML repr or trust the notebook.</b></div><div class=\"sk-container\" hidden><div class=\"sk-item\"><div class=\"sk-estimator sk-toggleable\"><input class=\"sk-toggleable__control sk-hidden--visually\" id=\"805504ef-4ee0-47cc-a630-0fa8ba827781\" type=\"checkbox\" checked><label for=\"805504ef-4ee0-47cc-a630-0fa8ba827781\" class=\"sk-toggleable__label sk-toggleable__label-arrow\">GradientBoostingClassifier</label><div class=\"sk-toggleable__content\"><pre>GradientBoostingClassifier()</pre></div></div></div></div></div>"
      ],
      "text/plain": [
       "GradientBoostingClassifier()"
      ]
     },
     "execution_count": 38,
     "metadata": {},
     "output_type": "execute_result"
    }
   ],
   "source": [
    "model_GB.fit(X_train,y_train)"
   ]
  },
  {
   "cell_type": "code",
   "execution_count": 39,
   "id": "49ace725",
   "metadata": {},
   "outputs": [],
   "source": [
    "y_pred_gb =model_GB.predict(X_test)"
   ]
  },
  {
   "cell_type": "code",
   "execution_count": 40,
   "id": "c744e52f",
   "metadata": {},
   "outputs": [
    {
     "data": {
      "text/plain": [
       "array([[9284,  131],\n",
       "       [ 665, 1596]], dtype=int64)"
      ]
     },
     "execution_count": 40,
     "metadata": {},
     "output_type": "execute_result"
    }
   ],
   "source": [
    "confusion_matrix(y_test,y_pred_gb)"
   ]
  },
  {
   "cell_type": "code",
   "execution_count": 41,
   "id": "9bcc2505",
   "metadata": {},
   "outputs": [
    {
     "name": "stdout",
     "output_type": "stream",
     "text": [
      "              precision    recall  f1-score   support\n",
      "\n",
      "           0       0.93      0.99      0.96      9415\n",
      "           1       0.92      0.71      0.80      2261\n",
      "\n",
      "    accuracy                           0.93     11676\n",
      "   macro avg       0.93      0.85      0.88     11676\n",
      "weighted avg       0.93      0.93      0.93     11676\n",
      "\n"
     ]
    }
   ],
   "source": [
    "print(classification_report(y_test,y_pred_gb))"
   ]
  },
  {
   "cell_type": "code",
   "execution_count": 42,
   "id": "2041ebbc",
   "metadata": {},
   "outputs": [
    {
     "data": {
      "text/plain": [
       "<sklearn.metrics._plot.roc_curve.RocCurveDisplay at 0x1fbdb194d60>"
      ]
     },
     "execution_count": 42,
     "metadata": {},
     "output_type": "execute_result"
    },
    {
     "data": {
      "image/png": "[encoded data removed]",
      "text/plain": [
       "<Figure size 432x288 with 1 Axes>"
      ]
     },
     "metadata": {
      "needs_background": "light"
     },
     "output_type": "display_data"
    }
   ],
   "source": [
    "plot_roc_curve(model_GB, X_test, y_test)"
   ]
  },
  {
   "cell_type": "code",
   "execution_count": 43,
   "id": "4fd1ec61",
   "metadata": {},
   "outputs": [
    {
     "data": {
      "text/plain": [
       "<sklearn.metrics._plot.precision_recall_curve.PrecisionRecallDisplay at 0x1fbdb1a7b50>"
      ]
     },
     "execution_count": 43,
     "metadata": {},
     "output_type": "execute_result"
    },
    {
     "data": {
      "image/png": "[encoded data removed]",
      "text/plain": [
       "<Figure size 432x288 with 1 Axes>"
      ]
     },
     "metadata": {
      "needs_background": "light"
     },
     "output_type": "display_data"
    }
   ],
   "source": [
    "plot_precision_recall_curve(model_GB, X_test, y_test)"
   ]
  },
  {
   "cell_type": "markdown",
   "id": "50426498",
   "metadata": {},
   "source": [
    "<a id='lr'></a>\n",
    "### Logistic Regression"
   ]
  },
  {
   "cell_type": "code",
   "execution_count": 44,
   "id": "03d9c271",
   "metadata": {},
   "outputs": [],
   "source": [
    "df = df_fin"
   ]
  },
  {
   "cell_type": "code",
   "execution_count": 45,
   "id": "d27f2f01",
   "metadata": {},
   "outputs": [],
   "source": [
    "def preprocess2(df):\n",
    "    dfmod = pd.merge(df[categorical_features], df[numeric_features], left_index=True, right_index=True)\n",
    "    dfmod = dfmod.join(df['vit_stat'])\n",
    "    return dfmod"
   ]
  },
  {
   "cell_type": "code",
   "execution_count": 46,
   "id": "26e2c216",
   "metadata": {},
   "outputs": [],
   "source": [
    "df = preprocess2(df)"
   ]
  },
  {
   "cell_type": "code",
   "execution_count": 47,
   "id": "9bc138d5",
   "metadata": {},
   "outputs": [
    {
     "data": {
      "text/plain": [
       "Index(['tumsoort', 'diag_basis', 'topo_sublok', 'later', 'morf',\n",
       "       'uitgebr_chir_code', 'chemo', 'target', 'horm', 'rt', 'leeft', 'incjr',\n",
       "       'vit_stat_int', 'ond_lymf', 'pos_lymf', 'tum_afm', 'gedrag', 'diffgrad',\n",
       "       'cm', 'pm', 'er_stat', 'pr_stat', 'her2_stat', 'dcis_comp', 'multifoc',\n",
       "       'swk', 'swk_uitslag', 'mari', 'mari_uitslag', 'okd', 'org_chir',\n",
       "       'dir_reconstr', 'meta_rt', 'meta_chir', 'ct_ord', 'cn_ord', 'pt_ord',\n",
       "       'pn_ord', 'stadium_ord', 'cstadium_ord', 'pstadium_ord', 'vit_stat'],\n",
       "      dtype='object')"
      ]
     },
     "execution_count": 47,
     "metadata": {},
     "output_type": "execute_result"
    }
   ],
   "source": [
    "df.columns"
   ]
  },
  {
   "cell_type": "code",
   "execution_count": 48,
   "id": "39c07072",
   "metadata": {},
   "outputs": [],
   "source": [
    "X = pd.get_dummies(X,drop_first=False)"
   ]
  },
  {
   "cell_type": "code",
   "execution_count": 49,
   "id": "676f6149",
   "metadata": {},
   "outputs": [],
   "source": [
    "y = df['vit_stat']"
   ]
  },
  {
   "cell_type": "code",
   "execution_count": 50,
   "id": "bbd055b7",
   "metadata": {},
   "outputs": [],
   "source": [
    "from sklearn.model_selection import train_test_split\n",
    "X_train, X_test, y_train, y_test = train_test_split(X, y, test_size=TEST_SIZE, random_state=RANDOM_STATE)"
   ]
  },
  {
   "cell_type": "code",
   "execution_count": 51,
   "id": "a1799004",
   "metadata": {},
   "outputs": [],
   "source": [
    "scaler = StandardScaler()"
   ]
  },
  {
   "cell_type": "code",
   "execution_count": 52,
   "id": "865eef6c",
   "metadata": {},
   "outputs": [],
   "source": [
    "X_train = scaler.fit_transform(X_train)\n",
    "X_test = scaler.transform(X_test)"
   ]
  },
  {
   "cell_type": "code",
   "execution_count": 53,
   "id": "6bc8f5a7",
   "metadata": {},
   "outputs": [],
   "source": [
    "model_LR = LogisticRegressionCV()"
   ]
  },
  {
   "cell_type": "code",
   "execution_count": 54,
   "id": "9b928ed6",
   "metadata": {},
   "outputs": [
    {
     "data": {
      "text/html": [
       "<style>#sk-b4ff3341-0a22-4de8-9ded-178aa44a4718 {color: black;background-color: white;}#sk-b4ff3341-0a22-4de8-9ded-178aa44a4718 pre{padding: 0;}#sk-b4ff3341-0a22-4de8-9ded-178aa44a4718 div.sk-toggleable {background-color: white;}#sk-b4ff3341-0a22-4de8-9ded-178aa44a4718 label.sk-toggleable__label {cursor: pointer;display: block;width: 100%;margin-bottom: 0;padding: 0.3em;box-sizing: border-box;text-align: center;}#sk-b4ff3341-0a22-4de8-9ded-178aa44a4718 label.sk-toggleable__label-arrow:before {content: \"▸\";float: left;margin-right: 0.25em;color: #696969;}#sk-b4ff3341-0a22-4de8-9ded-178aa44a4718 label.sk-toggleable__label-arrow:hover:before {color: black;}#sk-b4ff3341-0a22-4de8-9ded-178aa44a4718 div.sk-estimator:hover label.sk-toggleable__label-arrow:before {color: black;}#sk-b4ff3341-0a22-4de8-9ded-178aa44a4718 div.sk-toggleable__content {max-height: 0;max-width: 0;overflow: hidden;text-align: left;background-color: #f0f8ff;}#sk-b4ff3341-0a22-4de8-9ded-178aa44a4718 div.sk-toggleable__content pre {margin: 0.2em;color: black;border-radius: 0.25em;background-color: #f0f8ff;}#sk-b4ff3341-0a22-4de8-9ded-178aa44a4718 input.sk-toggleable__control:checked~div.sk-toggleable__content {max-height: 200px;max-width: 100%;overflow: auto;}#sk-b4ff3341-0a22-4de8-9ded-178aa44a4718 input.sk-toggleable__control:checked~label.sk-toggleable__label-arrow:before {content: \"▾\";}#sk-b4ff3341-0a22-4de8-9ded-178aa44a4718 div.sk-estimator input.sk-toggleable__control:checked~label.sk-toggleable__label {background-color: #d4ebff;}#sk-b4ff3341-0a22-4de8-9ded-178aa44a4718 div.sk-label input.sk-toggleable__control:checked~label.sk-toggleable__label {background-color: #d4ebff;}#sk-b4ff3341-0a22-4de8-9ded-178aa44a4718 input.sk-hidden--visually {border: 0;clip: rect(1px 1px 1px 1px);clip: rect(1px, 1px, 1px, 1px);height: 1px;margin: -1px;overflow: hidden;padding: 0;position: absolute;width: 1px;}#sk-b4ff3341-0a22-4de8-9ded-178aa44a4718 div.sk-estimator {font-family: monospace;background-color: #f0f8ff;border: 1px dotted black;border-radius: 0.25em;box-sizing: border-box;margin-bottom: 0.5em;}#sk-b4ff3341-0a22-4de8-9ded-178aa44a4718 div.sk-estimator:hover {background-color: #d4ebff;}#sk-b4ff3341-0a22-4de8-9ded-178aa44a4718 div.sk-parallel-item::after {content: \"\";width: 100%;border-bottom: 1px solid gray;flex-grow: 1;}#sk-b4ff3341-0a22-4de8-9ded-178aa44a4718 div.sk-label:hover label.sk-toggleable__label {background-color: #d4ebff;}#sk-b4ff3341-0a22-4de8-9ded-178aa44a4718 div.sk-serial::before {content: \"\";position: absolute;border-left: 1px solid gray;box-sizing: border-box;top: 2em;bottom: 0;left: 50%;}#sk-b4ff3341-0a22-4de8-9ded-178aa44a4718 div.sk-serial {display: flex;flex-direction: column;align-items: center;background-color: white;padding-right: 0.2em;padding-left: 0.2em;}#sk-b4ff3341-0a22-4de8-9ded-178aa44a4718 div.sk-item {z-index: 1;}#sk-b4ff3341-0a22-4de8-9ded-178aa44a4718 div.sk-parallel {display: flex;align-items: stretch;justify-content: center;background-color: white;}#sk-b4ff3341-0a22-4de8-9ded-178aa44a4718 div.sk-parallel::before {content: \"\";position: absolute;border-left: 1px solid gray;box-sizing: border-box;top: 2em;bottom: 0;left: 50%;}#sk-b4ff3341-0a22-4de8-9ded-178aa44a4718 div.sk-parallel-item {display: flex;flex-direction: column;position: relative;background-color: white;}#sk-b4ff3341-0a22-4de8-9ded-178aa44a4718 div.sk-parallel-item:first-child::after {align-self: flex-end;width: 50%;}#sk-b4ff3341-0a22-4de8-9ded-178aa44a4718 div.sk-parallel-item:last-child::after {align-self: flex-start;width: 50%;}#sk-b4ff3341-0a22-4de8-9ded-178aa44a4718 div.sk-parallel-item:only-child::after {width: 0;}#sk-b4ff3341-0a22-4de8-9ded-178aa44a4718 div.sk-dashed-wrapped {border: 1px dashed gray;margin: 0 0.4em 0.5em 0.4em;box-sizing: border-box;padding-bottom: 0.4em;background-color: white;position: relative;}#sk-b4ff3341-0a22-4de8-9ded-178aa44a4718 div.sk-label label {font-family: monospace;font-weight: bold;background-color: white;display: inline-block;line-height: 1.2em;}#sk-b4ff3341-0a22-4de8-9ded-178aa44a4718 div.sk-label-container {position: relative;z-index: 2;text-align: center;}#sk-b4ff3341-0a22-4de8-9ded-178aa44a4718 div.sk-container {/* jupyter's `normalize.less` sets `[hidden] { display: none; }` but bootstrap.min.css set `[hidden] { display: none !important; }` so we also need the `!important` here to be able to override the default hidden behavior on the sphinx rendered scikit-learn.org. See: https://github.com/scikit-learn/scikit-learn/issues/21755 */display: inline-block !important;position: relative;}#sk-b4ff3341-0a22-4de8-9ded-178aa44a4718 div.sk-text-repr-fallback {display: none;}</style><div id=\"sk-b4ff3341-0a22-4de8-9ded-178aa44a4718\" class=\"sk-top-container\"><div class=\"sk-text-repr-fallback\"><pre>LogisticRegressionCV()</pre><b>Please rerun this cell to show the HTML repr or trust the notebook.</b></div><div class=\"sk-container\" hidden><div class=\"sk-item\"><div class=\"sk-estimator sk-toggleable\"><input class=\"sk-toggleable__control sk-hidden--visually\" id=\"66632f80-03b0-4ba0-98e9-f96bdad7db1f\" type=\"checkbox\" checked><label for=\"66632f80-03b0-4ba0-98e9-f96bdad7db1f\" class=\"sk-toggleable__label sk-toggleable__label-arrow\">LogisticRegressionCV</label><div class=\"sk-toggleable__content\"><pre>LogisticRegressionCV()</pre></div></div></div></div></div>"
      ],
      "text/plain": [
       "LogisticRegressionCV()"
      ]
     },
     "execution_count": 54,
     "metadata": {},
     "output_type": "execute_result"
    }
   ],
   "source": [
    "model_LR.fit(X_train, y_train)"
   ]
  },
  {
   "cell_type": "code",
   "execution_count": 55,
   "id": "324e5153",
   "metadata": {},
   "outputs": [],
   "source": [
    "y_pred_lr = model_LR.predict(X_test)"
   ]
  },
  {
   "cell_type": "code",
   "execution_count": 56,
   "id": "6913e205",
   "metadata": {},
   "outputs": [
    {
     "data": {
      "text/plain": [
       "array([[9204,  211],\n",
       "       [ 825, 1436]], dtype=int64)"
      ]
     },
     "execution_count": 56,
     "metadata": {},
     "output_type": "execute_result"
    }
   ],
   "source": [
    "confusion_matrix(y_test,y_pred_lr)"
   ]
  },
  {
   "cell_type": "code",
   "execution_count": 57,
   "id": "7aaec714",
   "metadata": {},
   "outputs": [
    {
     "name": "stdout",
     "output_type": "stream",
     "text": [
      "              precision    recall  f1-score   support\n",
      "\n",
      "           0       0.92      0.98      0.95      9415\n",
      "           1       0.87      0.64      0.73      2261\n",
      "\n",
      "    accuracy                           0.91     11676\n",
      "   macro avg       0.89      0.81      0.84     11676\n",
      "weighted avg       0.91      0.91      0.91     11676\n",
      "\n"
     ]
    }
   ],
   "source": [
    "print(classification_report(y_test,y_pred_lr))"
   ]
  },
  {
   "cell_type": "code",
   "execution_count": 58,
   "id": "b039c5f5",
   "metadata": {},
   "outputs": [
    {
     "data": {
      "text/plain": [
       "<sklearn.metrics._plot.roc_curve.RocCurveDisplay at 0x1fbb6c3ad00>"
      ]
     },
     "execution_count": 58,
     "metadata": {},
     "output_type": "execute_result"
    },
    {
     "data": {
      "image/png": "[encoded data removed]",
      "text/plain": [
       "<Figure size 432x288 with 1 Axes>"
      ]
     },
     "metadata": {
      "needs_background": "light"
     },
     "output_type": "display_data"
    }
   ],
   "source": [
    "plot_roc_curve(model_LR, X_test, y_test)"
   ]
  },
  {
   "cell_type": "code",
   "execution_count": 59,
   "id": "ff0f4859",
   "metadata": {},
   "outputs": [
    {
     "data": {
      "text/plain": [
       "<sklearn.metrics._plot.precision_recall_curve.PrecisionRecallDisplay at 0x1fbdc3a6fd0>"
      ]
     },
     "execution_count": 59,
     "metadata": {},
     "output_type": "execute_result"
    },
    {
     "data": {
      "image/png": "[encoded data removed]",
      "text/plain": [
       "<Figure size 432x288 with 1 Axes>"
      ]
     },
     "metadata": {
      "needs_background": "light"
     },
     "output_type": "display_data"
    }
   ],
   "source": [
    "plot_precision_recall_curve(model_LR, X_test, y_test)"
   ]
  },
  {
   "cell_type": "code",
   "execution_count": 60,
   "id": "4597f575",
   "metadata": {},
   "outputs": [
    {
     "data": {
      "text/plain": [
       "{'Cs': 10,\n",
       " 'class_weight': None,\n",
       " 'cv': None,\n",
       " 'dual': False,\n",
       " 'fit_intercept': True,\n",
       " 'intercept_scaling': 1.0,\n",
       " 'l1_ratios': None,\n",
       " 'max_iter': 100,\n",
       " 'multi_class': 'auto',\n",
       " 'n_jobs': None,\n",
       " 'penalty': 'l2',\n",
       " 'random_state': None,\n",
       " 'refit': True,\n",
       " 'scoring': None,\n",
       " 'solver': 'lbfgs',\n",
       " 'tol': 0.0001,\n",
       " 'verbose': 0}"
      ]
     },
     "execution_count": 60,
     "metadata": {},
     "output_type": "execute_result"
    }
   ],
   "source": [
    "model_LR.get_params()"
   ]
  },
  {
   "cell_type": "code",
   "execution_count": 61,
   "id": "3ba834d3",
   "metadata": {},
   "outputs": [
    {
     "data": {
      "text/html": [
       "<div>\n",
       "<style scoped>\n",
       "    .dataframe tbody tr th:only-of-type {\n",
       "        vertical-align: middle;\n",
       "    }\n",
       "\n",
       "    .dataframe tbody tr th {\n",
       "        vertical-align: top;\n",
       "    }\n",
       "\n",
       "    .dataframe thead th {\n",
       "        text-align: right;\n",
       "    }\n",
       "</style>\n",
       "<table border=\"1\" class=\"dataframe\">\n",
       "  <thead>\n",
       "    <tr style=\"text-align: right;\">\n",
       "      <th></th>\n",
       "      <th>Coef</th>\n",
       "    </tr>\n",
       "  </thead>\n",
       "  <tbody>\n",
       "    <tr>\n",
       "      <th>incjr</th>\n",
       "      <td>-3.239495</td>\n",
       "    </tr>\n",
       "    <tr>\n",
       "      <th>vit_stat_int</th>\n",
       "      <td>-3.080809</td>\n",
       "    </tr>\n",
       "    <tr>\n",
       "      <th>cn_ord</th>\n",
       "      <td>-0.049752</td>\n",
       "    </tr>\n",
       "    <tr>\n",
       "      <th>morf_8509</th>\n",
       "      <td>-0.048825</td>\n",
       "    </tr>\n",
       "    <tr>\n",
       "      <th>uitgebr_chir_code_132C50</th>\n",
       "      <td>-0.048725</td>\n",
       "    </tr>\n",
       "    <tr>\n",
       "      <th>morf_8541</th>\n",
       "      <td>-0.040651</td>\n",
       "    </tr>\n",
       "    <tr>\n",
       "      <th>uitgebr_chir_code_missing</th>\n",
       "      <td>-0.039210</td>\n",
       "    </tr>\n",
       "    <tr>\n",
       "      <th>morf_8211</th>\n",
       "      <td>-0.037291</td>\n",
       "    </tr>\n",
       "    <tr>\n",
       "      <th>topo_sublok_C501</th>\n",
       "      <td>-0.031964</td>\n",
       "    </tr>\n",
       "    <tr>\n",
       "      <th>tumsoort_503200</th>\n",
       "      <td>-0.026949</td>\n",
       "    </tr>\n",
       "    <tr>\n",
       "      <th>org_chir</th>\n",
       "      <td>-0.025867</td>\n",
       "    </tr>\n",
       "    <tr>\n",
       "      <th>swk</th>\n",
       "      <td>-0.024725</td>\n",
       "    </tr>\n",
       "    <tr>\n",
       "      <th>target_1.0</th>\n",
       "      <td>-0.023736</td>\n",
       "    </tr>\n",
       "    <tr>\n",
       "      <th>topo_sublok_C505</th>\n",
       "      <td>-0.022940</td>\n",
       "    </tr>\n",
       "    <tr>\n",
       "      <th>morf_8480</th>\n",
       "      <td>-0.022291</td>\n",
       "    </tr>\n",
       "    <tr>\n",
       "      <th>swk_uitslag</th>\n",
       "      <td>-0.020649</td>\n",
       "    </tr>\n",
       "    <tr>\n",
       "      <th>diag_basis_6</th>\n",
       "      <td>-0.019971</td>\n",
       "    </tr>\n",
       "    <tr>\n",
       "      <th>morf_8575</th>\n",
       "      <td>-0.017522</td>\n",
       "    </tr>\n",
       "    <tr>\n",
       "      <th>dir_reconstr</th>\n",
       "      <td>-0.015719</td>\n",
       "    </tr>\n",
       "    <tr>\n",
       "      <th>target_3.0</th>\n",
       "      <td>-0.014363</td>\n",
       "    </tr>\n",
       "    <tr>\n",
       "      <th>pr_stat</th>\n",
       "      <td>-0.014141</td>\n",
       "    </tr>\n",
       "    <tr>\n",
       "      <th>morf_8200</th>\n",
       "      <td>-0.013988</td>\n",
       "    </tr>\n",
       "    <tr>\n",
       "      <th>chemo_4.0</th>\n",
       "      <td>-0.013857</td>\n",
       "    </tr>\n",
       "    <tr>\n",
       "      <th>morf_8503</th>\n",
       "      <td>-0.013462</td>\n",
       "    </tr>\n",
       "    <tr>\n",
       "      <th>tumsoort_501300</th>\n",
       "      <td>-0.013160</td>\n",
       "    </tr>\n",
       "    <tr>\n",
       "      <th>morf_8540</th>\n",
       "      <td>-0.012775</td>\n",
       "    </tr>\n",
       "    <tr>\n",
       "      <th>horm_4.0</th>\n",
       "      <td>-0.012657</td>\n",
       "    </tr>\n",
       "    <tr>\n",
       "      <th>pn_ord</th>\n",
       "      <td>-0.012638</td>\n",
       "    </tr>\n",
       "    <tr>\n",
       "      <th>rt_4.0</th>\n",
       "      <td>-0.012393</td>\n",
       "    </tr>\n",
       "    <tr>\n",
       "      <th>uitgebr_chir_code_142C50</th>\n",
       "      <td>-0.011774</td>\n",
       "    </tr>\n",
       "    <tr>\n",
       "      <th>morf_8982</th>\n",
       "      <td>-0.011252</td>\n",
       "    </tr>\n",
       "    <tr>\n",
       "      <th>morf_8501</th>\n",
       "      <td>-0.010180</td>\n",
       "    </tr>\n",
       "    <tr>\n",
       "      <th>morf_8543</th>\n",
       "      <td>-0.010128</td>\n",
       "    </tr>\n",
       "    <tr>\n",
       "      <th>multifoc</th>\n",
       "      <td>-0.009584</td>\n",
       "    </tr>\n",
       "    <tr>\n",
       "      <th>morf_8522</th>\n",
       "      <td>-0.008385</td>\n",
       "    </tr>\n",
       "    <tr>\n",
       "      <th>morf_8510</th>\n",
       "      <td>-0.007658</td>\n",
       "    </tr>\n",
       "    <tr>\n",
       "      <th>later_missing</th>\n",
       "      <td>-0.007189</td>\n",
       "    </tr>\n",
       "    <tr>\n",
       "      <th>chemo_2.0</th>\n",
       "      <td>-0.006640</td>\n",
       "    </tr>\n",
       "    <tr>\n",
       "      <th>cstadium_ord</th>\n",
       "      <td>-0.005749</td>\n",
       "    </tr>\n",
       "    <tr>\n",
       "      <th>morf_8521</th>\n",
       "      <td>-0.005435</td>\n",
       "    </tr>\n",
       "    <tr>\n",
       "      <th>stadium_ord</th>\n",
       "      <td>-0.005061</td>\n",
       "    </tr>\n",
       "    <tr>\n",
       "      <th>morf_8504</th>\n",
       "      <td>-0.004863</td>\n",
       "    </tr>\n",
       "    <tr>\n",
       "      <th>diag_basis_5</th>\n",
       "      <td>-0.004862</td>\n",
       "    </tr>\n",
       "    <tr>\n",
       "      <th>morf_8401</th>\n",
       "      <td>-0.004727</td>\n",
       "    </tr>\n",
       "    <tr>\n",
       "      <th>ond_lymf</th>\n",
       "      <td>-0.004699</td>\n",
       "    </tr>\n",
       "    <tr>\n",
       "      <th>horm_2.0</th>\n",
       "      <td>-0.004649</td>\n",
       "    </tr>\n",
       "    <tr>\n",
       "      <th>rt_2.0</th>\n",
       "      <td>-0.003857</td>\n",
       "    </tr>\n",
       "    <tr>\n",
       "      <th>her2_stat</th>\n",
       "      <td>-0.003731</td>\n",
       "    </tr>\n",
       "    <tr>\n",
       "      <th>meta_rt</th>\n",
       "      <td>-0.003620</td>\n",
       "    </tr>\n",
       "    <tr>\n",
       "      <th>chemo_3.0</th>\n",
       "      <td>-0.002633</td>\n",
       "    </tr>\n",
       "    <tr>\n",
       "      <th>topo_sublok_C508</th>\n",
       "      <td>-0.002484</td>\n",
       "    </tr>\n",
       "    <tr>\n",
       "      <th>diag_basis_2</th>\n",
       "      <td>-0.001724</td>\n",
       "    </tr>\n",
       "    <tr>\n",
       "      <th>diffgrad</th>\n",
       "      <td>-0.001216</td>\n",
       "    </tr>\n",
       "    <tr>\n",
       "      <th>morf_8524</th>\n",
       "      <td>-0.001054</td>\n",
       "    </tr>\n",
       "    <tr>\n",
       "      <th>horm_3.0</th>\n",
       "      <td>-0.000833</td>\n",
       "    </tr>\n",
       "    <tr>\n",
       "      <th>rt_0.0</th>\n",
       "      <td>0.000172</td>\n",
       "    </tr>\n",
       "    <tr>\n",
       "      <th>topo_sublok_C503</th>\n",
       "      <td>0.000327</td>\n",
       "    </tr>\n",
       "    <tr>\n",
       "      <th>later_1.0</th>\n",
       "      <td>0.000577</td>\n",
       "    </tr>\n",
       "    <tr>\n",
       "      <th>pm</th>\n",
       "      <td>0.000709</td>\n",
       "    </tr>\n",
       "    <tr>\n",
       "      <th>later_2.0</th>\n",
       "      <td>0.001568</td>\n",
       "    </tr>\n",
       "    <tr>\n",
       "      <th>morf_8000</th>\n",
       "      <td>0.002355</td>\n",
       "    </tr>\n",
       "    <tr>\n",
       "      <th>morf_8523</th>\n",
       "      <td>0.002383</td>\n",
       "    </tr>\n",
       "    <tr>\n",
       "      <th>morf_8520</th>\n",
       "      <td>0.003064</td>\n",
       "    </tr>\n",
       "    <tr>\n",
       "      <th>morf_8481</th>\n",
       "      <td>0.003420</td>\n",
       "    </tr>\n",
       "    <tr>\n",
       "      <th>target_2.0</th>\n",
       "      <td>0.004231</td>\n",
       "    </tr>\n",
       "    <tr>\n",
       "      <th>chemo_0.0</th>\n",
       "      <td>0.004551</td>\n",
       "    </tr>\n",
       "    <tr>\n",
       "      <th>target_4.0</th>\n",
       "      <td>0.004682</td>\n",
       "    </tr>\n",
       "    <tr>\n",
       "      <th>topo_sublok_C502</th>\n",
       "      <td>0.005292</td>\n",
       "    </tr>\n",
       "    <tr>\n",
       "      <th>mari_uitslag</th>\n",
       "      <td>0.007465</td>\n",
       "    </tr>\n",
       "    <tr>\n",
       "      <th>pt_ord</th>\n",
       "      <td>0.007530</td>\n",
       "    </tr>\n",
       "    <tr>\n",
       "      <th>chemo_1.0</th>\n",
       "      <td>0.007763</td>\n",
       "    </tr>\n",
       "    <tr>\n",
       "      <th>horm_0.0</th>\n",
       "      <td>0.008035</td>\n",
       "    </tr>\n",
       "    <tr>\n",
       "      <th>uitgebr_chir_code_131C50</th>\n",
       "      <td>0.008489</td>\n",
       "    </tr>\n",
       "    <tr>\n",
       "      <th>tum_afm</th>\n",
       "      <td>0.009951</td>\n",
       "    </tr>\n",
       "    <tr>\n",
       "      <th>morf_8980</th>\n",
       "      <td>0.011581</td>\n",
       "    </tr>\n",
       "    <tr>\n",
       "      <th>morf_8201</th>\n",
       "      <td>0.011631</td>\n",
       "    </tr>\n",
       "    <tr>\n",
       "      <th>dcis_comp</th>\n",
       "      <td>0.012802</td>\n",
       "    </tr>\n",
       "    <tr>\n",
       "      <th>morf_8983</th>\n",
       "      <td>0.013162</td>\n",
       "    </tr>\n",
       "    <tr>\n",
       "      <th>morf_8140</th>\n",
       "      <td>0.013213</td>\n",
       "    </tr>\n",
       "    <tr>\n",
       "      <th>morf_8500</th>\n",
       "      <td>0.013781</td>\n",
       "    </tr>\n",
       "    <tr>\n",
       "      <th>target_0.0</th>\n",
       "      <td>0.014069</td>\n",
       "    </tr>\n",
       "    <tr>\n",
       "      <th>topo_sublok_C504</th>\n",
       "      <td>0.014271</td>\n",
       "    </tr>\n",
       "    <tr>\n",
       "      <th>topo_sublok_C509</th>\n",
       "      <td>0.014675</td>\n",
       "    </tr>\n",
       "    <tr>\n",
       "      <th>diag_basis_7</th>\n",
       "      <td>0.014727</td>\n",
       "    </tr>\n",
       "    <tr>\n",
       "      <th>uitgebr_chir_code_190000</th>\n",
       "      <td>0.014782</td>\n",
       "    </tr>\n",
       "    <tr>\n",
       "      <th>horm_1.0</th>\n",
       "      <td>0.015657</td>\n",
       "    </tr>\n",
       "    <tr>\n",
       "      <th>pos_lymf</th>\n",
       "      <td>0.016240</td>\n",
       "    </tr>\n",
       "    <tr>\n",
       "      <th>morf_8050</th>\n",
       "      <td>0.016842</td>\n",
       "    </tr>\n",
       "    <tr>\n",
       "      <th>er_stat</th>\n",
       "      <td>0.018367</td>\n",
       "    </tr>\n",
       "    <tr>\n",
       "      <th>morf_8507</th>\n",
       "      <td>0.019623</td>\n",
       "    </tr>\n",
       "    <tr>\n",
       "      <th>topo_sublok_C500</th>\n",
       "      <td>0.020591</td>\n",
       "    </tr>\n",
       "    <tr>\n",
       "      <th>meta_chir</th>\n",
       "      <td>0.021844</td>\n",
       "    </tr>\n",
       "    <tr>\n",
       "      <th>rt_1.0</th>\n",
       "      <td>0.023015</td>\n",
       "    </tr>\n",
       "    <tr>\n",
       "      <th>okd</th>\n",
       "      <td>0.023695</td>\n",
       "    </tr>\n",
       "    <tr>\n",
       "      <th>tumsoort_502200</th>\n",
       "      <td>0.024514</td>\n",
       "    </tr>\n",
       "    <tr>\n",
       "      <th>ct_ord</th>\n",
       "      <td>0.030449</td>\n",
       "    </tr>\n",
       "    <tr>\n",
       "      <th>topo_sublok_C506</th>\n",
       "      <td>0.031327</td>\n",
       "    </tr>\n",
       "    <tr>\n",
       "      <th>morf_8010</th>\n",
       "      <td>0.031505</td>\n",
       "    </tr>\n",
       "    <tr>\n",
       "      <th>uitgebr_chir_code_141C50</th>\n",
       "      <td>0.032106</td>\n",
       "    </tr>\n",
       "    <tr>\n",
       "      <th>morf_8260</th>\n",
       "      <td>0.040283</td>\n",
       "    </tr>\n",
       "    <tr>\n",
       "      <th>uitgebr_chir_code_315000</th>\n",
       "      <td>0.044260</td>\n",
       "    </tr>\n",
       "    <tr>\n",
       "      <th>cm</th>\n",
       "      <td>0.044913</td>\n",
       "    </tr>\n",
       "    <tr>\n",
       "      <th>pstadium_ord</th>\n",
       "      <td>0.056078</td>\n",
       "    </tr>\n",
       "    <tr>\n",
       "      <th>mari</th>\n",
       "      <td>0.176811</td>\n",
       "    </tr>\n",
       "    <tr>\n",
       "      <th>gedrag</th>\n",
       "      <td>0.362611</td>\n",
       "    </tr>\n",
       "    <tr>\n",
       "      <th>leeft</th>\n",
       "      <td>0.851919</td>\n",
       "    </tr>\n",
       "  </tbody>\n",
       "</table>\n",
       "</div>"
      ],
      "text/plain": [
       "                               Coef\n",
       "incjr                     -3.239495\n",
       "vit_stat_int              -3.080809\n",
       "cn_ord                    -0.049752\n",
       "morf_8509                 -0.048825\n",
       "uitgebr_chir_code_132C50  -0.048725\n",
       "morf_8541                 -0.040651\n",
       "uitgebr_chir_code_missing -0.039210\n",
       "morf_8211                 -0.037291\n",
       "topo_sublok_C501          -0.031964\n",
       "tumsoort_503200           -0.026949\n",
       "org_chir                  -0.025867\n",
       "swk                       -0.024725\n",
       "target_1.0                -0.023736\n",
       "topo_sublok_C505          -0.022940\n",
       "morf_8480                 -0.022291\n",
       "swk_uitslag               -0.020649\n",
       "diag_basis_6              -0.019971\n",
       "morf_8575                 -0.017522\n",
       "dir_reconstr              -0.015719\n",
       "target_3.0                -0.014363\n",
       "pr_stat                   -0.014141\n",
       "morf_8200                 -0.013988\n",
       "chemo_4.0                 -0.013857\n",
       "morf_8503                 -0.013462\n",
       "tumsoort_501300           -0.013160\n",
       "morf_8540                 -0.012775\n",
       "horm_4.0                  -0.012657\n",
       "pn_ord                    -0.012638\n",
       "rt_4.0                    -0.012393\n",
       "uitgebr_chir_code_142C50  -0.011774\n",
       "morf_8982                 -0.011252\n",
       "morf_8501                 -0.010180\n",
       "morf_8543                 -0.010128\n",
       "multifoc                  -0.009584\n",
       "morf_8522                 -0.008385\n",
       "morf_8510                 -0.007658\n",
       "later_missing             -0.007189\n",
       "chemo_2.0                 -0.006640\n",
       "cstadium_ord              -0.005749\n",
       "morf_8521                 -0.005435\n",
       "stadium_ord               -0.005061\n",
       "morf_8504                 -0.004863\n",
       "diag_basis_5              -0.004862\n",
       "morf_8401                 -0.004727\n",
       "ond_lymf                  -0.004699\n",
       "horm_2.0                  -0.004649\n",
       "rt_2.0                    -0.003857\n",
       "her2_stat                 -0.003731\n",
       "meta_rt                   -0.003620\n",
       "chemo_3.0                 -0.002633\n",
       "topo_sublok_C508          -0.002484\n",
       "diag_basis_2              -0.001724\n",
       "diffgrad                  -0.001216\n",
       "morf_8524                 -0.001054\n",
       "horm_3.0                  -0.000833\n",
       "rt_0.0                     0.000172\n",
       "topo_sublok_C503           0.000327\n",
       "later_1.0                  0.000577\n",
       "pm                         0.000709\n",
       "later_2.0                  0.001568\n",
       "morf_8000                  0.002355\n",
       "morf_8523                  0.002383\n",
       "morf_8520                  0.003064\n",
       "morf_8481                  0.003420\n",
       "target_2.0                 0.004231\n",
       "chemo_0.0                  0.004551\n",
       "target_4.0                 0.004682\n",
       "topo_sublok_C502           0.005292\n",
       "mari_uitslag               0.007465\n",
       "pt_ord                     0.007530\n",
       "chemo_1.0                  0.007763\n",
       "horm_0.0                   0.008035\n",
       "uitgebr_chir_code_131C50   0.008489\n",
       "tum_afm                    0.009951\n",
       "morf_8980                  0.011581\n",
       "morf_8201                  0.011631\n",
       "dcis_comp                  0.012802\n",
       "morf_8983                  0.013162\n",
       "morf_8140                  0.013213\n",
       "morf_8500                  0.013781\n",
       "target_0.0                 0.014069\n",
       "topo_sublok_C504           0.014271\n",
       "topo_sublok_C509           0.014675\n",
       "diag_basis_7               0.014727\n",
       "uitgebr_chir_code_190000   0.014782\n",
       "horm_1.0                   0.015657\n",
       "pos_lymf                   0.016240\n",
       "morf_8050                  0.016842\n",
       "er_stat                    0.018367\n",
       "morf_8507                  0.019623\n",
       "topo_sublok_C500           0.020591\n",
       "meta_chir                  0.021844\n",
       "rt_1.0                     0.023015\n",
       "okd                        0.023695\n",
       "tumsoort_502200            0.024514\n",
       "ct_ord                     0.030449\n",
       "topo_sublok_C506           0.031327\n",
       "morf_8010                  0.031505\n",
       "uitgebr_chir_code_141C50   0.032106\n",
       "morf_8260                  0.040283\n",
       "uitgebr_chir_code_315000   0.044260\n",
       "cm                         0.044913\n",
       "pstadium_ord               0.056078\n",
       "mari                       0.176811\n",
       "gedrag                     0.362611\n",
       "leeft                      0.851919"
      ]
     },
     "execution_count": 61,
     "metadata": {},
     "output_type": "execute_result"
    }
   ],
   "source": [
    "coefs_LR = pd.DataFrame(data = model_LR.coef_[0], index=X.columns, columns = ['Coef']).sort_values(by = 'Coef')\n",
    "coefs_LR"
   ]
  },
  {
   "cell_type": "code",
   "execution_count": 62,
   "id": "53f0b333",
   "metadata": {},
   "outputs": [],
   "source": [
    "coefs_LR = pd.concat([coefs_LR.head(10), coefs_LR.tail(10)], axis = 0)"
   ]
  },
  {
   "cell_type": "code",
   "execution_count": 63,
   "id": "5f939dc8",
   "metadata": {},
   "outputs": [
    {
     "data": {
      "image/png": "[encoded data removed]",
      "text/plain": [
       "<Figure size 720x432 with 1 Axes>"
      ]
     },
     "metadata": {
      "needs_background": "light"
     },
     "output_type": "display_data"
    }
   ],
   "source": [
    "plt.figure(figsize=(10,6))\n",
    "sns.barplot(data = coefs_LR, x = coefs_LR.index, y = 'Coef', color = 'navy' )\n",
    "plt.xticks(rotation = 90)\n",
    "plt.show()"
   ]
  },
  {
   "cell_type": "markdown",
   "id": "74a69528",
   "metadata": {},
   "source": [
    "One can clearly see that the overwhelming part of the model's \"predictive ability\" comes in fact from the features not related to the cancer - the year of incidence, time passed since the incidence, and patient's age. This kind of model seems to take into account any cancer diagnostic characteristics in its predictions in only very small degree.\n",
    "To investigate this deeper, let us construct dummy models that use only these three features, and compare the quality of predictions with models incorporating all the features."
   ]
  },
  {
   "cell_type": "markdown",
   "id": "b16c280d",
   "metadata": {},
   "source": [
    "## Dummy vital status models"
   ]
  },
  {
   "cell_type": "markdown",
   "id": "1549a52e",
   "metadata": {},
   "source": [
    "<a id='rfdum'></a>\n",
    "### Dummy model - Random Forest"
   ]
  },
  {
   "cell_type": "code",
   "execution_count": 64,
   "id": "cdaee5fe",
   "metadata": {},
   "outputs": [],
   "source": [
    "df = df_fin[['vit_stat','leeft', 'incjr', 'vit_stat_int']]"
   ]
  },
  {
   "cell_type": "code",
   "execution_count": 65,
   "id": "ba4211cf",
   "metadata": {},
   "outputs": [
    {
     "data": {
      "text/plain": [
       "vit_stat        0\n",
       "leeft           0\n",
       "incjr           0\n",
       "vit_stat_int    0\n",
       "dtype: int64"
      ]
     },
     "execution_count": 65,
     "metadata": {},
     "output_type": "execute_result"
    }
   ],
   "source": [
    "df.isna().sum()"
   ]
  },
  {
   "cell_type": "code",
   "execution_count": 66,
   "id": "6a35935a",
   "metadata": {},
   "outputs": [
    {
     "data": {
      "text/html": [
       "<div>\n",
       "<style scoped>\n",
       "    .dataframe tbody tr th:only-of-type {\n",
       "        vertical-align: middle;\n",
       "    }\n",
       "\n",
       "    .dataframe tbody tr th {\n",
       "        vertical-align: top;\n",
       "    }\n",
       "\n",
       "    .dataframe thead th {\n",
       "        text-align: right;\n",
       "    }\n",
       "</style>\n",
       "<table border=\"1\" class=\"dataframe\">\n",
       "  <thead>\n",
       "    <tr style=\"text-align: right;\">\n",
       "      <th></th>\n",
       "      <th>vit_stat</th>\n",
       "      <th>leeft</th>\n",
       "      <th>incjr</th>\n",
       "      <th>vit_stat_int</th>\n",
       "    </tr>\n",
       "  </thead>\n",
       "  <tbody>\n",
       "    <tr>\n",
       "      <th>0</th>\n",
       "      <td>1</td>\n",
       "      <td>93</td>\n",
       "      <td>2013</td>\n",
       "      <td>390</td>\n",
       "    </tr>\n",
       "    <tr>\n",
       "      <th>1</th>\n",
       "      <td>0</td>\n",
       "      <td>60</td>\n",
       "      <td>2010</td>\n",
       "      <td>3592</td>\n",
       "    </tr>\n",
       "    <tr>\n",
       "      <th>2</th>\n",
       "      <td>0</td>\n",
       "      <td>43</td>\n",
       "      <td>2010</td>\n",
       "      <td>4011</td>\n",
       "    </tr>\n",
       "    <tr>\n",
       "      <th>3</th>\n",
       "      <td>0</td>\n",
       "      <td>38</td>\n",
       "      <td>2012</td>\n",
       "      <td>2811</td>\n",
       "    </tr>\n",
       "    <tr>\n",
       "      <th>4</th>\n",
       "      <td>0</td>\n",
       "      <td>29</td>\n",
       "      <td>2019</td>\n",
       "      <td>724</td>\n",
       "    </tr>\n",
       "  </tbody>\n",
       "</table>\n",
       "</div>"
      ],
      "text/plain": [
       "   vit_stat  leeft  incjr  vit_stat_int\n",
       "0         1     93   2013           390\n",
       "1         0     60   2010          3592\n",
       "2         0     43   2010          4011\n",
       "3         0     38   2012          2811\n",
       "4         0     29   2019           724"
      ]
     },
     "execution_count": 66,
     "metadata": {},
     "output_type": "execute_result"
    }
   ],
   "source": [
    "df.head()"
   ]
  },
  {
   "cell_type": "code",
   "execution_count": 67,
   "id": "48dcf90c",
   "metadata": {},
   "outputs": [],
   "source": [
    "X = df.drop('vit_stat', axis = 1)"
   ]
  },
  {
   "cell_type": "code",
   "execution_count": 68,
   "id": "f228cba1",
   "metadata": {},
   "outputs": [],
   "source": [
    "y = df['vit_stat']"
   ]
  },
  {
   "cell_type": "code",
   "execution_count": 69,
   "id": "d1a1e63a",
   "metadata": {},
   "outputs": [],
   "source": [
    "from sklearn.model_selection import train_test_split\n",
    "X_train, X_test, y_train, y_test = train_test_split(X, y, test_size=TEST_SIZE, random_state=RANDOM_STATE)"
   ]
  },
  {
   "cell_type": "code",
   "execution_count": 70,
   "id": "eaecc08f",
   "metadata": {},
   "outputs": [],
   "source": [
    "model_RF_dum = RandomForestClassifier()"
   ]
  },
  {
   "cell_type": "code",
   "execution_count": 71,
   "id": "99981fca",
   "metadata": {},
   "outputs": [
    {
     "data": {
      "text/html": [
       "<style>#sk-1c71a545-7052-400a-87d6-fa58cde5fc1b {color: black;background-color: white;}#sk-1c71a545-7052-400a-87d6-fa58cde5fc1b pre{padding: 0;}#sk-1c71a545-7052-400a-87d6-fa58cde5fc1b div.sk-toggleable {background-color: white;}#sk-1c71a545-7052-400a-87d6-fa58cde5fc1b label.sk-toggleable__label {cursor: pointer;display: block;width: 100%;margin-bottom: 0;padding: 0.3em;box-sizing: border-box;text-align: center;}#sk-1c71a545-7052-400a-87d6-fa58cde5fc1b label.sk-toggleable__label-arrow:before {content: \"▸\";float: left;margin-right: 0.25em;color: #696969;}#sk-1c71a545-7052-400a-87d6-fa58cde5fc1b label.sk-toggleable__label-arrow:hover:before {color: black;}#sk-1c71a545-7052-400a-87d6-fa58cde5fc1b div.sk-estimator:hover label.sk-toggleable__label-arrow:before {color: black;}#sk-1c71a545-7052-400a-87d6-fa58cde5fc1b div.sk-toggleable__content {max-height: 0;max-width: 0;overflow: hidden;text-align: left;background-color: #f0f8ff;}#sk-1c71a545-7052-400a-87d6-fa58cde5fc1b div.sk-toggleable__content pre {margin: 0.2em;color: black;border-radius: 0.25em;background-color: #f0f8ff;}#sk-1c71a545-7052-400a-87d6-fa58cde5fc1b input.sk-toggleable__control:checked~div.sk-toggleable__content {max-height: 200px;max-width: 100%;overflow: auto;}#sk-1c71a545-7052-400a-87d6-fa58cde5fc1b input.sk-toggleable__control:checked~label.sk-toggleable__label-arrow:before {content: \"▾\";}#sk-1c71a545-7052-400a-87d6-fa58cde5fc1b div.sk-estimator input.sk-toggleable__control:checked~label.sk-toggleable__label {background-color: #d4ebff;}#sk-1c71a545-7052-400a-87d6-fa58cde5fc1b div.sk-label input.sk-toggleable__control:checked~label.sk-toggleable__label {background-color: #d4ebff;}#sk-1c71a545-7052-400a-87d6-fa58cde5fc1b input.sk-hidden--visually {border: 0;clip: rect(1px 1px 1px 1px);clip: rect(1px, 1px, 1px, 1px);height: 1px;margin: -1px;overflow: hidden;padding: 0;position: absolute;width: 1px;}#sk-1c71a545-7052-400a-87d6-fa58cde5fc1b div.sk-estimator {font-family: monospace;background-color: #f0f8ff;border: 1px dotted black;border-radius: 0.25em;box-sizing: border-box;margin-bottom: 0.5em;}#sk-1c71a545-7052-400a-87d6-fa58cde5fc1b div.sk-estimator:hover {background-color: #d4ebff;}#sk-1c71a545-7052-400a-87d6-fa58cde5fc1b div.sk-parallel-item::after {content: \"\";width: 100%;border-bottom: 1px solid gray;flex-grow: 1;}#sk-1c71a545-7052-400a-87d6-fa58cde5fc1b div.sk-label:hover label.sk-toggleable__label {background-color: #d4ebff;}#sk-1c71a545-7052-400a-87d6-fa58cde5fc1b div.sk-serial::before {content: \"\";position: absolute;border-left: 1px solid gray;box-sizing: border-box;top: 2em;bottom: 0;left: 50%;}#sk-1c71a545-7052-400a-87d6-fa58cde5fc1b div.sk-serial {display: flex;flex-direction: column;align-items: center;background-color: white;padding-right: 0.2em;padding-left: 0.2em;}#sk-1c71a545-7052-400a-87d6-fa58cde5fc1b div.sk-item {z-index: 1;}#sk-1c71a545-7052-400a-87d6-fa58cde5fc1b div.sk-parallel {display: flex;align-items: stretch;justify-content: center;background-color: white;}#sk-1c71a545-7052-400a-87d6-fa58cde5fc1b div.sk-parallel::before {content: \"\";position: absolute;border-left: 1px solid gray;box-sizing: border-box;top: 2em;bottom: 0;left: 50%;}#sk-1c71a545-7052-400a-87d6-fa58cde5fc1b div.sk-parallel-item {display: flex;flex-direction: column;position: relative;background-color: white;}#sk-1c71a545-7052-400a-87d6-fa58cde5fc1b div.sk-parallel-item:first-child::after {align-self: flex-end;width: 50%;}#sk-1c71a545-7052-400a-87d6-fa58cde5fc1b div.sk-parallel-item:last-child::after {align-self: flex-start;width: 50%;}#sk-1c71a545-7052-400a-87d6-fa58cde5fc1b div.sk-parallel-item:only-child::after {width: 0;}#sk-1c71a545-7052-400a-87d6-fa58cde5fc1b div.sk-dashed-wrapped {border: 1px dashed gray;margin: 0 0.4em 0.5em 0.4em;box-sizing: border-box;padding-bottom: 0.4em;background-color: white;position: relative;}#sk-1c71a545-7052-400a-87d6-fa58cde5fc1b div.sk-label label {font-family: monospace;font-weight: bold;background-color: white;display: inline-block;line-height: 1.2em;}#sk-1c71a545-7052-400a-87d6-fa58cde5fc1b div.sk-label-container {position: relative;z-index: 2;text-align: center;}#sk-1c71a545-7052-400a-87d6-fa58cde5fc1b div.sk-container {/* jupyter's `normalize.less` sets `[hidden] { display: none; }` but bootstrap.min.css set `[hidden] { display: none !important; }` so we also need the `!important` here to be able to override the default hidden behavior on the sphinx rendered scikit-learn.org. See: https://github.com/scikit-learn/scikit-learn/issues/21755 */display: inline-block !important;position: relative;}#sk-1c71a545-7052-400a-87d6-fa58cde5fc1b div.sk-text-repr-fallback {display: none;}</style><div id=\"sk-1c71a545-7052-400a-87d6-fa58cde5fc1b\" class=\"sk-top-container\"><div class=\"sk-text-repr-fallback\"><pre>RandomForestClassifier()</pre><b>Please rerun this cell to show the HTML repr or trust the notebook.</b></div><div class=\"sk-container\" hidden><div class=\"sk-item\"><div class=\"sk-estimator sk-toggleable\"><input class=\"sk-toggleable__control sk-hidden--visually\" id=\"22ee1cd3-1904-4a89-bb64-65a6d1d1fe4d\" type=\"checkbox\" checked><label for=\"22ee1cd3-1904-4a89-bb64-65a6d1d1fe4d\" class=\"sk-toggleable__label sk-toggleable__label-arrow\">RandomForestClassifier</label><div class=\"sk-toggleable__content\"><pre>RandomForestClassifier()</pre></div></div></div></div></div>"
      ],
      "text/plain": [
       "RandomForestClassifier()"
      ]
     },
     "execution_count": 71,
     "metadata": {},
     "output_type": "execute_result"
    }
   ],
   "source": [
    "model_RF_dum.fit(X_train, y_train)"
   ]
  },
  {
   "cell_type": "code",
   "execution_count": 72,
   "id": "6e85cdd4",
   "metadata": {},
   "outputs": [],
   "source": [
    "y_pred_rf_dum =model_RF_dum.predict(X_test)"
   ]
  },
  {
   "cell_type": "code",
   "execution_count": 73,
   "id": "fa7344a4",
   "metadata": {},
   "outputs": [
    {
     "data": {
      "text/plain": [
       "array([[9019,  396],\n",
       "       [ 595, 1666]], dtype=int64)"
      ]
     },
     "execution_count": 73,
     "metadata": {},
     "output_type": "execute_result"
    }
   ],
   "source": [
    "confusion_matrix(y_test,y_pred_rf_dum)"
   ]
  },
  {
   "cell_type": "code",
   "execution_count": 74,
   "id": "5f3c55f4",
   "metadata": {},
   "outputs": [
    {
     "name": "stdout",
     "output_type": "stream",
     "text": [
      "              precision    recall  f1-score   support\n",
      "\n",
      "           0       0.94      0.96      0.95      9415\n",
      "           1       0.81      0.74      0.77      2261\n",
      "\n",
      "    accuracy                           0.92     11676\n",
      "   macro avg       0.87      0.85      0.86     11676\n",
      "weighted avg       0.91      0.92      0.91     11676\n",
      "\n"
     ]
    }
   ],
   "source": [
    "print(classification_report(y_test,y_pred_rf_dum))"
   ]
  },
  {
   "cell_type": "code",
   "execution_count": 75,
   "id": "30107857",
   "metadata": {},
   "outputs": [
    {
     "data": {
      "text/plain": [
       "<sklearn.metrics._plot.roc_curve.RocCurveDisplay at 0x1fbdc401d60>"
      ]
     },
     "execution_count": 75,
     "metadata": {},
     "output_type": "execute_result"
    },
    {
     "data": {
      "image/png": "[encoded data removed]",
      "text/plain": [
       "<Figure size 432x288 with 1 Axes>"
      ]
     },
     "metadata": {
      "needs_background": "light"
     },
     "output_type": "display_data"
    }
   ],
   "source": [
    "plot_roc_curve(model_RF_dum, X_test, y_test)"
   ]
  },
  {
   "cell_type": "code",
   "execution_count": 76,
   "id": "21103e07",
   "metadata": {},
   "outputs": [
    {
     "data": {
      "text/plain": [
       "<sklearn.metrics._plot.precision_recall_curve.PrecisionRecallDisplay at 0x1fbdc7616d0>"
      ]
     },
     "execution_count": 76,
     "metadata": {},
     "output_type": "execute_result"
    },
    {
     "data": {
      "image/png": "[encoded data removed]",
      "text/plain": [
       "<Figure size 432x288 with 1 Axes>"
      ]
     },
     "metadata": {
      "needs_background": "light"
     },
     "output_type": "display_data"
    }
   ],
   "source": [
    "plot_precision_recall_curve(model_RF_dum, X_test, y_test)"
   ]
  },
  {
   "cell_type": "code",
   "execution_count": 77,
   "id": "90220bf5",
   "metadata": {},
   "outputs": [
    {
     "data": {
      "text/html": [
       "\n",
       "    <style>\n",
       "    table.eli5-weights tr:hover {\n",
       "        filter: brightness(85%);\n",
       "    }\n",
       "</style>\n",
       "\n",
       "\n",
       "\n",
       "    \n",
       "\n",
       "    \n",
       "\n",
       "    \n",
       "\n",
       "    \n",
       "\n",
       "    \n",
       "\n",
       "    \n",
       "\n",
       "\n",
       "    \n",
       "\n",
       "    \n",
       "\n",
       "    \n",
       "\n",
       "    \n",
       "\n",
       "    \n",
       "\n",
       "    \n",
       "\n",
       "\n",
       "    \n",
       "\n",
       "    \n",
       "\n",
       "    \n",
       "\n",
       "    \n",
       "\n",
       "    \n",
       "        <table class=\"eli5-weights eli5-feature-importances\" style=\"border-collapse: collapse; border: none; margin-top: 0em; table-layout: auto;\">\n",
       "    <thead>\n",
       "    <tr style=\"border: none;\">\n",
       "        <th style=\"padding: 0 1em 0 0.5em; text-align: right; border: none;\">Weight</th>\n",
       "        <th style=\"padding: 0 0.5em 0 0.5em; text-align: left; border: none;\">Feature</th>\n",
       "    </tr>\n",
       "    </thead>\n",
       "    <tbody>\n",
       "    \n",
       "        <tr style=\"background-color: hsl(120, 100.00%, 80.00%); border: none;\">\n",
       "            <td style=\"padding: 0 1em 0 0.5em; text-align: right; border: none;\">\n",
       "                0.3253\n",
       "                \n",
       "                    &plusmn; 0.0086\n",
       "                \n",
       "            </td>\n",
       "            <td style=\"padding: 0 0.5em 0 0.5em; text-align: left; border: none;\">\n",
       "                incjr\n",
       "            </td>\n",
       "        </tr>\n",
       "    \n",
       "        <tr style=\"background-color: hsl(120, 100.00%, 80.86%); border: none;\">\n",
       "            <td style=\"padding: 0 1em 0 0.5em; text-align: right; border: none;\">\n",
       "                0.3056\n",
       "                \n",
       "                    &plusmn; 0.0038\n",
       "                \n",
       "            </td>\n",
       "            <td style=\"padding: 0 0.5em 0 0.5em; text-align: left; border: none;\">\n",
       "                vit_stat_int\n",
       "            </td>\n",
       "        </tr>\n",
       "    \n",
       "        <tr style=\"background-color: hsl(120, 100.00%, 96.83%); border: none;\">\n",
       "            <td style=\"padding: 0 1em 0 0.5em; text-align: right; border: none;\">\n",
       "                0.0234\n",
       "                \n",
       "                    &plusmn; 0.0036\n",
       "                \n",
       "            </td>\n",
       "            <td style=\"padding: 0 0.5em 0 0.5em; text-align: left; border: none;\">\n",
       "                leeft\n",
       "            </td>\n",
       "        </tr>\n",
       "    \n",
       "    \n",
       "    </tbody>\n",
       "</table>\n",
       "    \n",
       "\n",
       "    \n",
       "\n",
       "\n",
       "    \n",
       "\n",
       "    \n",
       "\n",
       "    \n",
       "\n",
       "    \n",
       "\n",
       "    \n",
       "\n",
       "    \n",
       "\n",
       "\n",
       "\n"
      ],
      "text/plain": [
       "<IPython.core.display.HTML object>"
      ]
     },
     "execution_count": 77,
     "metadata": {},
     "output_type": "execute_result"
    }
   ],
   "source": [
    "perm = PermutationImportance(model_RF_dum, random_state=RANDOM_STATE).fit(X_test,y_test)\n",
    "eli5.show_weights(perm, feature_names = X_test.columns.tolist())"
   ]
  },
  {
   "cell_type": "markdown",
   "id": "1a8295d2",
   "metadata": {},
   "source": [
    "<a id='gbdum'></a>\n",
    "### Dummy model - Gradient Boosting"
   ]
  },
  {
   "cell_type": "code",
   "execution_count": 78,
   "id": "f6f8a8cf",
   "metadata": {},
   "outputs": [],
   "source": [
    "model_GB_dum = GradientBoostingClassifier()"
   ]
  },
  {
   "cell_type": "code",
   "execution_count": 79,
   "id": "b6e8ea65",
   "metadata": {},
   "outputs": [
    {
     "data": {
      "text/html": [
       "<style>#sk-d144c506-62f0-4ff5-843c-471e4f5be4a1 {color: black;background-color: white;}#sk-d144c506-62f0-4ff5-843c-471e4f5be4a1 pre{padding: 0;}#sk-d144c506-62f0-4ff5-843c-471e4f5be4a1 div.sk-toggleable {background-color: white;}#sk-d144c506-62f0-4ff5-843c-471e4f5be4a1 label.sk-toggleable__label {cursor: pointer;display: block;width: 100%;margin-bottom: 0;padding: 0.3em;box-sizing: border-box;text-align: center;}#sk-d144c506-62f0-4ff5-843c-471e4f5be4a1 label.sk-toggleable__label-arrow:before {content: \"▸\";float: left;margin-right: 0.25em;color: #696969;}#sk-d144c506-62f0-4ff5-843c-471e4f5be4a1 label.sk-toggleable__label-arrow:hover:before {color: black;}#sk-d144c506-62f0-4ff5-843c-471e4f5be4a1 div.sk-estimator:hover label.sk-toggleable__label-arrow:before {color: black;}#sk-d144c506-62f0-4ff5-843c-471e4f5be4a1 div.sk-toggleable__content {max-height: 0;max-width: 0;overflow: hidden;text-align: left;background-color: #f0f8ff;}#sk-d144c506-62f0-4ff5-843c-471e4f5be4a1 div.sk-toggleable__content pre {margin: 0.2em;color: black;border-radius: 0.25em;background-color: #f0f8ff;}#sk-d144c506-62f0-4ff5-843c-471e4f5be4a1 input.sk-toggleable__control:checked~div.sk-toggleable__content {max-height: 200px;max-width: 100%;overflow: auto;}#sk-d144c506-62f0-4ff5-843c-471e4f5be4a1 input.sk-toggleable__control:checked~label.sk-toggleable__label-arrow:before {content: \"▾\";}#sk-d144c506-62f0-4ff5-843c-471e4f5be4a1 div.sk-estimator input.sk-toggleable__control:checked~label.sk-toggleable__label {background-color: #d4ebff;}#sk-d144c506-62f0-4ff5-843c-471e4f5be4a1 div.sk-label input.sk-toggleable__control:checked~label.sk-toggleable__label {background-color: #d4ebff;}#sk-d144c506-62f0-4ff5-843c-471e4f5be4a1 input.sk-hidden--visually {border: 0;clip: rect(1px 1px 1px 1px);clip: rect(1px, 1px, 1px, 1px);height: 1px;margin: -1px;overflow: hidden;padding: 0;position: absolute;width: 1px;}#sk-d144c506-62f0-4ff5-843c-471e4f5be4a1 div.sk-estimator {font-family: monospace;background-color: #f0f8ff;border: 1px dotted black;border-radius: 0.25em;box-sizing: border-box;margin-bottom: 0.5em;}#sk-d144c506-62f0-4ff5-843c-471e4f5be4a1 div.sk-estimator:hover {background-color: #d4ebff;}#sk-d144c506-62f0-4ff5-843c-471e4f5be4a1 div.sk-parallel-item::after {content: \"\";width: 100%;border-bottom: 1px solid gray;flex-grow: 1;}#sk-d144c506-62f0-4ff5-843c-471e4f5be4a1 div.sk-label:hover label.sk-toggleable__label {background-color: #d4ebff;}#sk-d144c506-62f0-4ff5-843c-471e4f5be4a1 div.sk-serial::before {content: \"\";position: absolute;border-left: 1px solid gray;box-sizing: border-box;top: 2em;bottom: 0;left: 50%;}#sk-d144c506-62f0-4ff5-843c-471e4f5be4a1 div.sk-serial {display: flex;flex-direction: column;align-items: center;background-color: white;padding-right: 0.2em;padding-left: 0.2em;}#sk-d144c506-62f0-4ff5-843c-471e4f5be4a1 div.sk-item {z-index: 1;}#sk-d144c506-62f0-4ff5-843c-471e4f5be4a1 div.sk-parallel {display: flex;align-items: stretch;justify-content: center;background-color: white;}#sk-d144c506-62f0-4ff5-843c-471e4f5be4a1 div.sk-parallel::before {content: \"\";position: absolute;border-left: 1px solid gray;box-sizing: border-box;top: 2em;bottom: 0;left: 50%;}#sk-d144c506-62f0-4ff5-843c-471e4f5be4a1 div.sk-parallel-item {display: flex;flex-direction: column;position: relative;background-color: white;}#sk-d144c506-62f0-4ff5-843c-471e4f5be4a1 div.sk-parallel-item:first-child::after {align-self: flex-end;width: 50%;}#sk-d144c506-62f0-4ff5-843c-471e4f5be4a1 div.sk-parallel-item:last-child::after {align-self: flex-start;width: 50%;}#sk-d144c506-62f0-4ff5-843c-471e4f5be4a1 div.sk-parallel-item:only-child::after {width: 0;}#sk-d144c506-62f0-4ff5-843c-471e4f5be4a1 div.sk-dashed-wrapped {border: 1px dashed gray;margin: 0 0.4em 0.5em 0.4em;box-sizing: border-box;padding-bottom: 0.4em;background-color: white;position: relative;}#sk-d144c506-62f0-4ff5-843c-471e4f5be4a1 div.sk-label label {font-family: monospace;font-weight: bold;background-color: white;display: inline-block;line-height: 1.2em;}#sk-d144c506-62f0-4ff5-843c-471e4f5be4a1 div.sk-label-container {position: relative;z-index: 2;text-align: center;}#sk-d144c506-62f0-4ff5-843c-471e4f5be4a1 div.sk-container {/* jupyter's `normalize.less` sets `[hidden] { display: none; }` but bootstrap.min.css set `[hidden] { display: none !important; }` so we also need the `!important` here to be able to override the default hidden behavior on the sphinx rendered scikit-learn.org. See: https://github.com/scikit-learn/scikit-learn/issues/21755 */display: inline-block !important;position: relative;}#sk-d144c506-62f0-4ff5-843c-471e4f5be4a1 div.sk-text-repr-fallback {display: none;}</style><div id=\"sk-d144c506-62f0-4ff5-843c-471e4f5be4a1\" class=\"sk-top-container\"><div class=\"sk-text-repr-fallback\"><pre>GradientBoostingClassifier()</pre><b>Please rerun this cell to show the HTML repr or trust the notebook.</b></div><div class=\"sk-container\" hidden><div class=\"sk-item\"><div class=\"sk-estimator sk-toggleable\"><input class=\"sk-toggleable__control sk-hidden--visually\" id=\"9d45f2f4-1410-4afe-a32c-05d87597089e\" type=\"checkbox\" checked><label for=\"9d45f2f4-1410-4afe-a32c-05d87597089e\" class=\"sk-toggleable__label sk-toggleable__label-arrow\">GradientBoostingClassifier</label><div class=\"sk-toggleable__content\"><pre>GradientBoostingClassifier()</pre></div></div></div></div></div>"
      ],
      "text/plain": [
       "GradientBoostingClassifier()"
      ]
     },
     "execution_count": 79,
     "metadata": {},
     "output_type": "execute_result"
    }
   ],
   "source": [
    "model_GB_dum.fit(X_train,y_train)"
   ]
  },
  {
   "cell_type": "code",
   "execution_count": 80,
   "id": "25273cc5",
   "metadata": {},
   "outputs": [],
   "source": [
    "y_pred_gb_dum = model_GB_dum.predict(X_test)"
   ]
  },
  {
   "cell_type": "code",
   "execution_count": 81,
   "id": "846347aa",
   "metadata": {},
   "outputs": [
    {
     "data": {
      "text/plain": [
       "array([[9299,  116],\n",
       "       [ 644, 1617]], dtype=int64)"
      ]
     },
     "execution_count": 81,
     "metadata": {},
     "output_type": "execute_result"
    }
   ],
   "source": [
    "confusion_matrix(y_test,y_pred_gb_dum)"
   ]
  },
  {
   "cell_type": "code",
   "execution_count": 82,
   "id": "69e0db7d",
   "metadata": {},
   "outputs": [
    {
     "name": "stdout",
     "output_type": "stream",
     "text": [
      "              precision    recall  f1-score   support\n",
      "\n",
      "           0       0.94      0.99      0.96      9415\n",
      "           1       0.93      0.72      0.81      2261\n",
      "\n",
      "    accuracy                           0.93     11676\n",
      "   macro avg       0.93      0.85      0.89     11676\n",
      "weighted avg       0.93      0.93      0.93     11676\n",
      "\n"
     ]
    }
   ],
   "source": [
    "print(classification_report(y_test,y_pred_gb_dum))"
   ]
  },
  {
   "cell_type": "code",
   "execution_count": 83,
   "id": "143e106f",
   "metadata": {},
   "outputs": [
    {
     "data": {
      "text/plain": [
       "<sklearn.metrics._plot.roc_curve.RocCurveDisplay at 0x1fbdd679970>"
      ]
     },
     "execution_count": 83,
     "metadata": {},
     "output_type": "execute_result"
    },
    {
     "data": {
      "image/png": "[encoded data removed]",
      "text/plain": [
       "<Figure size 432x288 with 1 Axes>"
      ]
     },
     "metadata": {
      "needs_background": "light"
     },
     "output_type": "display_data"
    }
   ],
   "source": [
    "plot_roc_curve(model_GB_dum, X_test, y_test)"
   ]
  },
  {
   "cell_type": "code",
   "execution_count": 84,
   "id": "728621bd",
   "metadata": {},
   "outputs": [
    {
     "data": {
      "text/plain": [
       "<sklearn.metrics._plot.precision_recall_curve.PrecisionRecallDisplay at 0x1fbdd6dad60>"
      ]
     },
     "execution_count": 84,
     "metadata": {},
     "output_type": "execute_result"
    },
    {
     "data": {
      "image/png": "[encoded data removed]",
      "text/plain": [
       "<Figure size 432x288 with 1 Axes>"
      ]
     },
     "metadata": {
      "needs_background": "light"
     },
     "output_type": "display_data"
    }
   ],
   "source": [
    "plot_precision_recall_curve(model_GB_dum, X_test, y_test)"
   ]
  },
  {
   "cell_type": "markdown",
   "id": "5369a980",
   "metadata": {},
   "source": [
    "<a id='lrdum'></a>\n",
    "### Dummy model - Logistic Regression"
   ]
  },
  {
   "cell_type": "code",
   "execution_count": 85,
   "id": "db922e13",
   "metadata": {},
   "outputs": [],
   "source": [
    "X = pd.get_dummies(X,drop_first=False)"
   ]
  },
  {
   "cell_type": "code",
   "execution_count": 86,
   "id": "135eb7ac",
   "metadata": {},
   "outputs": [],
   "source": [
    "from sklearn.model_selection import train_test_split\n",
    "X_train, X_test, y_train, y_test = train_test_split(X, y, test_size=TEST_SIZE, random_state=RANDOM_STATE)"
   ]
  },
  {
   "cell_type": "code",
   "execution_count": 87,
   "id": "b53884c5",
   "metadata": {},
   "outputs": [],
   "source": [
    "X_train = scaler.fit_transform(X_train)\n",
    "X_test = scaler.transform(X_test)"
   ]
  },
  {
   "cell_type": "code",
   "execution_count": 88,
   "id": "e2542b25",
   "metadata": {},
   "outputs": [],
   "source": [
    "model_LR_dum = LogisticRegressionCV()"
   ]
  },
  {
   "cell_type": "code",
   "execution_count": 89,
   "id": "9d680076",
   "metadata": {},
   "outputs": [
    {
     "data": {
      "text/html": [
       "<style>#sk-0c250f24-ce85-40f0-ba0f-e036a59bd861 {color: black;background-color: white;}#sk-0c250f24-ce85-40f0-ba0f-e036a59bd861 pre{padding: 0;}#sk-0c250f24-ce85-40f0-ba0f-e036a59bd861 div.sk-toggleable {background-color: white;}#sk-0c250f24-ce85-40f0-ba0f-e036a59bd861 label.sk-toggleable__label {cursor: pointer;display: block;width: 100%;margin-bottom: 0;padding: 0.3em;box-sizing: border-box;text-align: center;}#sk-0c250f24-ce85-40f0-ba0f-e036a59bd861 label.sk-toggleable__label-arrow:before {content: \"▸\";float: left;margin-right: 0.25em;color: #696969;}#sk-0c250f24-ce85-40f0-ba0f-e036a59bd861 label.sk-toggleable__label-arrow:hover:before {color: black;}#sk-0c250f24-ce85-40f0-ba0f-e036a59bd861 div.sk-estimator:hover label.sk-toggleable__label-arrow:before {color: black;}#sk-0c250f24-ce85-40f0-ba0f-e036a59bd861 div.sk-toggleable__content {max-height: 0;max-width: 0;overflow: hidden;text-align: left;background-color: #f0f8ff;}#sk-0c250f24-ce85-40f0-ba0f-e036a59bd861 div.sk-toggleable__content pre {margin: 0.2em;color: black;border-radius: 0.25em;background-color: #f0f8ff;}#sk-0c250f24-ce85-40f0-ba0f-e036a59bd861 input.sk-toggleable__control:checked~div.sk-toggleable__content {max-height: 200px;max-width: 100%;overflow: auto;}#sk-0c250f24-ce85-40f0-ba0f-e036a59bd861 input.sk-toggleable__control:checked~label.sk-toggleable__label-arrow:before {content: \"▾\";}#sk-0c250f24-ce85-40f0-ba0f-e036a59bd861 div.sk-estimator input.sk-toggleable__control:checked~label.sk-toggleable__label {background-color: #d4ebff;}#sk-0c250f24-ce85-40f0-ba0f-e036a59bd861 div.sk-label input.sk-toggleable__control:checked~label.sk-toggleable__label {background-color: #d4ebff;}#sk-0c250f24-ce85-40f0-ba0f-e036a59bd861 input.sk-hidden--visually {border: 0;clip: rect(1px 1px 1px 1px);clip: rect(1px, 1px, 1px, 1px);height: 1px;margin: -1px;overflow: hidden;padding: 0;position: absolute;width: 1px;}#sk-0c250f24-ce85-40f0-ba0f-e036a59bd861 div.sk-estimator {font-family: monospace;background-color: #f0f8ff;border: 1px dotted black;border-radius: 0.25em;box-sizing: border-box;margin-bottom: 0.5em;}#sk-0c250f24-ce85-40f0-ba0f-e036a59bd861 div.sk-estimator:hover {background-color: #d4ebff;}#sk-0c250f24-ce85-40f0-ba0f-e036a59bd861 div.sk-parallel-item::after {content: \"\";width: 100%;border-bottom: 1px solid gray;flex-grow: 1;}#sk-0c250f24-ce85-40f0-ba0f-e036a59bd861 div.sk-label:hover label.sk-toggleable__label {background-color: #d4ebff;}#sk-0c250f24-ce85-40f0-ba0f-e036a59bd861 div.sk-serial::before {content: \"\";position: absolute;border-left: 1px solid gray;box-sizing: border-box;top: 2em;bottom: 0;left: 50%;}#sk-0c250f24-ce85-40f0-ba0f-e036a59bd861 div.sk-serial {display: flex;flex-direction: column;align-items: center;background-color: white;padding-right: 0.2em;padding-left: 0.2em;}#sk-0c250f24-ce85-40f0-ba0f-e036a59bd861 div.sk-item {z-index: 1;}#sk-0c250f24-ce85-40f0-ba0f-e036a59bd861 div.sk-parallel {display: flex;align-items: stretch;justify-content: center;background-color: white;}#sk-0c250f24-ce85-40f0-ba0f-e036a59bd861 div.sk-parallel::before {content: \"\";position: absolute;border-left: 1px solid gray;box-sizing: border-box;top: 2em;bottom: 0;left: 50%;}#sk-0c250f24-ce85-40f0-ba0f-e036a59bd861 div.sk-parallel-item {display: flex;flex-direction: column;position: relative;background-color: white;}#sk-0c250f24-ce85-40f0-ba0f-e036a59bd861 div.sk-parallel-item:first-child::after {align-self: flex-end;width: 50%;}#sk-0c250f24-ce85-40f0-ba0f-e036a59bd861 div.sk-parallel-item:last-child::after {align-self: flex-start;width: 50%;}#sk-0c250f24-ce85-40f0-ba0f-e036a59bd861 div.sk-parallel-item:only-child::after {width: 0;}#sk-0c250f24-ce85-40f0-ba0f-e036a59bd861 div.sk-dashed-wrapped {border: 1px dashed gray;margin: 0 0.4em 0.5em 0.4em;box-sizing: border-box;padding-bottom: 0.4em;background-color: white;position: relative;}#sk-0c250f24-ce85-40f0-ba0f-e036a59bd861 div.sk-label label {font-family: monospace;font-weight: bold;background-color: white;display: inline-block;line-height: 1.2em;}#sk-0c250f24-ce85-40f0-ba0f-e036a59bd861 div.sk-label-container {position: relative;z-index: 2;text-align: center;}#sk-0c250f24-ce85-40f0-ba0f-e036a59bd861 div.sk-container {/* jupyter's `normalize.less` sets `[hidden] { display: none; }` but bootstrap.min.css set `[hidden] { display: none !important; }` so we also need the `!important` here to be able to override the default hidden behavior on the sphinx rendered scikit-learn.org. See: https://github.com/scikit-learn/scikit-learn/issues/21755 */display: inline-block !important;position: relative;}#sk-0c250f24-ce85-40f0-ba0f-e036a59bd861 div.sk-text-repr-fallback {display: none;}</style><div id=\"sk-0c250f24-ce85-40f0-ba0f-e036a59bd861\" class=\"sk-top-container\"><div class=\"sk-text-repr-fallback\"><pre>LogisticRegressionCV()</pre><b>Please rerun this cell to show the HTML repr or trust the notebook.</b></div><div class=\"sk-container\" hidden><div class=\"sk-item\"><div class=\"sk-estimator sk-toggleable\"><input class=\"sk-toggleable__control sk-hidden--visually\" id=\"0ea1951c-ab32-4d43-b526-a8d05c1ed7cd\" type=\"checkbox\" checked><label for=\"0ea1951c-ab32-4d43-b526-a8d05c1ed7cd\" class=\"sk-toggleable__label sk-toggleable__label-arrow\">LogisticRegressionCV</label><div class=\"sk-toggleable__content\"><pre>LogisticRegressionCV()</pre></div></div></div></div></div>"
      ],
      "text/plain": [
       "LogisticRegressionCV()"
      ]
     },
     "execution_count": 89,
     "metadata": {},
     "output_type": "execute_result"
    }
   ],
   "source": [
    "model_LR_dum.fit(X_train, y_train)"
   ]
  },
  {
   "cell_type": "code",
   "execution_count": 90,
   "id": "c787d1ae",
   "metadata": {},
   "outputs": [],
   "source": [
    "y_pred_lr_dum = model_LR_dum.predict(X_test)"
   ]
  },
  {
   "cell_type": "code",
   "execution_count": 91,
   "id": "29486a4b",
   "metadata": {},
   "outputs": [
    {
     "data": {
      "text/plain": [
       "array([[9204,  211],\n",
       "       [ 840, 1421]], dtype=int64)"
      ]
     },
     "execution_count": 91,
     "metadata": {},
     "output_type": "execute_result"
    }
   ],
   "source": [
    "confusion_matrix(y_test,y_pred_lr_dum)"
   ]
  },
  {
   "cell_type": "code",
   "execution_count": 92,
   "id": "21ee9c4b",
   "metadata": {},
   "outputs": [
    {
     "name": "stdout",
     "output_type": "stream",
     "text": [
      "              precision    recall  f1-score   support\n",
      "\n",
      "           0       0.92      0.98      0.95      9415\n",
      "           1       0.87      0.63      0.73      2261\n",
      "\n",
      "    accuracy                           0.91     11676\n",
      "   macro avg       0.89      0.80      0.84     11676\n",
      "weighted avg       0.91      0.91      0.90     11676\n",
      "\n"
     ]
    }
   ],
   "source": [
    "print(classification_report(y_test,y_pred_lr_dum))"
   ]
  },
  {
   "cell_type": "code",
   "execution_count": 93,
   "id": "14655650",
   "metadata": {},
   "outputs": [
    {
     "data": {
      "text/plain": [
       "<sklearn.metrics._plot.roc_curve.RocCurveDisplay at 0x1fbdd5f4130>"
      ]
     },
     "execution_count": 93,
     "metadata": {},
     "output_type": "execute_result"
    },
    {
     "data": {
      "image/png": "[encoded data removed]",
      "text/plain": [
       "<Figure size 432x288 with 1 Axes>"
      ]
     },
     "metadata": {
      "needs_background": "light"
     },
     "output_type": "display_data"
    }
   ],
   "source": [
    "plot_roc_curve(model_LR_dum, X_test, y_test)"
   ]
  },
  {
   "cell_type": "code",
   "execution_count": 94,
   "id": "9270e841",
   "metadata": {},
   "outputs": [
    {
     "data": {
      "text/html": [
       "<div>\n",
       "<style scoped>\n",
       "    .dataframe tbody tr th:only-of-type {\n",
       "        vertical-align: middle;\n",
       "    }\n",
       "\n",
       "    .dataframe tbody tr th {\n",
       "        vertical-align: top;\n",
       "    }\n",
       "\n",
       "    .dataframe thead th {\n",
       "        text-align: right;\n",
       "    }\n",
       "</style>\n",
       "<table border=\"1\" class=\"dataframe\">\n",
       "  <thead>\n",
       "    <tr style=\"text-align: right;\">\n",
       "      <th></th>\n",
       "      <th>Coef</th>\n",
       "    </tr>\n",
       "  </thead>\n",
       "  <tbody>\n",
       "    <tr>\n",
       "      <th>incjr</th>\n",
       "      <td>-3.219996</td>\n",
       "    </tr>\n",
       "    <tr>\n",
       "      <th>vit_stat_int</th>\n",
       "      <td>-3.094260</td>\n",
       "    </tr>\n",
       "    <tr>\n",
       "      <th>leeft</th>\n",
       "      <td>0.866559</td>\n",
       "    </tr>\n",
       "  </tbody>\n",
       "</table>\n",
       "</div>"
      ],
      "text/plain": [
       "                  Coef\n",
       "incjr        -3.219996\n",
       "vit_stat_int -3.094260\n",
       "leeft         0.866559"
      ]
     },
     "execution_count": 94,
     "metadata": {},
     "output_type": "execute_result"
    }
   ],
   "source": [
    "coefs_LR_dum = pd.DataFrame(data = model_LR_dum.coef_[0], index=X.columns, columns = ['Coef']).sort_values(by = 'Coef')\n",
    "coefs_LR_dum"
   ]
  },
  {
   "cell_type": "code",
   "execution_count": 95,
   "id": "2e3be1f1",
   "metadata": {},
   "outputs": [
    {
     "data": {
      "image/png": "[encoded data removed]",
      "text/plain": [
       "<Figure size 720x432 with 1 Axes>"
      ]
     },
     "metadata": {
      "needs_background": "light"
     },
     "output_type": "display_data"
    }
   ],
   "source": [
    "plt.figure(figsize=(10,6))\n",
    "sns.barplot(data = coefs_LR_dum, x = coefs_LR_dum.index, y = 'Coef', color = 'navy' )\n",
    "plt.xticks(rotation = 90)\n",
    "plt.show()"
   ]
  },
  {
   "cell_type": "markdown",
   "id": "8043b19d",
   "metadata": {},
   "source": [
    "Conclusion: the model constructed in this way can only answer predict likelihood of a patient being dead or alive, given the year of cancer incidence, his age at that time and time passed since. It does not answer a more relevant question, namely what is the chance of patient's 5 year survival, given the information one has just after cancer detection and the initial treatment, namely characteristics of patient, cancer and treatment applied. \n",
    "\n",
    "To answer this, let us construct a model with the 5 year survival as target variable."
   ]
  },
  {
   "cell_type": "markdown",
   "id": "c3ddabb3",
   "metadata": {},
   "source": [
    "## 5Y Survival models"
   ]
  },
  {
   "cell_type": "code",
   "execution_count": 96,
   "id": "572cf01f",
   "metadata": {},
   "outputs": [],
   "source": [
    "df = pd.read_csv('Breast_cancer_transformed_sr.csv')"
   ]
  },
  {
   "cell_type": "code",
   "execution_count": 97,
   "id": "81d56a24",
   "metadata": {},
   "outputs": [],
   "source": [
    "df = df.drop('vit_stat_int', axis = 1)"
   ]
  },
  {
   "cell_type": "code",
   "execution_count": 98,
   "id": "c28817b8",
   "metadata": {},
   "outputs": [],
   "source": [
    "numeric_features.remove('vit_stat_int')"
   ]
  },
  {
   "cell_type": "code",
   "execution_count": 99,
   "id": "3595f489",
   "metadata": {},
   "outputs": [],
   "source": [
    "#df.info()"
   ]
  },
  {
   "cell_type": "code",
   "execution_count": 100,
   "id": "774754ae",
   "metadata": {},
   "outputs": [],
   "source": [
    "df = df.drop(df.loc[df['survival_5Y'].isnull()].index)"
   ]
  },
  {
   "cell_type": "code",
   "execution_count": 101,
   "id": "b6d18924",
   "metadata": {},
   "outputs": [],
   "source": [
    "df[numeric_features] = df[numeric_features].fillna(df[numeric_features].median())"
   ]
  },
  {
   "cell_type": "code",
   "execution_count": 102,
   "id": "95818938",
   "metadata": {},
   "outputs": [],
   "source": [
    "df[categorical_features] = df[categorical_features].fillna('missing')"
   ]
  },
  {
   "cell_type": "code",
   "execution_count": 103,
   "id": "792826b1",
   "metadata": {},
   "outputs": [],
   "source": [
    "df[categorical_features] = df[categorical_features].astype('str')"
   ]
  },
  {
   "cell_type": "code",
   "execution_count": 104,
   "id": "183021d9",
   "metadata": {},
   "outputs": [],
   "source": [
    "df_fin = df.copy()"
   ]
  },
  {
   "cell_type": "markdown",
   "id": "1b8f6f5c",
   "metadata": {},
   "source": [
    "<a id='knnsurv'></a>\n",
    "### KNN"
   ]
  },
  {
   "cell_type": "code",
   "execution_count": 105,
   "id": "31758d86",
   "metadata": {},
   "outputs": [],
   "source": [
    "def preprocess(df):\n",
    "    df_mod = pd.merge(df[categorical_features], df[numeric_features], left_index=True, right_index=True)\n",
    "    df_mod = df_mod.join(df['survival_5Y'])\n",
    "    return df_mod"
   ]
  },
  {
   "cell_type": "code",
   "execution_count": 106,
   "id": "0d3b31b0",
   "metadata": {},
   "outputs": [],
   "source": [
    "df = preprocess(df)"
   ]
  },
  {
   "cell_type": "code",
   "execution_count": 107,
   "id": "f309fd5f",
   "metadata": {},
   "outputs": [],
   "source": [
    "X = df.drop('survival_5Y', axis = 1)"
   ]
  },
  {
   "cell_type": "code",
   "execution_count": 108,
   "id": "fac2cd48",
   "metadata": {},
   "outputs": [],
   "source": [
    "X = pd.get_dummies(X,drop_first=False)"
   ]
  },
  {
   "cell_type": "code",
   "execution_count": 109,
   "id": "a023c0c7",
   "metadata": {},
   "outputs": [],
   "source": [
    "y = df['survival_5Y']"
   ]
  },
  {
   "cell_type": "code",
   "execution_count": 110,
   "id": "15b6a535",
   "metadata": {},
   "outputs": [],
   "source": [
    "from sklearn.model_selection import train_test_split\n",
    "X_train, X_test, y_train, y_test = train_test_split(X, y, test_size=TEST_SIZE, random_state=RANDOM_STATE)"
   ]
  },
  {
   "cell_type": "code",
   "execution_count": 111,
   "id": "07280cef",
   "metadata": {},
   "outputs": [],
   "source": [
    "scaler = StandardScaler()"
   ]
  },
  {
   "cell_type": "code",
   "execution_count": 112,
   "id": "dea07b1b",
   "metadata": {},
   "outputs": [],
   "source": [
    "X_train = scaler.fit_transform(X_train)\n",
    "X_test = scaler.transform(X_test)"
   ]
  },
  {
   "cell_type": "code",
   "execution_count": 113,
   "id": "ff018e2a",
   "metadata": {},
   "outputs": [],
   "source": [
    "model_KNN = KNeighborsClassifier()"
   ]
  },
  {
   "cell_type": "code",
   "execution_count": 114,
   "id": "b882b223",
   "metadata": {},
   "outputs": [
    {
     "data": {
      "text/html": [
       "<style>#sk-d453f97d-28dd-4ff6-9989-9a1bce03f154 {color: black;background-color: white;}#sk-d453f97d-28dd-4ff6-9989-9a1bce03f154 pre{padding: 0;}#sk-d453f97d-28dd-4ff6-9989-9a1bce03f154 div.sk-toggleable {background-color: white;}#sk-d453f97d-28dd-4ff6-9989-9a1bce03f154 label.sk-toggleable__label {cursor: pointer;display: block;width: 100%;margin-bottom: 0;padding: 0.3em;box-sizing: border-box;text-align: center;}#sk-d453f97d-28dd-4ff6-9989-9a1bce03f154 label.sk-toggleable__label-arrow:before {content: \"▸\";float: left;margin-right: 0.25em;color: #696969;}#sk-d453f97d-28dd-4ff6-9989-9a1bce03f154 label.sk-toggleable__label-arrow:hover:before {color: black;}#sk-d453f97d-28dd-4ff6-9989-9a1bce03f154 div.sk-estimator:hover label.sk-toggleable__label-arrow:before {color: black;}#sk-d453f97d-28dd-4ff6-9989-9a1bce03f154 div.sk-toggleable__content {max-height: 0;max-width: 0;overflow: hidden;text-align: left;background-color: #f0f8ff;}#sk-d453f97d-28dd-4ff6-9989-9a1bce03f154 div.sk-toggleable__content pre {margin: 0.2em;color: black;border-radius: 0.25em;background-color: #f0f8ff;}#sk-d453f97d-28dd-4ff6-9989-9a1bce03f154 input.sk-toggleable__control:checked~div.sk-toggleable__content {max-height: 200px;max-width: 100%;overflow: auto;}#sk-d453f97d-28dd-4ff6-9989-9a1bce03f154 input.sk-toggleable__control:checked~label.sk-toggleable__label-arrow:before {content: \"▾\";}#sk-d453f97d-28dd-4ff6-9989-9a1bce03f154 div.sk-estimator input.sk-toggleable__control:checked~label.sk-toggleable__label {background-color: #d4ebff;}#sk-d453f97d-28dd-4ff6-9989-9a1bce03f154 div.sk-label input.sk-toggleable__control:checked~label.sk-toggleable__label {background-color: #d4ebff;}#sk-d453f97d-28dd-4ff6-9989-9a1bce03f154 input.sk-hidden--visually {border: 0;clip: rect(1px 1px 1px 1px);clip: rect(1px, 1px, 1px, 1px);height: 1px;margin: -1px;overflow: hidden;padding: 0;position: absolute;width: 1px;}#sk-d453f97d-28dd-4ff6-9989-9a1bce03f154 div.sk-estimator {font-family: monospace;background-color: #f0f8ff;border: 1px dotted black;border-radius: 0.25em;box-sizing: border-box;margin-bottom: 0.5em;}#sk-d453f97d-28dd-4ff6-9989-9a1bce03f154 div.sk-estimator:hover {background-color: #d4ebff;}#sk-d453f97d-28dd-4ff6-9989-9a1bce03f154 div.sk-parallel-item::after {content: \"\";width: 100%;border-bottom: 1px solid gray;flex-grow: 1;}#sk-d453f97d-28dd-4ff6-9989-9a1bce03f154 div.sk-label:hover label.sk-toggleable__label {background-color: #d4ebff;}#sk-d453f97d-28dd-4ff6-9989-9a1bce03f154 div.sk-serial::before {content: \"\";position: absolute;border-left: 1px solid gray;box-sizing: border-box;top: 2em;bottom: 0;left: 50%;}#sk-d453f97d-28dd-4ff6-9989-9a1bce03f154 div.sk-serial {display: flex;flex-direction: column;align-items: center;background-color: white;padding-right: 0.2em;padding-left: 0.2em;}#sk-d453f97d-28dd-4ff6-9989-9a1bce03f154 div.sk-item {z-index: 1;}#sk-d453f97d-28dd-4ff6-9989-9a1bce03f154 div.sk-parallel {display: flex;align-items: stretch;justify-content: center;background-color: white;}#sk-d453f97d-28dd-4ff6-9989-9a1bce03f154 div.sk-parallel::before {content: \"\";position: absolute;border-left: 1px solid gray;box-sizing: border-box;top: 2em;bottom: 0;left: 50%;}#sk-d453f97d-28dd-4ff6-9989-9a1bce03f154 div.sk-parallel-item {display: flex;flex-direction: column;position: relative;background-color: white;}#sk-d453f97d-28dd-4ff6-9989-9a1bce03f154 div.sk-parallel-item:first-child::after {align-self: flex-end;width: 50%;}#sk-d453f97d-28dd-4ff6-9989-9a1bce03f154 div.sk-parallel-item:last-child::after {align-self: flex-start;width: 50%;}#sk-d453f97d-28dd-4ff6-9989-9a1bce03f154 div.sk-parallel-item:only-child::after {width: 0;}#sk-d453f97d-28dd-4ff6-9989-9a1bce03f154 div.sk-dashed-wrapped {border: 1px dashed gray;margin: 0 0.4em 0.5em 0.4em;box-sizing: border-box;padding-bottom: 0.4em;background-color: white;position: relative;}#sk-d453f97d-28dd-4ff6-9989-9a1bce03f154 div.sk-label label {font-family: monospace;font-weight: bold;background-color: white;display: inline-block;line-height: 1.2em;}#sk-d453f97d-28dd-4ff6-9989-9a1bce03f154 div.sk-label-container {position: relative;z-index: 2;text-align: center;}#sk-d453f97d-28dd-4ff6-9989-9a1bce03f154 div.sk-container {/* jupyter's `normalize.less` sets `[hidden] { display: none; }` but bootstrap.min.css set `[hidden] { display: none !important; }` so we also need the `!important` here to be able to override the default hidden behavior on the sphinx rendered scikit-learn.org. See: https://github.com/scikit-learn/scikit-learn/issues/21755 */display: inline-block !important;position: relative;}#sk-d453f97d-28dd-4ff6-9989-9a1bce03f154 div.sk-text-repr-fallback {display: none;}</style><div id=\"sk-d453f97d-28dd-4ff6-9989-9a1bce03f154\" class=\"sk-top-container\"><div class=\"sk-text-repr-fallback\"><pre>KNeighborsClassifier()</pre><b>Please rerun this cell to show the HTML repr or trust the notebook.</b></div><div class=\"sk-container\" hidden><div class=\"sk-item\"><div class=\"sk-estimator sk-toggleable\"><input class=\"sk-toggleable__control sk-hidden--visually\" id=\"388f17cf-4ea1-4ec6-a10e-5ade43ec8154\" type=\"checkbox\" checked><label for=\"388f17cf-4ea1-4ec6-a10e-5ade43ec8154\" class=\"sk-toggleable__label sk-toggleable__label-arrow\">KNeighborsClassifier</label><div class=\"sk-toggleable__content\"><pre>KNeighborsClassifier()</pre></div></div></div></div></div>"
      ],
      "text/plain": [
       "KNeighborsClassifier()"
      ]
     },
     "execution_count": 114,
     "metadata": {},
     "output_type": "execute_result"
    }
   ],
   "source": [
    "model_KNN.fit(X_train, y_train)"
   ]
  },
  {
   "cell_type": "code",
   "execution_count": 115,
   "id": "c76b26ba",
   "metadata": {},
   "outputs": [],
   "source": [
    "y_pred_knn =model_KNN.predict(X_test)"
   ]
  },
  {
   "cell_type": "code",
   "execution_count": 116,
   "id": "cd50c703",
   "metadata": {},
   "outputs": [
    {
     "data": {
      "text/plain": [
       "array([[  82, 1006],\n",
       "       [ 154, 5154]], dtype=int64)"
      ]
     },
     "execution_count": 116,
     "metadata": {},
     "output_type": "execute_result"
    }
   ],
   "source": [
    "confusion_matrix(y_test,y_pred_knn)"
   ]
  },
  {
   "cell_type": "code",
   "execution_count": 117,
   "id": "3482f056",
   "metadata": {},
   "outputs": [
    {
     "name": "stdout",
     "output_type": "stream",
     "text": [
      "              precision    recall  f1-score   support\n",
      "\n",
      "         0.0       0.35      0.08      0.12      1088\n",
      "         1.0       0.84      0.97      0.90      5308\n",
      "\n",
      "    accuracy                           0.82      6396\n",
      "   macro avg       0.59      0.52      0.51      6396\n",
      "weighted avg       0.75      0.82      0.77      6396\n",
      "\n"
     ]
    }
   ],
   "source": [
    "print(classification_report(y_test,y_pred_knn))"
   ]
  },
  {
   "cell_type": "code",
   "execution_count": 118,
   "id": "f4a61b23",
   "metadata": {},
   "outputs": [
    {
     "data": {
      "image/png": "[encoded data removed]",
      "text/plain": [
       "<Figure size 432x288 with 1 Axes>"
      ]
     },
     "metadata": {
      "needs_background": "light"
     },
     "output_type": "display_data"
    }
   ],
   "source": [
    "knn_disp = RocCurveDisplay.from_estimator(model_KNN, X_test, y_test)"
   ]
  },
  {
   "cell_type": "markdown",
   "id": "c94756a1",
   "metadata": {},
   "source": [
    "<a id='rfsurv'></a>\n",
    "### Random Forest"
   ]
  },
  {
   "cell_type": "code",
   "execution_count": 119,
   "id": "fc29327e",
   "metadata": {},
   "outputs": [],
   "source": [
    "model_RF = RandomForestClassifier()"
   ]
  },
  {
   "cell_type": "code",
   "execution_count": 120,
   "id": "a25fae9d",
   "metadata": {},
   "outputs": [
    {
     "data": {
      "text/html": [
       "<style>#sk-8c410676-9bc1-4278-8abd-4c8bd1f18a27 {color: black;background-color: white;}#sk-8c410676-9bc1-4278-8abd-4c8bd1f18a27 pre{padding: 0;}#sk-8c410676-9bc1-4278-8abd-4c8bd1f18a27 div.sk-toggleable {background-color: white;}#sk-8c410676-9bc1-4278-8abd-4c8bd1f18a27 label.sk-toggleable__label {cursor: pointer;display: block;width: 100%;margin-bottom: 0;padding: 0.3em;box-sizing: border-box;text-align: center;}#sk-8c410676-9bc1-4278-8abd-4c8bd1f18a27 label.sk-toggleable__label-arrow:before {content: \"▸\";float: left;margin-right: 0.25em;color: #696969;}#sk-8c410676-9bc1-4278-8abd-4c8bd1f18a27 label.sk-toggleable__label-arrow:hover:before {color: black;}#sk-8c410676-9bc1-4278-8abd-4c8bd1f18a27 div.sk-estimator:hover label.sk-toggleable__label-arrow:before {color: black;}#sk-8c410676-9bc1-4278-8abd-4c8bd1f18a27 div.sk-toggleable__content {max-height: 0;max-width: 0;overflow: hidden;text-align: left;background-color: #f0f8ff;}#sk-8c410676-9bc1-4278-8abd-4c8bd1f18a27 div.sk-toggleable__content pre {margin: 0.2em;color: black;border-radius: 0.25em;background-color: #f0f8ff;}#sk-8c410676-9bc1-4278-8abd-4c8bd1f18a27 input.sk-toggleable__control:checked~div.sk-toggleable__content {max-height: 200px;max-width: 100%;overflow: auto;}#sk-8c410676-9bc1-4278-8abd-4c8bd1f18a27 input.sk-toggleable__control:checked~label.sk-toggleable__label-arrow:before {content: \"▾\";}#sk-8c410676-9bc1-4278-8abd-4c8bd1f18a27 div.sk-estimator input.sk-toggleable__control:checked~label.sk-toggleable__label {background-color: #d4ebff;}#sk-8c410676-9bc1-4278-8abd-4c8bd1f18a27 div.sk-label input.sk-toggleable__control:checked~label.sk-toggleable__label {background-color: #d4ebff;}#sk-8c410676-9bc1-4278-8abd-4c8bd1f18a27 input.sk-hidden--visually {border: 0;clip: rect(1px 1px 1px 1px);clip: rect(1px, 1px, 1px, 1px);height: 1px;margin: -1px;overflow: hidden;padding: 0;position: absolute;width: 1px;}#sk-8c410676-9bc1-4278-8abd-4c8bd1f18a27 div.sk-estimator {font-family: monospace;background-color: #f0f8ff;border: 1px dotted black;border-radius: 0.25em;box-sizing: border-box;margin-bottom: 0.5em;}#sk-8c410676-9bc1-4278-8abd-4c8bd1f18a27 div.sk-estimator:hover {background-color: #d4ebff;}#sk-8c410676-9bc1-4278-8abd-4c8bd1f18a27 div.sk-parallel-item::after {content: \"\";width: 100%;border-bottom: 1px solid gray;flex-grow: 1;}#sk-8c410676-9bc1-4278-8abd-4c8bd1f18a27 div.sk-label:hover label.sk-toggleable__label {background-color: #d4ebff;}#sk-8c410676-9bc1-4278-8abd-4c8bd1f18a27 div.sk-serial::before {content: \"\";position: absolute;border-left: 1px solid gray;box-sizing: border-box;top: 2em;bottom: 0;left: 50%;}#sk-8c410676-9bc1-4278-8abd-4c8bd1f18a27 div.sk-serial {display: flex;flex-direction: column;align-items: center;background-color: white;padding-right: 0.2em;padding-left: 0.2em;}#sk-8c410676-9bc1-4278-8abd-4c8bd1f18a27 div.sk-item {z-index: 1;}#sk-8c410676-9bc1-4278-8abd-4c8bd1f18a27 div.sk-parallel {display: flex;align-items: stretch;justify-content: center;background-color: white;}#sk-8c410676-9bc1-4278-8abd-4c8bd1f18a27 div.sk-parallel::before {content: \"\";position: absolute;border-left: 1px solid gray;box-sizing: border-box;top: 2em;bottom: 0;left: 50%;}#sk-8c410676-9bc1-4278-8abd-4c8bd1f18a27 div.sk-parallel-item {display: flex;flex-direction: column;position: relative;background-color: white;}#sk-8c410676-9bc1-4278-8abd-4c8bd1f18a27 div.sk-parallel-item:first-child::after {align-self: flex-end;width: 50%;}#sk-8c410676-9bc1-4278-8abd-4c8bd1f18a27 div.sk-parallel-item:last-child::after {align-self: flex-start;width: 50%;}#sk-8c410676-9bc1-4278-8abd-4c8bd1f18a27 div.sk-parallel-item:only-child::after {width: 0;}#sk-8c410676-9bc1-4278-8abd-4c8bd1f18a27 div.sk-dashed-wrapped {border: 1px dashed gray;margin: 0 0.4em 0.5em 0.4em;box-sizing: border-box;padding-bottom: 0.4em;background-color: white;position: relative;}#sk-8c410676-9bc1-4278-8abd-4c8bd1f18a27 div.sk-label label {font-family: monospace;font-weight: bold;background-color: white;display: inline-block;line-height: 1.2em;}#sk-8c410676-9bc1-4278-8abd-4c8bd1f18a27 div.sk-label-container {position: relative;z-index: 2;text-align: center;}#sk-8c410676-9bc1-4278-8abd-4c8bd1f18a27 div.sk-container {/* jupyter's `normalize.less` sets `[hidden] { display: none; }` but bootstrap.min.css set `[hidden] { display: none !important; }` so we also need the `!important` here to be able to override the default hidden behavior on the sphinx rendered scikit-learn.org. See: https://github.com/scikit-learn/scikit-learn/issues/21755 */display: inline-block !important;position: relative;}#sk-8c410676-9bc1-4278-8abd-4c8bd1f18a27 div.sk-text-repr-fallback {display: none;}</style><div id=\"sk-8c410676-9bc1-4278-8abd-4c8bd1f18a27\" class=\"sk-top-container\"><div class=\"sk-text-repr-fallback\"><pre>RandomForestClassifier()</pre><b>Please rerun this cell to show the HTML repr or trust the notebook.</b></div><div class=\"sk-container\" hidden><div class=\"sk-item\"><div class=\"sk-estimator sk-toggleable\"><input class=\"sk-toggleable__control sk-hidden--visually\" id=\"cbcf078c-74b2-4386-9ac2-2f462d1c451b\" type=\"checkbox\" checked><label for=\"cbcf078c-74b2-4386-9ac2-2f462d1c451b\" class=\"sk-toggleable__label sk-toggleable__label-arrow\">RandomForestClassifier</label><div class=\"sk-toggleable__content\"><pre>RandomForestClassifier()</pre></div></div></div></div></div>"
      ],
      "text/plain": [
       "RandomForestClassifier()"
      ]
     },
     "execution_count": 120,
     "metadata": {},
     "output_type": "execute_result"
    }
   ],
   "source": [
    "model_RF.fit(X_train, y_train)"
   ]
  },
  {
   "cell_type": "code",
   "execution_count": 121,
   "id": "460df890",
   "metadata": {},
   "outputs": [],
   "source": [
    "y_pred_rf = model_RF.predict(X_test)"
   ]
  },
  {
   "cell_type": "code",
   "execution_count": 122,
   "id": "a76b0498",
   "metadata": {},
   "outputs": [
    {
     "data": {
      "text/plain": [
       "array([[ 226,  862],\n",
       "       [ 194, 5114]], dtype=int64)"
      ]
     },
     "execution_count": 122,
     "metadata": {},
     "output_type": "execute_result"
    }
   ],
   "source": [
    "confusion_matrix(y_test, y_pred_rf)"
   ]
  },
  {
   "cell_type": "code",
   "execution_count": 123,
   "id": "874e0c90",
   "metadata": {},
   "outputs": [
    {
     "name": "stdout",
     "output_type": "stream",
     "text": [
      "              precision    recall  f1-score   support\n",
      "\n",
      "         0.0       0.54      0.21      0.30      1088\n",
      "         1.0       0.86      0.96      0.91      5308\n",
      "\n",
      "    accuracy                           0.83      6396\n",
      "   macro avg       0.70      0.59      0.60      6396\n",
      "weighted avg       0.80      0.83      0.80      6396\n",
      "\n"
     ]
    }
   ],
   "source": [
    "print(classification_report(y_test,y_pred_rf))"
   ]
  },
  {
   "cell_type": "code",
   "execution_count": 124,
   "id": "9fac18ae",
   "metadata": {},
   "outputs": [
    {
     "data": {
      "image/png": "[encoded data removed]",
      "text/plain": [
       "<Figure size 432x288 with 1 Axes>"
      ]
     },
     "metadata": {
      "needs_background": "light"
     },
     "output_type": "display_data"
    }
   ],
   "source": [
    "rf_disp = RocCurveDisplay.from_estimator(model_RF, X_test, y_test)"
   ]
  },
  {
   "cell_type": "code",
   "execution_count": 125,
   "id": "8d8334ac",
   "metadata": {},
   "outputs": [
    {
     "data": {
      "text/plain": [
       "<sklearn.metrics._plot.precision_recall_curve.PrecisionRecallDisplay at 0x1fbdc0c7fa0>"
      ]
     },
     "execution_count": 125,
     "metadata": {},
     "output_type": "execute_result"
    },
    {
     "data": {
      "image/png": "[encoded data removed]",
      "text/plain": [
       "<Figure size 432x288 with 1 Axes>"
      ]
     },
     "metadata": {
      "needs_background": "light"
     },
     "output_type": "display_data"
    }
   ],
   "source": [
    "plot_precision_recall_curve(model_RF, X_test, y_test)"
   ]
  },
  {
   "cell_type": "markdown",
   "id": "4b9db8c6",
   "metadata": {},
   "source": [
    "<a id='gbsurv'></a>\n",
    "### Gradient Boosting"
   ]
  },
  {
   "cell_type": "code",
   "execution_count": 126,
   "id": "ae05265e",
   "metadata": {},
   "outputs": [],
   "source": [
    "model_GB_surv = GradientBoostingClassifier()"
   ]
  },
  {
   "cell_type": "code",
   "execution_count": 127,
   "id": "f0c733a5",
   "metadata": {},
   "outputs": [
    {
     "data": {
      "text/html": [
       "<style>#sk-554d1723-3625-42e6-82bd-454b04d73c10 {color: black;background-color: white;}#sk-554d1723-3625-42e6-82bd-454b04d73c10 pre{padding: 0;}#sk-554d1723-3625-42e6-82bd-454b04d73c10 div.sk-toggleable {background-color: white;}#sk-554d1723-3625-42e6-82bd-454b04d73c10 label.sk-toggleable__label {cursor: pointer;display: block;width: 100%;margin-bottom: 0;padding: 0.3em;box-sizing: border-box;text-align: center;}#sk-554d1723-3625-42e6-82bd-454b04d73c10 label.sk-toggleable__label-arrow:before {content: \"▸\";float: left;margin-right: 0.25em;color: #696969;}#sk-554d1723-3625-42e6-82bd-454b04d73c10 label.sk-toggleable__label-arrow:hover:before {color: black;}#sk-554d1723-3625-42e6-82bd-454b04d73c10 div.sk-estimator:hover label.sk-toggleable__label-arrow:before {color: black;}#sk-554d1723-3625-42e6-82bd-454b04d73c10 div.sk-toggleable__content {max-height: 0;max-width: 0;overflow: hidden;text-align: left;background-color: #f0f8ff;}#sk-554d1723-3625-42e6-82bd-454b04d73c10 div.sk-toggleable__content pre {margin: 0.2em;color: black;border-radius: 0.25em;background-color: #f0f8ff;}#sk-554d1723-3625-42e6-82bd-454b04d73c10 input.sk-toggleable__control:checked~div.sk-toggleable__content {max-height: 200px;max-width: 100%;overflow: auto;}#sk-554d1723-3625-42e6-82bd-454b04d73c10 input.sk-toggleable__control:checked~label.sk-toggleable__label-arrow:before {content: \"▾\";}#sk-554d1723-3625-42e6-82bd-454b04d73c10 div.sk-estimator input.sk-toggleable__control:checked~label.sk-toggleable__label {background-color: #d4ebff;}#sk-554d1723-3625-42e6-82bd-454b04d73c10 div.sk-label input.sk-toggleable__control:checked~label.sk-toggleable__label {background-color: #d4ebff;}#sk-554d1723-3625-42e6-82bd-454b04d73c10 input.sk-hidden--visually {border: 0;clip: rect(1px 1px 1px 1px);clip: rect(1px, 1px, 1px, 1px);height: 1px;margin: -1px;overflow: hidden;padding: 0;position: absolute;width: 1px;}#sk-554d1723-3625-42e6-82bd-454b04d73c10 div.sk-estimator {font-family: monospace;background-color: #f0f8ff;border: 1px dotted black;border-radius: 0.25em;box-sizing: border-box;margin-bottom: 0.5em;}#sk-554d1723-3625-42e6-82bd-454b04d73c10 div.sk-estimator:hover {background-color: #d4ebff;}#sk-554d1723-3625-42e6-82bd-454b04d73c10 div.sk-parallel-item::after {content: \"\";width: 100%;border-bottom: 1px solid gray;flex-grow: 1;}#sk-554d1723-3625-42e6-82bd-454b04d73c10 div.sk-label:hover label.sk-toggleable__label {background-color: #d4ebff;}#sk-554d1723-3625-42e6-82bd-454b04d73c10 div.sk-serial::before {content: \"\";position: absolute;border-left: 1px solid gray;box-sizing: border-box;top: 2em;bottom: 0;left: 50%;}#sk-554d1723-3625-42e6-82bd-454b04d73c10 div.sk-serial {display: flex;flex-direction: column;align-items: center;background-color: white;padding-right: 0.2em;padding-left: 0.2em;}#sk-554d1723-3625-42e6-82bd-454b04d73c10 div.sk-item {z-index: 1;}#sk-554d1723-3625-42e6-82bd-454b04d73c10 div.sk-parallel {display: flex;align-items: stretch;justify-content: center;background-color: white;}#sk-554d1723-3625-42e6-82bd-454b04d73c10 div.sk-parallel::before {content: \"\";position: absolute;border-left: 1px solid gray;box-sizing: border-box;top: 2em;bottom: 0;left: 50%;}#sk-554d1723-3625-42e6-82bd-454b04d73c10 div.sk-parallel-item {display: flex;flex-direction: column;position: relative;background-color: white;}#sk-554d1723-3625-42e6-82bd-454b04d73c10 div.sk-parallel-item:first-child::after {align-self: flex-end;width: 50%;}#sk-554d1723-3625-42e6-82bd-454b04d73c10 div.sk-parallel-item:last-child::after {align-self: flex-start;width: 50%;}#sk-554d1723-3625-42e6-82bd-454b04d73c10 div.sk-parallel-item:only-child::after {width: 0;}#sk-554d1723-3625-42e6-82bd-454b04d73c10 div.sk-dashed-wrapped {border: 1px dashed gray;margin: 0 0.4em 0.5em 0.4em;box-sizing: border-box;padding-bottom: 0.4em;background-color: white;position: relative;}#sk-554d1723-3625-42e6-82bd-454b04d73c10 div.sk-label label {font-family: monospace;font-weight: bold;background-color: white;display: inline-block;line-height: 1.2em;}#sk-554d1723-3625-42e6-82bd-454b04d73c10 div.sk-label-container {position: relative;z-index: 2;text-align: center;}#sk-554d1723-3625-42e6-82bd-454b04d73c10 div.sk-container {/* jupyter's `normalize.less` sets `[hidden] { display: none; }` but bootstrap.min.css set `[hidden] { display: none !important; }` so we also need the `!important` here to be able to override the default hidden behavior on the sphinx rendered scikit-learn.org. See: https://github.com/scikit-learn/scikit-learn/issues/21755 */display: inline-block !important;position: relative;}#sk-554d1723-3625-42e6-82bd-454b04d73c10 div.sk-text-repr-fallback {display: none;}</style><div id=\"sk-554d1723-3625-42e6-82bd-454b04d73c10\" class=\"sk-top-container\"><div class=\"sk-text-repr-fallback\"><pre>GradientBoostingClassifier()</pre><b>Please rerun this cell to show the HTML repr or trust the notebook.</b></div><div class=\"sk-container\" hidden><div class=\"sk-item\"><div class=\"sk-estimator sk-toggleable\"><input class=\"sk-toggleable__control sk-hidden--visually\" id=\"b2f8ebeb-5459-4e76-83e9-212d4f0739c5\" type=\"checkbox\" checked><label for=\"b2f8ebeb-5459-4e76-83e9-212d4f0739c5\" class=\"sk-toggleable__label sk-toggleable__label-arrow\">GradientBoostingClassifier</label><div class=\"sk-toggleable__content\"><pre>GradientBoostingClassifier()</pre></div></div></div></div></div>"
      ],
      "text/plain": [
       "GradientBoostingClassifier()"
      ]
     },
     "execution_count": 127,
     "metadata": {},
     "output_type": "execute_result"
    }
   ],
   "source": [
    "model_GB_surv.fit(X_train,y_train)"
   ]
  },
  {
   "cell_type": "code",
   "execution_count": 128,
   "id": "d68f90e3",
   "metadata": {},
   "outputs": [],
   "source": [
    "y_pred_gb_surv = model_GB_surv.predict(X_test)"
   ]
  },
  {
   "cell_type": "code",
   "execution_count": 129,
   "id": "f09c24bd",
   "metadata": {},
   "outputs": [
    {
     "data": {
      "text/plain": [
       "array([[ 282,  806],\n",
       "       [ 249, 5059]], dtype=int64)"
      ]
     },
     "execution_count": 129,
     "metadata": {},
     "output_type": "execute_result"
    }
   ],
   "source": [
    "confusion_matrix(y_test, y_pred_gb_surv)"
   ]
  },
  {
   "cell_type": "code",
   "execution_count": 130,
   "id": "6e2d1792",
   "metadata": {},
   "outputs": [
    {
     "name": "stdout",
     "output_type": "stream",
     "text": [
      "              precision    recall  f1-score   support\n",
      "\n",
      "         0.0       0.53      0.26      0.35      1088\n",
      "         1.0       0.86      0.95      0.91      5308\n",
      "\n",
      "    accuracy                           0.84      6396\n",
      "   macro avg       0.70      0.61      0.63      6396\n",
      "weighted avg       0.81      0.84      0.81      6396\n",
      "\n"
     ]
    }
   ],
   "source": [
    "print(classification_report(y_test,y_pred_gb_surv))"
   ]
  },
  {
   "cell_type": "code",
   "execution_count": 131,
   "id": "f7b029fc",
   "metadata": {},
   "outputs": [
    {
     "data": {
      "image/png": "[encoded data removed]",
      "text/plain": [
       "<Figure size 432x288 with 1 Axes>"
      ]
     },
     "metadata": {
      "needs_background": "light"
     },
     "output_type": "display_data"
    }
   ],
   "source": [
    "gb_disp = RocCurveDisplay.from_estimator(model_GB_surv, X_test, y_test)"
   ]
  },
  {
   "cell_type": "code",
   "execution_count": 132,
   "id": "ad9a45fe",
   "metadata": {},
   "outputs": [
    {
     "data": {
      "text/plain": [
       "<sklearn.metrics._plot.precision_recall_curve.PrecisionRecallDisplay at 0x1fbdd51dee0>"
      ]
     },
     "execution_count": 132,
     "metadata": {},
     "output_type": "execute_result"
    },
    {
     "data": {
      "image/png": "[encoded data removed]",
      "text/plain": [
       "<Figure size 432x288 with 1 Axes>"
      ]
     },
     "metadata": {
      "needs_background": "light"
     },
     "output_type": "display_data"
    }
   ],
   "source": [
    "plot_precision_recall_curve(model_GB_surv, X_test, y_test)"
   ]
  },
  {
   "cell_type": "markdown",
   "id": "7ae43129",
   "metadata": {},
   "source": [
    "<a id='lrsurv'></a>\n",
    "### Logistic regression"
   ]
  },
  {
   "cell_type": "code",
   "execution_count": 133,
   "id": "025286db",
   "metadata": {},
   "outputs": [],
   "source": [
    "df = df_fin"
   ]
  },
  {
   "cell_type": "code",
   "execution_count": 134,
   "id": "1ec1081a",
   "metadata": {},
   "outputs": [],
   "source": [
    "def preprocess2(df):\n",
    "    dfmod = pd.merge(df[categorical_features], df[numeric_features], left_index=True, right_index=True)\n",
    "    dfmod = dfmod.join(df['survival_5Y'])\n",
    "    return dfmod"
   ]
  },
  {
   "cell_type": "code",
   "execution_count": 135,
   "id": "bd2cb6d7",
   "metadata": {},
   "outputs": [],
   "source": [
    "df = preprocess2(df)"
   ]
  },
  {
   "cell_type": "code",
   "execution_count": 136,
   "id": "90d44bc6",
   "metadata": {},
   "outputs": [
    {
     "data": {
      "text/plain": [
       "Index(['tumsoort', 'diag_basis', 'topo_sublok', 'later', 'morf',\n",
       "       'uitgebr_chir_code', 'chemo', 'target', 'horm', 'rt', 'leeft', 'incjr',\n",
       "       'ond_lymf', 'pos_lymf', 'tum_afm', 'gedrag', 'diffgrad', 'cm', 'pm',\n",
       "       'er_stat', 'pr_stat', 'her2_stat', 'dcis_comp', 'multifoc', 'swk',\n",
       "       'swk_uitslag', 'mari', 'mari_uitslag', 'okd', 'org_chir',\n",
       "       'dir_reconstr', 'meta_rt', 'meta_chir', 'ct_ord', 'cn_ord', 'pt_ord',\n",
       "       'pn_ord', 'stadium_ord', 'cstadium_ord', 'pstadium_ord', 'survival_5Y'],\n",
       "      dtype='object')"
      ]
     },
     "execution_count": 136,
     "metadata": {},
     "output_type": "execute_result"
    }
   ],
   "source": [
    "df.columns"
   ]
  },
  {
   "cell_type": "code",
   "execution_count": 137,
   "id": "5c179185",
   "metadata": {},
   "outputs": [],
   "source": [
    "X = pd.get_dummies(X,drop_first=False)"
   ]
  },
  {
   "cell_type": "code",
   "execution_count": 138,
   "id": "89e53fd4",
   "metadata": {},
   "outputs": [],
   "source": [
    "y = df['survival_5Y']"
   ]
  },
  {
   "cell_type": "code",
   "execution_count": 139,
   "id": "05827873",
   "metadata": {},
   "outputs": [],
   "source": [
    "from sklearn.model_selection import train_test_split\n",
    "X_train, X_test, y_train, y_test = train_test_split(X, y, test_size=TEST_SIZE, random_state=RANDOM_STATE)"
   ]
  },
  {
   "cell_type": "code",
   "execution_count": 140,
   "id": "32f5052d",
   "metadata": {},
   "outputs": [],
   "source": [
    "scaler = StandardScaler()"
   ]
  },
  {
   "cell_type": "code",
   "execution_count": 141,
   "id": "5233f563",
   "metadata": {},
   "outputs": [],
   "source": [
    "X_train = scaler.fit_transform(X_train)\n",
    "X_test = scaler.transform(X_test)"
   ]
  },
  {
   "cell_type": "code",
   "execution_count": 142,
   "id": "c158ae94",
   "metadata": {},
   "outputs": [],
   "source": [
    "model_LR_surv = LogisticRegressionCV()"
   ]
  },
  {
   "cell_type": "code",
   "execution_count": 143,
   "id": "66becb3f",
   "metadata": {},
   "outputs": [
    {
     "data": {
      "text/html": [
       "<style>#sk-82c8c8bd-bc0c-415e-91b2-e02109deac33 {color: black;background-color: white;}#sk-82c8c8bd-bc0c-415e-91b2-e02109deac33 pre{padding: 0;}#sk-82c8c8bd-bc0c-415e-91b2-e02109deac33 div.sk-toggleable {background-color: white;}#sk-82c8c8bd-bc0c-415e-91b2-e02109deac33 label.sk-toggleable__label {cursor: pointer;display: block;width: 100%;margin-bottom: 0;padding: 0.3em;box-sizing: border-box;text-align: center;}#sk-82c8c8bd-bc0c-415e-91b2-e02109deac33 label.sk-toggleable__label-arrow:before {content: \"▸\";float: left;margin-right: 0.25em;color: #696969;}#sk-82c8c8bd-bc0c-415e-91b2-e02109deac33 label.sk-toggleable__label-arrow:hover:before {color: black;}#sk-82c8c8bd-bc0c-415e-91b2-e02109deac33 div.sk-estimator:hover label.sk-toggleable__label-arrow:before {color: black;}#sk-82c8c8bd-bc0c-415e-91b2-e02109deac33 div.sk-toggleable__content {max-height: 0;max-width: 0;overflow: hidden;text-align: left;background-color: #f0f8ff;}#sk-82c8c8bd-bc0c-415e-91b2-e02109deac33 div.sk-toggleable__content pre {margin: 0.2em;color: black;border-radius: 0.25em;background-color: #f0f8ff;}#sk-82c8c8bd-bc0c-415e-91b2-e02109deac33 input.sk-toggleable__control:checked~div.sk-toggleable__content {max-height: 200px;max-width: 100%;overflow: auto;}#sk-82c8c8bd-bc0c-415e-91b2-e02109deac33 input.sk-toggleable__control:checked~label.sk-toggleable__label-arrow:before {content: \"▾\";}#sk-82c8c8bd-bc0c-415e-91b2-e02109deac33 div.sk-estimator input.sk-toggleable__control:checked~label.sk-toggleable__label {background-color: #d4ebff;}#sk-82c8c8bd-bc0c-415e-91b2-e02109deac33 div.sk-label input.sk-toggleable__control:checked~label.sk-toggleable__label {background-color: #d4ebff;}#sk-82c8c8bd-bc0c-415e-91b2-e02109deac33 input.sk-hidden--visually {border: 0;clip: rect(1px 1px 1px 1px);clip: rect(1px, 1px, 1px, 1px);height: 1px;margin: -1px;overflow: hidden;padding: 0;position: absolute;width: 1px;}#sk-82c8c8bd-bc0c-415e-91b2-e02109deac33 div.sk-estimator {font-family: monospace;background-color: #f0f8ff;border: 1px dotted black;border-radius: 0.25em;box-sizing: border-box;margin-bottom: 0.5em;}#sk-82c8c8bd-bc0c-415e-91b2-e02109deac33 div.sk-estimator:hover {background-color: #d4ebff;}#sk-82c8c8bd-bc0c-415e-91b2-e02109deac33 div.sk-parallel-item::after {content: \"\";width: 100%;border-bottom: 1px solid gray;flex-grow: 1;}#sk-82c8c8bd-bc0c-415e-91b2-e02109deac33 div.sk-label:hover label.sk-toggleable__label {background-color: #d4ebff;}#sk-82c8c8bd-bc0c-415e-91b2-e02109deac33 div.sk-serial::before {content: \"\";position: absolute;border-left: 1px solid gray;box-sizing: border-box;top: 2em;bottom: 0;left: 50%;}#sk-82c8c8bd-bc0c-415e-91b2-e02109deac33 div.sk-serial {display: flex;flex-direction: column;align-items: center;background-color: white;padding-right: 0.2em;padding-left: 0.2em;}#sk-82c8c8bd-bc0c-415e-91b2-e02109deac33 div.sk-item {z-index: 1;}#sk-82c8c8bd-bc0c-415e-91b2-e02109deac33 div.sk-parallel {display: flex;align-items: stretch;justify-content: center;background-color: white;}#sk-82c8c8bd-bc0c-415e-91b2-e02109deac33 div.sk-parallel::before {content: \"\";position: absolute;border-left: 1px solid gray;box-sizing: border-box;top: 2em;bottom: 0;left: 50%;}#sk-82c8c8bd-bc0c-415e-91b2-e02109deac33 div.sk-parallel-item {display: flex;flex-direction: column;position: relative;background-color: white;}#sk-82c8c8bd-bc0c-415e-91b2-e02109deac33 div.sk-parallel-item:first-child::after {align-self: flex-end;width: 50%;}#sk-82c8c8bd-bc0c-415e-91b2-e02109deac33 div.sk-parallel-item:last-child::after {align-self: flex-start;width: 50%;}#sk-82c8c8bd-bc0c-415e-91b2-e02109deac33 div.sk-parallel-item:only-child::after {width: 0;}#sk-82c8c8bd-bc0c-415e-91b2-e02109deac33 div.sk-dashed-wrapped {border: 1px dashed gray;margin: 0 0.4em 0.5em 0.4em;box-sizing: border-box;padding-bottom: 0.4em;background-color: white;position: relative;}#sk-82c8c8bd-bc0c-415e-91b2-e02109deac33 div.sk-label label {font-family: monospace;font-weight: bold;background-color: white;display: inline-block;line-height: 1.2em;}#sk-82c8c8bd-bc0c-415e-91b2-e02109deac33 div.sk-label-container {position: relative;z-index: 2;text-align: center;}#sk-82c8c8bd-bc0c-415e-91b2-e02109deac33 div.sk-container {/* jupyter's `normalize.less` sets `[hidden] { display: none; }` but bootstrap.min.css set `[hidden] { display: none !important; }` so we also need the `!important` here to be able to override the default hidden behavior on the sphinx rendered scikit-learn.org. See: https://github.com/scikit-learn/scikit-learn/issues/21755 */display: inline-block !important;position: relative;}#sk-82c8c8bd-bc0c-415e-91b2-e02109deac33 div.sk-text-repr-fallback {display: none;}</style><div id=\"sk-82c8c8bd-bc0c-415e-91b2-e02109deac33\" class=\"sk-top-container\"><div class=\"sk-text-repr-fallback\"><pre>LogisticRegressionCV()</pre><b>Please rerun this cell to show the HTML repr or trust the notebook.</b></div><div class=\"sk-container\" hidden><div class=\"sk-item\"><div class=\"sk-estimator sk-toggleable\"><input class=\"sk-toggleable__control sk-hidden--visually\" id=\"1a3c3bce-7d92-47e4-a137-50e4658f8049\" type=\"checkbox\" checked><label for=\"1a3c3bce-7d92-47e4-a137-50e4658f8049\" class=\"sk-toggleable__label sk-toggleable__label-arrow\">LogisticRegressionCV</label><div class=\"sk-toggleable__content\"><pre>LogisticRegressionCV()</pre></div></div></div></div></div>"
      ],
      "text/plain": [
       "LogisticRegressionCV()"
      ]
     },
     "execution_count": 143,
     "metadata": {},
     "output_type": "execute_result"
    }
   ],
   "source": [
    "model_LR_surv.fit(X_train,y_train)"
   ]
  },
  {
   "cell_type": "code",
   "execution_count": 144,
   "id": "5e3e9fa1",
   "metadata": {},
   "outputs": [],
   "source": [
    "y_pred_lr_surv = model_LR_surv.predict(X_test)"
   ]
  },
  {
   "cell_type": "code",
   "execution_count": 145,
   "id": "5df4d0fb",
   "metadata": {},
   "outputs": [
    {
     "data": {
      "text/plain": [
       "array([[  42, 1046],\n",
       "       [  27, 5281]], dtype=int64)"
      ]
     },
     "execution_count": 145,
     "metadata": {},
     "output_type": "execute_result"
    }
   ],
   "source": [
    "confusion_matrix(y_test, y_pred_lr_surv)"
   ]
  },
  {
   "cell_type": "code",
   "execution_count": 146,
   "id": "e414c73c",
   "metadata": {},
   "outputs": [
    {
     "name": "stdout",
     "output_type": "stream",
     "text": [
      "              precision    recall  f1-score   support\n",
      "\n",
      "         0.0       0.61      0.04      0.07      1088\n",
      "         1.0       0.83      0.99      0.91      5308\n",
      "\n",
      "    accuracy                           0.83      6396\n",
      "   macro avg       0.72      0.52      0.49      6396\n",
      "weighted avg       0.80      0.83      0.77      6396\n",
      "\n"
     ]
    }
   ],
   "source": [
    "print(classification_report(y_test,y_pred_lr_surv))"
   ]
  },
  {
   "cell_type": "code",
   "execution_count": 147,
   "id": "6caf6776",
   "metadata": {},
   "outputs": [
    {
     "data": {
      "image/png": "[encoded data removed]",
      "text/plain": [
       "<Figure size 432x288 with 1 Axes>"
      ]
     },
     "metadata": {
      "needs_background": "light"
     },
     "output_type": "display_data"
    }
   ],
   "source": [
    "lr_disp = RocCurveDisplay.from_estimator(model_LR_surv, X_test, y_test)"
   ]
  },
  {
   "cell_type": "code",
   "execution_count": 148,
   "id": "4d5a9277",
   "metadata": {},
   "outputs": [
    {
     "data": {
      "text/plain": [
       "<sklearn.metrics._plot.precision_recall_curve.PrecisionRecallDisplay at 0x1fbdd5ea160>"
      ]
     },
     "execution_count": 148,
     "metadata": {},
     "output_type": "execute_result"
    },
    {
     "data": {
      "image/png": "[encoded data removed]",
      "text/plain": [
       "<Figure size 432x288 with 1 Axes>"
      ]
     },
     "metadata": {
      "needs_background": "light"
     },
     "output_type": "display_data"
    }
   ],
   "source": [
    "plot_precision_recall_curve(model_LR_surv, X_test, y_test)"
   ]
  },
  {
   "cell_type": "code",
   "execution_count": 149,
   "id": "81500983",
   "metadata": {},
   "outputs": [
    {
     "data": {
      "text/plain": [
       "{'Cs': 10,\n",
       " 'class_weight': None,\n",
       " 'cv': None,\n",
       " 'dual': False,\n",
       " 'fit_intercept': True,\n",
       " 'intercept_scaling': 1.0,\n",
       " 'l1_ratios': None,\n",
       " 'max_iter': 100,\n",
       " 'multi_class': 'auto',\n",
       " 'n_jobs': None,\n",
       " 'penalty': 'l2',\n",
       " 'random_state': None,\n",
       " 'refit': True,\n",
       " 'scoring': None,\n",
       " 'solver': 'lbfgs',\n",
       " 'tol': 0.0001,\n",
       " 'verbose': 0}"
      ]
     },
     "execution_count": 149,
     "metadata": {},
     "output_type": "execute_result"
    }
   ],
   "source": [
    "model_LR_surv.get_params()"
   ]
  },
  {
   "cell_type": "code",
   "execution_count": 150,
   "id": "a46ff38b",
   "metadata": {},
   "outputs": [
    {
     "data": {
      "text/html": [
       "<div>\n",
       "<style scoped>\n",
       "    .dataframe tbody tr th:only-of-type {\n",
       "        vertical-align: middle;\n",
       "    }\n",
       "\n",
       "    .dataframe tbody tr th {\n",
       "        vertical-align: top;\n",
       "    }\n",
       "\n",
       "    .dataframe thead th {\n",
       "        text-align: right;\n",
       "    }\n",
       "</style>\n",
       "<table border=\"1\" class=\"dataframe\">\n",
       "  <thead>\n",
       "    <tr style=\"text-align: right;\">\n",
       "      <th></th>\n",
       "      <th>Coef</th>\n",
       "    </tr>\n",
       "  </thead>\n",
       "  <tbody>\n",
       "    <tr>\n",
       "      <th>leeft</th>\n",
       "      <td>-0.677862</td>\n",
       "    </tr>\n",
       "    <tr>\n",
       "      <th>mari</th>\n",
       "      <td>-0.169195</td>\n",
       "    </tr>\n",
       "    <tr>\n",
       "      <th>gedrag</th>\n",
       "      <td>-0.150028</td>\n",
       "    </tr>\n",
       "    <tr>\n",
       "      <th>tumsoort_501300</th>\n",
       "      <td>-0.066439</td>\n",
       "    </tr>\n",
       "    <tr>\n",
       "      <th>horm_4.0</th>\n",
       "      <td>-0.023370</td>\n",
       "    </tr>\n",
       "    <tr>\n",
       "      <th>morf_8010</th>\n",
       "      <td>-0.021640</td>\n",
       "    </tr>\n",
       "    <tr>\n",
       "      <th>ct_ord</th>\n",
       "      <td>-0.021352</td>\n",
       "    </tr>\n",
       "    <tr>\n",
       "      <th>morf_8401</th>\n",
       "      <td>-0.019275</td>\n",
       "    </tr>\n",
       "    <tr>\n",
       "      <th>later_missing</th>\n",
       "      <td>-0.016645</td>\n",
       "    </tr>\n",
       "    <tr>\n",
       "      <th>morf_8201</th>\n",
       "      <td>-0.015993</td>\n",
       "    </tr>\n",
       "    <tr>\n",
       "      <th>uitgebr_chir_code_141C50</th>\n",
       "      <td>-0.015919</td>\n",
       "    </tr>\n",
       "    <tr>\n",
       "      <th>cstadium_ord</th>\n",
       "      <td>-0.015579</td>\n",
       "    </tr>\n",
       "    <tr>\n",
       "      <th>topo_sublok_C509</th>\n",
       "      <td>-0.014559</td>\n",
       "    </tr>\n",
       "    <tr>\n",
       "      <th>morf_8200</th>\n",
       "      <td>-0.014452</td>\n",
       "    </tr>\n",
       "    <tr>\n",
       "      <th>morf_8480</th>\n",
       "      <td>-0.013064</td>\n",
       "    </tr>\n",
       "    <tr>\n",
       "      <th>okd</th>\n",
       "      <td>-0.012482</td>\n",
       "    </tr>\n",
       "    <tr>\n",
       "      <th>cm</th>\n",
       "      <td>-0.012003</td>\n",
       "    </tr>\n",
       "    <tr>\n",
       "      <th>target_3.0</th>\n",
       "      <td>-0.011741</td>\n",
       "    </tr>\n",
       "    <tr>\n",
       "      <th>pt_ord</th>\n",
       "      <td>-0.011573</td>\n",
       "    </tr>\n",
       "    <tr>\n",
       "      <th>chemo_4.0</th>\n",
       "      <td>-0.011028</td>\n",
       "    </tr>\n",
       "    <tr>\n",
       "      <th>morf_8540</th>\n",
       "      <td>-0.010333</td>\n",
       "    </tr>\n",
       "    <tr>\n",
       "      <th>morf_8523</th>\n",
       "      <td>-0.010261</td>\n",
       "    </tr>\n",
       "    <tr>\n",
       "      <th>pstadium_ord</th>\n",
       "      <td>-0.009635</td>\n",
       "    </tr>\n",
       "    <tr>\n",
       "      <th>morf_8543</th>\n",
       "      <td>-0.009513</td>\n",
       "    </tr>\n",
       "    <tr>\n",
       "      <th>morf_8524</th>\n",
       "      <td>-0.009166</td>\n",
       "    </tr>\n",
       "    <tr>\n",
       "      <th>ond_lymf</th>\n",
       "      <td>-0.009016</td>\n",
       "    </tr>\n",
       "    <tr>\n",
       "      <th>topo_sublok_C502</th>\n",
       "      <td>-0.008729</td>\n",
       "    </tr>\n",
       "    <tr>\n",
       "      <th>topo_sublok_C504</th>\n",
       "      <td>-0.008470</td>\n",
       "    </tr>\n",
       "    <tr>\n",
       "      <th>morf_8521</th>\n",
       "      <td>-0.008318</td>\n",
       "    </tr>\n",
       "    <tr>\n",
       "      <th>rt_2.0</th>\n",
       "      <td>-0.008128</td>\n",
       "    </tr>\n",
       "    <tr>\n",
       "      <th>diag_basis_2</th>\n",
       "      <td>-0.007819</td>\n",
       "    </tr>\n",
       "    <tr>\n",
       "      <th>swk</th>\n",
       "      <td>-0.006825</td>\n",
       "    </tr>\n",
       "    <tr>\n",
       "      <th>morf_8507</th>\n",
       "      <td>-0.006811</td>\n",
       "    </tr>\n",
       "    <tr>\n",
       "      <th>morf_8501</th>\n",
       "      <td>-0.006238</td>\n",
       "    </tr>\n",
       "    <tr>\n",
       "      <th>pr_stat</th>\n",
       "      <td>-0.006116</td>\n",
       "    </tr>\n",
       "    <tr>\n",
       "      <th>target_1.0</th>\n",
       "      <td>-0.005957</td>\n",
       "    </tr>\n",
       "    <tr>\n",
       "      <th>pn_ord</th>\n",
       "      <td>-0.005829</td>\n",
       "    </tr>\n",
       "    <tr>\n",
       "      <th>morf_8983</th>\n",
       "      <td>-0.005450</td>\n",
       "    </tr>\n",
       "    <tr>\n",
       "      <th>stadium_ord</th>\n",
       "      <td>-0.005308</td>\n",
       "    </tr>\n",
       "    <tr>\n",
       "      <th>horm_1.0</th>\n",
       "      <td>-0.004761</td>\n",
       "    </tr>\n",
       "    <tr>\n",
       "      <th>chemo_1.0</th>\n",
       "      <td>-0.004562</td>\n",
       "    </tr>\n",
       "    <tr>\n",
       "      <th>morf_8503</th>\n",
       "      <td>-0.004474</td>\n",
       "    </tr>\n",
       "    <tr>\n",
       "      <th>morf_8522</th>\n",
       "      <td>-0.004355</td>\n",
       "    </tr>\n",
       "    <tr>\n",
       "      <th>rt_1.0</th>\n",
       "      <td>-0.004193</td>\n",
       "    </tr>\n",
       "    <tr>\n",
       "      <th>uitgebr_chir_code_missing</th>\n",
       "      <td>-0.004112</td>\n",
       "    </tr>\n",
       "    <tr>\n",
       "      <th>topo_sublok_C503</th>\n",
       "      <td>-0.002710</td>\n",
       "    </tr>\n",
       "    <tr>\n",
       "      <th>uitgebr_chir_code_190000</th>\n",
       "      <td>-0.002655</td>\n",
       "    </tr>\n",
       "    <tr>\n",
       "      <th>morf_8211</th>\n",
       "      <td>-0.002617</td>\n",
       "    </tr>\n",
       "    <tr>\n",
       "      <th>topo_sublok_C508</th>\n",
       "      <td>-0.002554</td>\n",
       "    </tr>\n",
       "    <tr>\n",
       "      <th>diffgrad</th>\n",
       "      <td>-0.002483</td>\n",
       "    </tr>\n",
       "    <tr>\n",
       "      <th>diag_basis_6</th>\n",
       "      <td>-0.002443</td>\n",
       "    </tr>\n",
       "    <tr>\n",
       "      <th>swk_uitslag</th>\n",
       "      <td>-0.002245</td>\n",
       "    </tr>\n",
       "    <tr>\n",
       "      <th>org_chir</th>\n",
       "      <td>-0.002126</td>\n",
       "    </tr>\n",
       "    <tr>\n",
       "      <th>multifoc</th>\n",
       "      <td>-0.001141</td>\n",
       "    </tr>\n",
       "    <tr>\n",
       "      <th>er_stat</th>\n",
       "      <td>-0.001022</td>\n",
       "    </tr>\n",
       "    <tr>\n",
       "      <th>chemo_2.0</th>\n",
       "      <td>-0.000195</td>\n",
       "    </tr>\n",
       "    <tr>\n",
       "      <th>horm_2.0</th>\n",
       "      <td>-0.000084</td>\n",
       "    </tr>\n",
       "    <tr>\n",
       "      <th>morf_8510</th>\n",
       "      <td>0.000745</td>\n",
       "    </tr>\n",
       "    <tr>\n",
       "      <th>morf_8980</th>\n",
       "      <td>0.001331</td>\n",
       "    </tr>\n",
       "    <tr>\n",
       "      <th>later_1.0</th>\n",
       "      <td>0.001396</td>\n",
       "    </tr>\n",
       "    <tr>\n",
       "      <th>morf_8481</th>\n",
       "      <td>0.001922</td>\n",
       "    </tr>\n",
       "    <tr>\n",
       "      <th>diag_basis_7</th>\n",
       "      <td>0.002379</td>\n",
       "    </tr>\n",
       "    <tr>\n",
       "      <th>morf_8982</th>\n",
       "      <td>0.002713</td>\n",
       "    </tr>\n",
       "    <tr>\n",
       "      <th>target_2.0</th>\n",
       "      <td>0.002928</td>\n",
       "    </tr>\n",
       "    <tr>\n",
       "      <th>morf_8500</th>\n",
       "      <td>0.003167</td>\n",
       "    </tr>\n",
       "    <tr>\n",
       "      <th>chemo_0.0</th>\n",
       "      <td>0.003345</td>\n",
       "    </tr>\n",
       "    <tr>\n",
       "      <th>later_2.0</th>\n",
       "      <td>0.003497</td>\n",
       "    </tr>\n",
       "    <tr>\n",
       "      <th>morf_8260</th>\n",
       "      <td>0.003968</td>\n",
       "    </tr>\n",
       "    <tr>\n",
       "      <th>target_4.0</th>\n",
       "      <td>0.004030</td>\n",
       "    </tr>\n",
       "    <tr>\n",
       "      <th>morf_8520</th>\n",
       "      <td>0.004277</td>\n",
       "    </tr>\n",
       "    <tr>\n",
       "      <th>target_0.0</th>\n",
       "      <td>0.004481</td>\n",
       "    </tr>\n",
       "    <tr>\n",
       "      <th>pm</th>\n",
       "      <td>0.004742</td>\n",
       "    </tr>\n",
       "    <tr>\n",
       "      <th>diag_basis_5</th>\n",
       "      <td>0.005701</td>\n",
       "    </tr>\n",
       "    <tr>\n",
       "      <th>her2_stat</th>\n",
       "      <td>0.005778</td>\n",
       "    </tr>\n",
       "    <tr>\n",
       "      <th>tumsoort_503200</th>\n",
       "      <td>0.005858</td>\n",
       "    </tr>\n",
       "    <tr>\n",
       "      <th>meta_rt</th>\n",
       "      <td>0.005914</td>\n",
       "    </tr>\n",
       "    <tr>\n",
       "      <th>uitgebr_chir_code_142C50</th>\n",
       "      <td>0.006134</td>\n",
       "    </tr>\n",
       "    <tr>\n",
       "      <th>uitgebr_chir_code_132C50</th>\n",
       "      <td>0.006306</td>\n",
       "    </tr>\n",
       "    <tr>\n",
       "      <th>mari_uitslag</th>\n",
       "      <td>0.006307</td>\n",
       "    </tr>\n",
       "    <tr>\n",
       "      <th>rt_4.0</th>\n",
       "      <td>0.006759</td>\n",
       "    </tr>\n",
       "    <tr>\n",
       "      <th>meta_chir</th>\n",
       "      <td>0.006833</td>\n",
       "    </tr>\n",
       "    <tr>\n",
       "      <th>dcis_comp</th>\n",
       "      <td>0.006851</td>\n",
       "    </tr>\n",
       "    <tr>\n",
       "      <th>rt_0.0</th>\n",
       "      <td>0.007676</td>\n",
       "    </tr>\n",
       "    <tr>\n",
       "      <th>uitgebr_chir_code_131C50</th>\n",
       "      <td>0.007824</td>\n",
       "    </tr>\n",
       "    <tr>\n",
       "      <th>pos_lymf</th>\n",
       "      <td>0.009190</td>\n",
       "    </tr>\n",
       "    <tr>\n",
       "      <th>horm_0.0</th>\n",
       "      <td>0.009346</td>\n",
       "    </tr>\n",
       "    <tr>\n",
       "      <th>topo_sublok_C506</th>\n",
       "      <td>0.011369</td>\n",
       "    </tr>\n",
       "    <tr>\n",
       "      <th>morf_8140</th>\n",
       "      <td>0.011409</td>\n",
       "    </tr>\n",
       "    <tr>\n",
       "      <th>morf_8050</th>\n",
       "      <td>0.011855</td>\n",
       "    </tr>\n",
       "    <tr>\n",
       "      <th>cn_ord</th>\n",
       "      <td>0.011906</td>\n",
       "    </tr>\n",
       "    <tr>\n",
       "      <th>horm_3.0</th>\n",
       "      <td>0.011994</td>\n",
       "    </tr>\n",
       "    <tr>\n",
       "      <th>chemo_3.0</th>\n",
       "      <td>0.012285</td>\n",
       "    </tr>\n",
       "    <tr>\n",
       "      <th>morf_8509</th>\n",
       "      <td>0.012701</td>\n",
       "    </tr>\n",
       "    <tr>\n",
       "      <th>topo_sublok_C500</th>\n",
       "      <td>0.015309</td>\n",
       "    </tr>\n",
       "    <tr>\n",
       "      <th>topo_sublok_C505</th>\n",
       "      <td>0.016294</td>\n",
       "    </tr>\n",
       "    <tr>\n",
       "      <th>morf_8541</th>\n",
       "      <td>0.016634</td>\n",
       "    </tr>\n",
       "    <tr>\n",
       "      <th>morf_8504</th>\n",
       "      <td>0.017156</td>\n",
       "    </tr>\n",
       "    <tr>\n",
       "      <th>uitgebr_chir_code_315000</th>\n",
       "      <td>0.018782</td>\n",
       "    </tr>\n",
       "    <tr>\n",
       "      <th>topo_sublok_C501</th>\n",
       "      <td>0.018819</td>\n",
       "    </tr>\n",
       "    <tr>\n",
       "      <th>morf_8000</th>\n",
       "      <td>0.020137</td>\n",
       "    </tr>\n",
       "    <tr>\n",
       "      <th>tum_afm</th>\n",
       "      <td>0.020748</td>\n",
       "    </tr>\n",
       "    <tr>\n",
       "      <th>dir_reconstr</th>\n",
       "      <td>0.022091</td>\n",
       "    </tr>\n",
       "    <tr>\n",
       "      <th>morf_8575</th>\n",
       "      <td>0.030212</td>\n",
       "    </tr>\n",
       "    <tr>\n",
       "      <th>tumsoort_502200</th>\n",
       "      <td>0.067745</td>\n",
       "    </tr>\n",
       "    <tr>\n",
       "      <th>incjr</th>\n",
       "      <td>0.074331</td>\n",
       "    </tr>\n",
       "  </tbody>\n",
       "</table>\n",
       "</div>"
      ],
      "text/plain": [
       "                               Coef\n",
       "leeft                     -0.677862\n",
       "mari                      -0.169195\n",
       "gedrag                    -0.150028\n",
       "tumsoort_501300           -0.066439\n",
       "horm_4.0                  -0.023370\n",
       "morf_8010                 -0.021640\n",
       "ct_ord                    -0.021352\n",
       "morf_8401                 -0.019275\n",
       "later_missing             -0.016645\n",
       "morf_8201                 -0.015993\n",
       "uitgebr_chir_code_141C50  -0.015919\n",
       "cstadium_ord              -0.015579\n",
       "topo_sublok_C509          -0.014559\n",
       "morf_8200                 -0.014452\n",
       "morf_8480                 -0.013064\n",
       "okd                       -0.012482\n",
       "cm                        -0.012003\n",
       "target_3.0                -0.011741\n",
       "pt_ord                    -0.011573\n",
       "chemo_4.0                 -0.011028\n",
       "morf_8540                 -0.010333\n",
       "morf_8523                 -0.010261\n",
       "pstadium_ord              -0.009635\n",
       "morf_8543                 -0.009513\n",
       "morf_8524                 -0.009166\n",
       "ond_lymf                  -0.009016\n",
       "topo_sublok_C502          -0.008729\n",
       "topo_sublok_C504          -0.008470\n",
       "morf_8521                 -0.008318\n",
       "rt_2.0                    -0.008128\n",
       "diag_basis_2              -0.007819\n",
       "swk                       -0.006825\n",
       "morf_8507                 -0.006811\n",
       "morf_8501                 -0.006238\n",
       "pr_stat                   -0.006116\n",
       "target_1.0                -0.005957\n",
       "pn_ord                    -0.005829\n",
       "morf_8983                 -0.005450\n",
       "stadium_ord               -0.005308\n",
       "horm_1.0                  -0.004761\n",
       "chemo_1.0                 -0.004562\n",
       "morf_8503                 -0.004474\n",
       "morf_8522                 -0.004355\n",
       "rt_1.0                    -0.004193\n",
       "uitgebr_chir_code_missing -0.004112\n",
       "topo_sublok_C503          -0.002710\n",
       "uitgebr_chir_code_190000  -0.002655\n",
       "morf_8211                 -0.002617\n",
       "topo_sublok_C508          -0.002554\n",
       "diffgrad                  -0.002483\n",
       "diag_basis_6              -0.002443\n",
       "swk_uitslag               -0.002245\n",
       "org_chir                  -0.002126\n",
       "multifoc                  -0.001141\n",
       "er_stat                   -0.001022\n",
       "chemo_2.0                 -0.000195\n",
       "horm_2.0                  -0.000084\n",
       "morf_8510                  0.000745\n",
       "morf_8980                  0.001331\n",
       "later_1.0                  0.001396\n",
       "morf_8481                  0.001922\n",
       "diag_basis_7               0.002379\n",
       "morf_8982                  0.002713\n",
       "target_2.0                 0.002928\n",
       "morf_8500                  0.003167\n",
       "chemo_0.0                  0.003345\n",
       "later_2.0                  0.003497\n",
       "morf_8260                  0.003968\n",
       "target_4.0                 0.004030\n",
       "morf_8520                  0.004277\n",
       "target_0.0                 0.004481\n",
       "pm                         0.004742\n",
       "diag_basis_5               0.005701\n",
       "her2_stat                  0.005778\n",
       "tumsoort_503200            0.005858\n",
       "meta_rt                    0.005914\n",
       "uitgebr_chir_code_142C50   0.006134\n",
       "uitgebr_chir_code_132C50   0.006306\n",
       "mari_uitslag               0.006307\n",
       "rt_4.0                     0.006759\n",
       "meta_chir                  0.006833\n",
       "dcis_comp                  0.006851\n",
       "rt_0.0                     0.007676\n",
       "uitgebr_chir_code_131C50   0.007824\n",
       "pos_lymf                   0.009190\n",
       "horm_0.0                   0.009346\n",
       "topo_sublok_C506           0.011369\n",
       "morf_8140                  0.011409\n",
       "morf_8050                  0.011855\n",
       "cn_ord                     0.011906\n",
       "horm_3.0                   0.011994\n",
       "chemo_3.0                  0.012285\n",
       "morf_8509                  0.012701\n",
       "topo_sublok_C500           0.015309\n",
       "topo_sublok_C505           0.016294\n",
       "morf_8541                  0.016634\n",
       "morf_8504                  0.017156\n",
       "uitgebr_chir_code_315000   0.018782\n",
       "topo_sublok_C501           0.018819\n",
       "morf_8000                  0.020137\n",
       "tum_afm                    0.020748\n",
       "dir_reconstr               0.022091\n",
       "morf_8575                  0.030212\n",
       "tumsoort_502200            0.067745\n",
       "incjr                      0.074331"
      ]
     },
     "execution_count": 150,
     "metadata": {},
     "output_type": "execute_result"
    }
   ],
   "source": [
    "coefs_LR_surv = pd.DataFrame(data = model_LR_surv.coef_[0], index=X.columns, columns = ['Coef']).sort_values(by = 'Coef')\n",
    "coefs_LR_surv"
   ]
  },
  {
   "cell_type": "code",
   "execution_count": 151,
   "id": "7c08e76b",
   "metadata": {},
   "outputs": [],
   "source": [
    "coefs_LR_surv = pd.concat([coefs_LR_surv.head(10), coefs_LR_surv.tail(10)], axis = 0)"
   ]
  },
  {
   "cell_type": "code",
   "execution_count": 152,
   "id": "8d54acd8",
   "metadata": {},
   "outputs": [
    {
     "data": {
      "image/png": "[encoded data removed]",
      "text/plain": [
       "<Figure size 720x432 with 1 Axes>"
      ]
     },
     "metadata": {
      "needs_background": "light"
     },
     "output_type": "display_data"
    }
   ],
   "source": [
    "plt.figure(figsize=(10,6))\n",
    "sns.barplot(data = coefs_LR_surv, x = coefs_LR_surv.index, y = 'Coef', color = 'navy' )\n",
    "plt.xticks(rotation = 90)\n",
    "plt.show()"
   ]
  },
  {
   "cell_type": "code",
   "execution_count": null,
   "id": "f575e502",
   "metadata": {},
   "outputs": [],
   "source": []
  }
 ],
 "metadata": {
  "kernelspec": {
   "display_name": "Python 3",
   "language": "python",
   "name": "python3"
  },
  "language_info": {
   "codemirror_mode": {
    "name": "ipython",
    "version": 3
   },
   "file_extension": ".py",
   "mimetype": "text/x-python",
   "name": "python",
   "nbconvert_exporter": "python",
   "pygments_lexer": "ipython3",
   "version": "3.8.8"
  }
 },
 "nbformat": 4,
 "nbformat_minor": 5
}
